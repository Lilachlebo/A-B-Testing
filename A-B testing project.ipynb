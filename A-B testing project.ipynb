{
 "cells": [
  {
   "cell_type": "markdown",
   "id": "b94bcf0c",
   "metadata": {},
   "source": [
    "# A/B testing- project description\n",
    "\n",
    "This project is a joint intiative of the data analysis and the marketing departments of a big online store.\n",
    "Together we have compiled a list of hypotheses that we hope may help boost revenue.\n",
    "The list includes 9 hypotheses regarding ways to do so.\n",
    "Our first goal was to calculate and find possible ways to prioritize some of the hypotheses in this list. \n",
    "Following doing so, A/B tests were conducted through-out the 31 days of August 2019. \n",
    "The results were saved to 2 datasets: orders and visits. \n",
    "The visits dataset included the daily data about: date, group and number of visits (62 rows of data, 31 per group).\n",
    "The order  dataset included un-aggragated data: date, group, visitorID, transactionID and revenue (1197 rows).\n",
    "Each dataset, hence, included data about both- the control group (A) and the test group (B).\n",
    "\n",
    "In the next part of the project, data was pre-processed. we changed data-types to better suit our goals, and also removed from the dataset users that were accidentaly exposed to both conditions.\n",
    "Next, we identified values of the relevant measures (order size and number of orders) which we suspected were abnormal outliers, and decided to remove them using a mild cut-off point of the 99th percentile.\n",
    "\n",
    "In the last part of the project, our goal was to assess whether the intervention performed on group B (the test group) yielded better results than the existing results achieved via the condition of group A (the control group). \n",
    "We chose two metrices:\n",
    "- The conversion rate\n",
    "- The average order size\n",
    "\n",
    "Results and conclusions will be provided in the conclusion section."
   ]
  },
  {
   "cell_type": "markdown",
   "id": "274dc376",
   "metadata": {},
   "source": [
    "### Loading libraries and data:"
   ]
  },
  {
   "cell_type": "code",
   "execution_count": 1,
   "id": "58afa7a4",
   "metadata": {},
   "outputs": [
    {
     "name": "stdout",
     "output_type": "stream",
     "text": [
      "Requirement already satisfied: kaleido in c:\\users\\user\\anaconda3\\lib\\site-packages (0.2.1)Note: you may need to restart the kernel to use updated packages.\n",
      "\n"
     ]
    }
   ],
   "source": [
    "pip install -U kaleido"
   ]
  },
  {
   "cell_type": "code",
   "execution_count": 2,
   "id": "e40488ae",
   "metadata": {},
   "outputs": [],
   "source": [
    "import pandas as pd\n",
    "import numpy as np\n",
    "import matplotlib.pyplot as plt\n",
    "from scipy import stats as st\n",
    "import scipy.stats as stats\n",
    "from statsmodels.stats.proportion import proportions_ztest\n",
    "import datetime as dt\n",
    "import math as mth\n",
    "import seaborn as sns\n",
    "import plotly.express as px\n",
    "import plotly.graph_objects as go\n",
    "from IPython.core.interactiveshell import InteractiveShell\n",
    "InteractiveShell.ast_node_interactivity = 'all'"
   ]
  },
  {
   "cell_type": "code",
   "execution_count": 3,
   "id": "fc9501eb",
   "metadata": {},
   "outputs": [],
   "source": [
    "try:\n",
    "    orders = pd.read_csv(r\"C:\\Users\\USER\\OneDrive\\מסמכים\\DATA ANALYST\\Practicum100\\Making Business Decisions Based on Data\\A-B testing project\\orders_us.csv\")\n",
    "    visits = pd.read_csv(r\"C:\\Users\\USER\\OneDrive\\מסמכים\\DATA ANALYST\\Practicum100\\Making Business Decisions Based on Data\\A-B testing project\\visits_us.csv\")\n",
    "    hypo = pd.read_csv(r\"C:\\Users\\USER\\OneDrive\\מסמכים\\DATA ANALYST\\Practicum100\\Making Business Decisions Based on Data\\A-B testing project\\hypotheses_us.csv\", sep=';')\n",
    "    \n",
    "except:\n",
    "    orders = pd.read_csv(\"/datasets/orders_us.csv\")\n",
    "    visits = pd.read_csv(\"/datasets/visits_us.csv\")\n",
    "    hypo = pd.read_csv(\"/datasets/hypotheses_us.csv\", sep=';')"
   ]
  },
  {
   "cell_type": "code",
   "execution_count": 4,
   "id": "f3b594d9",
   "metadata": {},
   "outputs": [],
   "source": [
    "pd.set_option('display.max_colwidth', None)"
   ]
  },
  {
   "cell_type": "code",
   "execution_count": 5,
   "id": "78b4dd45",
   "metadata": {},
   "outputs": [
    {
     "name": "stdout",
     "output_type": "stream",
     "text": [
      "hypotheses table\n"
     ]
    },
    {
     "data": {
      "text/html": [
       "<div>\n",
       "<style scoped>\n",
       "    .dataframe tbody tr th:only-of-type {\n",
       "        vertical-align: middle;\n",
       "    }\n",
       "\n",
       "    .dataframe tbody tr th {\n",
       "        vertical-align: top;\n",
       "    }\n",
       "\n",
       "    .dataframe thead th {\n",
       "        text-align: right;\n",
       "    }\n",
       "</style>\n",
       "<table border=\"1\" class=\"dataframe\">\n",
       "  <thead>\n",
       "    <tr style=\"text-align: right;\">\n",
       "      <th></th>\n",
       "      <th>Hypothesis</th>\n",
       "      <th>Reach</th>\n",
       "      <th>Impact</th>\n",
       "      <th>Confidence</th>\n",
       "      <th>Effort</th>\n",
       "    </tr>\n",
       "  </thead>\n",
       "  <tbody>\n",
       "    <tr>\n",
       "      <th>0</th>\n",
       "      <td>Add two new channels for attracting traffic. This will bring 30% more users</td>\n",
       "      <td>3</td>\n",
       "      <td>10</td>\n",
       "      <td>8</td>\n",
       "      <td>6</td>\n",
       "    </tr>\n",
       "    <tr>\n",
       "      <th>1</th>\n",
       "      <td>Launch your own delivery service. This will shorten delivery time</td>\n",
       "      <td>2</td>\n",
       "      <td>5</td>\n",
       "      <td>4</td>\n",
       "      <td>10</td>\n",
       "    </tr>\n",
       "    <tr>\n",
       "      <th>2</th>\n",
       "      <td>Add product recommendation blocks to the store's site. This will increase conversion and average purchase size</td>\n",
       "      <td>8</td>\n",
       "      <td>3</td>\n",
       "      <td>7</td>\n",
       "      <td>3</td>\n",
       "    </tr>\n",
       "    <tr>\n",
       "      <th>3</th>\n",
       "      <td>Change the category structure. This will increase conversion since users will find the products they want more quickly</td>\n",
       "      <td>8</td>\n",
       "      <td>3</td>\n",
       "      <td>3</td>\n",
       "      <td>8</td>\n",
       "    </tr>\n",
       "    <tr>\n",
       "      <th>4</th>\n",
       "      <td>Change the background color on the main page. This will increase user engagement</td>\n",
       "      <td>3</td>\n",
       "      <td>1</td>\n",
       "      <td>1</td>\n",
       "      <td>1</td>\n",
       "    </tr>\n",
       "    <tr>\n",
       "      <th>5</th>\n",
       "      <td>Add a customer review page. This will increase the number of orders</td>\n",
       "      <td>3</td>\n",
       "      <td>2</td>\n",
       "      <td>2</td>\n",
       "      <td>3</td>\n",
       "    </tr>\n",
       "    <tr>\n",
       "      <th>6</th>\n",
       "      <td>Show banners with current offers and sales on the main page. This will boost conversion</td>\n",
       "      <td>5</td>\n",
       "      <td>3</td>\n",
       "      <td>8</td>\n",
       "      <td>3</td>\n",
       "    </tr>\n",
       "    <tr>\n",
       "      <th>7</th>\n",
       "      <td>Add a subscription form to all the main pages. This will help you compile a mailing list</td>\n",
       "      <td>10</td>\n",
       "      <td>7</td>\n",
       "      <td>8</td>\n",
       "      <td>5</td>\n",
       "    </tr>\n",
       "    <tr>\n",
       "      <th>8</th>\n",
       "      <td>Launch a promotion that gives users discounts on their birthdays</td>\n",
       "      <td>1</td>\n",
       "      <td>9</td>\n",
       "      <td>9</td>\n",
       "      <td>5</td>\n",
       "    </tr>\n",
       "  </tbody>\n",
       "</table>\n",
       "</div>"
      ],
      "text/plain": [
       "                                                                                                               Hypothesis  \\\n",
       "0                                             Add two new channels for attracting traffic. This will bring 30% more users   \n",
       "1                                                       Launch your own delivery service. This will shorten delivery time   \n",
       "2          Add product recommendation blocks to the store's site. This will increase conversion and average purchase size   \n",
       "3  Change the category structure. This will increase conversion since users will find the products they want more quickly   \n",
       "4                                        Change the background color on the main page. This will increase user engagement   \n",
       "5                                                     Add a customer review page. This will increase the number of orders   \n",
       "6                                 Show banners with current offers and sales on the main page. This will boost conversion   \n",
       "7                                Add a subscription form to all the main pages. This will help you compile a mailing list   \n",
       "8                                                        Launch a promotion that gives users discounts on their birthdays   \n",
       "\n",
       "   Reach  Impact  Confidence  Effort  \n",
       "0      3      10           8       6  \n",
       "1      2       5           4      10  \n",
       "2      8       3           7       3  \n",
       "3      8       3           3       8  \n",
       "4      3       1           1       1  \n",
       "5      3       2           2       3  \n",
       "6      5       3           8       3  \n",
       "7     10       7           8       5  \n",
       "8      1       9           9       5  "
      ]
     },
     "execution_count": 5,
     "metadata": {},
     "output_type": "execute_result"
    },
    {
     "name": "stdout",
     "output_type": "stream",
     "text": [
      "\n",
      "visits table\n"
     ]
    },
    {
     "data": {
      "text/html": [
       "<div>\n",
       "<style scoped>\n",
       "    .dataframe tbody tr th:only-of-type {\n",
       "        vertical-align: middle;\n",
       "    }\n",
       "\n",
       "    .dataframe tbody tr th {\n",
       "        vertical-align: top;\n",
       "    }\n",
       "\n",
       "    .dataframe thead th {\n",
       "        text-align: right;\n",
       "    }\n",
       "</style>\n",
       "<table border=\"1\" class=\"dataframe\">\n",
       "  <thead>\n",
       "    <tr style=\"text-align: right;\">\n",
       "      <th></th>\n",
       "      <th>date</th>\n",
       "      <th>group</th>\n",
       "      <th>visits</th>\n",
       "    </tr>\n",
       "  </thead>\n",
       "  <tbody>\n",
       "    <tr>\n",
       "      <th>0</th>\n",
       "      <td>2019-08-01</td>\n",
       "      <td>A</td>\n",
       "      <td>719</td>\n",
       "    </tr>\n",
       "    <tr>\n",
       "      <th>1</th>\n",
       "      <td>2019-08-02</td>\n",
       "      <td>A</td>\n",
       "      <td>619</td>\n",
       "    </tr>\n",
       "    <tr>\n",
       "      <th>2</th>\n",
       "      <td>2019-08-03</td>\n",
       "      <td>A</td>\n",
       "      <td>507</td>\n",
       "    </tr>\n",
       "    <tr>\n",
       "      <th>3</th>\n",
       "      <td>2019-08-04</td>\n",
       "      <td>A</td>\n",
       "      <td>717</td>\n",
       "    </tr>\n",
       "    <tr>\n",
       "      <th>4</th>\n",
       "      <td>2019-08-05</td>\n",
       "      <td>A</td>\n",
       "      <td>756</td>\n",
       "    </tr>\n",
       "  </tbody>\n",
       "</table>\n",
       "</div>"
      ],
      "text/plain": [
       "         date group  visits\n",
       "0  2019-08-01     A     719\n",
       "1  2019-08-02     A     619\n",
       "2  2019-08-03     A     507\n",
       "3  2019-08-04     A     717\n",
       "4  2019-08-05     A     756"
      ]
     },
     "execution_count": 5,
     "metadata": {},
     "output_type": "execute_result"
    },
    {
     "name": "stdout",
     "output_type": "stream",
     "text": [
      "\n",
      "orders table\n"
     ]
    },
    {
     "data": {
      "text/html": [
       "<div>\n",
       "<style scoped>\n",
       "    .dataframe tbody tr th:only-of-type {\n",
       "        vertical-align: middle;\n",
       "    }\n",
       "\n",
       "    .dataframe tbody tr th {\n",
       "        vertical-align: top;\n",
       "    }\n",
       "\n",
       "    .dataframe thead th {\n",
       "        text-align: right;\n",
       "    }\n",
       "</style>\n",
       "<table border=\"1\" class=\"dataframe\">\n",
       "  <thead>\n",
       "    <tr style=\"text-align: right;\">\n",
       "      <th></th>\n",
       "      <th>transactionId</th>\n",
       "      <th>visitorId</th>\n",
       "      <th>date</th>\n",
       "      <th>revenue</th>\n",
       "      <th>group</th>\n",
       "    </tr>\n",
       "  </thead>\n",
       "  <tbody>\n",
       "    <tr>\n",
       "      <th>0</th>\n",
       "      <td>3667963787</td>\n",
       "      <td>3312258926</td>\n",
       "      <td>2019-08-15</td>\n",
       "      <td>30.4</td>\n",
       "      <td>B</td>\n",
       "    </tr>\n",
       "    <tr>\n",
       "      <th>1</th>\n",
       "      <td>2804400009</td>\n",
       "      <td>3642806036</td>\n",
       "      <td>2019-08-15</td>\n",
       "      <td>15.2</td>\n",
       "      <td>B</td>\n",
       "    </tr>\n",
       "    <tr>\n",
       "      <th>2</th>\n",
       "      <td>2961555356</td>\n",
       "      <td>4069496402</td>\n",
       "      <td>2019-08-15</td>\n",
       "      <td>10.2</td>\n",
       "      <td>A</td>\n",
       "    </tr>\n",
       "    <tr>\n",
       "      <th>3</th>\n",
       "      <td>3797467345</td>\n",
       "      <td>1196621759</td>\n",
       "      <td>2019-08-15</td>\n",
       "      <td>155.1</td>\n",
       "      <td>B</td>\n",
       "    </tr>\n",
       "    <tr>\n",
       "      <th>4</th>\n",
       "      <td>2282983706</td>\n",
       "      <td>2322279887</td>\n",
       "      <td>2019-08-15</td>\n",
       "      <td>40.5</td>\n",
       "      <td>B</td>\n",
       "    </tr>\n",
       "  </tbody>\n",
       "</table>\n",
       "</div>"
      ],
      "text/plain": [
       "   transactionId   visitorId        date  revenue group\n",
       "0     3667963787  3312258926  2019-08-15     30.4     B\n",
       "1     2804400009  3642806036  2019-08-15     15.2     B\n",
       "2     2961555356  4069496402  2019-08-15     10.2     A\n",
       "3     3797467345  1196621759  2019-08-15    155.1     B\n",
       "4     2282983706  2322279887  2019-08-15     40.5     B"
      ]
     },
     "execution_count": 5,
     "metadata": {},
     "output_type": "execute_result"
    }
   ],
   "source": [
    "# exploring tables:\n",
    "print ('hypotheses table')\n",
    "hypo\n",
    "print()\n",
    "print ('visits table')\n",
    "visits.head()\n",
    "print()\n",
    "print ('orders table')\n",
    "orders.head()"
   ]
  },
  {
   "cell_type": "markdown",
   "id": "db0913a9",
   "metadata": {},
   "source": [
    "## Preprocessing:\n",
    "There might be mistakes in the original\n",
    "datasets; for example, some of the visitors might have gotten into both group\n",
    "A and group B."
   ]
  },
  {
   "cell_type": "markdown",
   "id": "843251b4",
   "metadata": {},
   "source": [
    "### Visits:"
   ]
  },
  {
   "cell_type": "code",
   "execution_count": 6,
   "id": "04489a0c",
   "metadata": {},
   "outputs": [
    {
     "name": "stdout",
     "output_type": "stream",
     "text": [
      "<class 'pandas.core.frame.DataFrame'>\n",
      "RangeIndex: 62 entries, 0 to 61\n",
      "Data columns (total 3 columns):\n",
      " #   Column  Non-Null Count  Dtype \n",
      "---  ------  --------------  ----- \n",
      " 0   date    62 non-null     object\n",
      " 1   group   62 non-null     object\n",
      " 2   visits  62 non-null     int64 \n",
      "dtypes: int64(1), object(2)\n",
      "memory usage: 1.6+ KB\n"
     ]
    }
   ],
   "source": [
    "# looking into the visits table: the dtype of 'date' needs changing\n",
    "visits.info()"
   ]
  },
  {
   "cell_type": "code",
   "execution_count": 7,
   "id": "cc497e27",
   "metadata": {},
   "outputs": [
    {
     "name": "stdout",
     "output_type": "stream",
     "text": [
      "<class 'pandas.core.frame.DataFrame'>\n",
      "RangeIndex: 62 entries, 0 to 61\n",
      "Data columns (total 3 columns):\n",
      " #   Column  Non-Null Count  Dtype         \n",
      "---  ------  --------------  -----         \n",
      " 0   date    62 non-null     datetime64[ns]\n",
      " 1   group   62 non-null     object        \n",
      " 2   visits  62 non-null     int64         \n",
      "dtypes: datetime64[ns](1), int64(1), object(1)\n",
      "memory usage: 1.6+ KB\n"
     ]
    }
   ],
   "source": [
    "visits['date'] =  pd.to_datetime(visits['date'], format='%Y-%m-%d') \n",
    "visits.info()"
   ]
  },
  {
   "cell_type": "code",
   "execution_count": 8,
   "id": "7c23af2d",
   "metadata": {},
   "outputs": [
    {
     "data": {
      "text/plain": [
       "A    31\n",
       "B    31\n",
       "Name: group, dtype: int64"
      ]
     },
     "execution_count": 8,
     "metadata": {},
     "output_type": "execute_result"
    }
   ],
   "source": [
    "# learning the table: during the month (8/2019) there were 31 daily registrations per group\n",
    "visits['group'].value_counts()"
   ]
  },
  {
   "cell_type": "code",
   "execution_count": 9,
   "id": "c17c239a",
   "metadata": {},
   "outputs": [
    {
     "data": {
      "text/plain": [
       "0"
      ]
     },
     "execution_count": 9,
     "metadata": {},
     "output_type": "execute_result"
    }
   ],
   "source": [
    "visits.duplicated().sum()"
   ]
  },
  {
   "cell_type": "code",
   "execution_count": 10,
   "id": "11f9f6b9",
   "metadata": {},
   "outputs": [
    {
     "data": {
      "image/png": "[encoded data removed]",
      "text/plain": [
       "<Figure size 842.4x595.44 with 1 Axes>"
      ]
     },
     "metadata": {},
     "output_type": "display_data"
    }
   ],
   "source": [
    "# comparing the number of visitors per day between the two groups, throughout the month:\n",
    "# creating a grouped bar plot for the two groups:\n",
    "\n",
    "sns.set(style='white', rc={'figure.figsize':(11.7,8.27)})      \n",
    "graph = sns.barplot(x=visits['date'].dt.strftime('%Y-%m-%d'), y='visits', hue='group', data=visits).set(title=\"Daily users per group\")\n",
    "plt.xticks(rotation=90);\n"
   ]
  },
  {
   "cell_type": "markdown",
   "id": "4d143e5d",
   "metadata": {},
   "source": [
    "The bar-plot shows that:\n",
    "- the number of users varies greatly throughout the month for both groups.\n",
    "- the lowest number of visitors was registered on 16/8/19 for group A (around 360 visitors), and the highest numbers were both registered for group B (4/8, 13/8)- around 770 visitors.\n"
   ]
  },
  {
   "cell_type": "code",
   "execution_count": 11,
   "id": "320cde41",
   "metadata": {},
   "outputs": [
    {
     "data": {
      "text/html": [
       "<div>\n",
       "<style scoped>\n",
       "    .dataframe tbody tr th:only-of-type {\n",
       "        vertical-align: middle;\n",
       "    }\n",
       "\n",
       "    .dataframe tbody tr th {\n",
       "        vertical-align: top;\n",
       "    }\n",
       "\n",
       "    .dataframe thead tr th {\n",
       "        text-align: left;\n",
       "    }\n",
       "\n",
       "    .dataframe thead tr:last-of-type th {\n",
       "        text-align: right;\n",
       "    }\n",
       "</style>\n",
       "<table border=\"1\" class=\"dataframe\">\n",
       "  <thead>\n",
       "    <tr>\n",
       "      <th></th>\n",
       "      <th colspan=\"8\" halign=\"left\">visits</th>\n",
       "    </tr>\n",
       "    <tr>\n",
       "      <th></th>\n",
       "      <th>count</th>\n",
       "      <th>mean</th>\n",
       "      <th>std</th>\n",
       "      <th>min</th>\n",
       "      <th>25%</th>\n",
       "      <th>50%</th>\n",
       "      <th>75%</th>\n",
       "      <th>max</th>\n",
       "    </tr>\n",
       "    <tr>\n",
       "      <th>group</th>\n",
       "      <th></th>\n",
       "      <th></th>\n",
       "      <th></th>\n",
       "      <th></th>\n",
       "      <th></th>\n",
       "      <th></th>\n",
       "      <th></th>\n",
       "      <th></th>\n",
       "    </tr>\n",
       "  </thead>\n",
       "  <tbody>\n",
       "    <tr>\n",
       "      <th>A</th>\n",
       "      <td>31.0</td>\n",
       "      <td>604.387097</td>\n",
       "      <td>112.396227</td>\n",
       "      <td>361.0</td>\n",
       "      <td>541.0</td>\n",
       "      <td>619.0</td>\n",
       "      <td>705.0</td>\n",
       "      <td>756.0</td>\n",
       "    </tr>\n",
       "    <tr>\n",
       "      <th>B</th>\n",
       "      <td>31.0</td>\n",
       "      <td>610.193548</td>\n",
       "      <td>118.156230</td>\n",
       "      <td>369.0</td>\n",
       "      <td>537.0</td>\n",
       "      <td>654.0</td>\n",
       "      <td>711.0</td>\n",
       "      <td>770.0</td>\n",
       "    </tr>\n",
       "  </tbody>\n",
       "</table>\n",
       "</div>"
      ],
      "text/plain": [
       "      visits                                                           \n",
       "       count        mean         std    min    25%    50%    75%    max\n",
       "group                                                                  \n",
       "A       31.0  604.387097  112.396227  361.0  541.0  619.0  705.0  756.0\n",
       "B       31.0  610.193548  118.156230  369.0  537.0  654.0  711.0  770.0"
      ]
     },
     "execution_count": 11,
     "metadata": {},
     "output_type": "execute_result"
    }
   ],
   "source": [
    "# looking into descriptive statistics:\n",
    "visits.groupby('group').describe()\n"
   ]
  },
  {
   "cell_type": "code",
   "execution_count": 12,
   "id": "67f75e70",
   "metadata": {},
   "outputs": [
    {
     "data": {
      "text/plain": [
       "group\n",
       "A    18736\n",
       "B    18916\n",
       "Name: visits, dtype: int64"
      ]
     },
     "execution_count": 12,
     "metadata": {},
     "output_type": "execute_result"
    }
   ],
   "source": [
    "# total number of visitors per group\n",
    "visits.groupby('group')['visits'].sum()"
   ]
  },
  {
   "cell_type": "markdown",
   "id": "3eea7d60",
   "metadata": {},
   "source": [
    "### Orders:"
   ]
  },
  {
   "cell_type": "code",
   "execution_count": 13,
   "id": "05adafdd",
   "metadata": {},
   "outputs": [
    {
     "name": "stdout",
     "output_type": "stream",
     "text": [
      "<class 'pandas.core.frame.DataFrame'>\n",
      "RangeIndex: 1197 entries, 0 to 1196\n",
      "Data columns (total 5 columns):\n",
      " #   Column         Non-Null Count  Dtype  \n",
      "---  ------         --------------  -----  \n",
      " 0   transactionId  1197 non-null   int64  \n",
      " 1   visitorId      1197 non-null   int64  \n",
      " 2   date           1197 non-null   object \n",
      " 3   revenue        1197 non-null   float64\n",
      " 4   group          1197 non-null   object \n",
      "dtypes: float64(1), int64(2), object(2)\n",
      "memory usage: 46.9+ KB\n"
     ]
    }
   ],
   "source": [
    "# the same change is needed in the orders table:\n",
    "orders.info()"
   ]
  },
  {
   "cell_type": "code",
   "execution_count": 14,
   "id": "72078aa8",
   "metadata": {},
   "outputs": [
    {
     "name": "stdout",
     "output_type": "stream",
     "text": [
      "<class 'pandas.core.frame.DataFrame'>\n",
      "RangeIndex: 1197 entries, 0 to 1196\n",
      "Data columns (total 5 columns):\n",
      " #   Column         Non-Null Count  Dtype         \n",
      "---  ------         --------------  -----         \n",
      " 0   transactionId  1197 non-null   int64         \n",
      " 1   visitorId      1197 non-null   int64         \n",
      " 2   date           1197 non-null   datetime64[ns]\n",
      " 3   revenue        1197 non-null   float64       \n",
      " 4   group          1197 non-null   object        \n",
      "dtypes: datetime64[ns](1), float64(1), int64(2), object(1)\n",
      "memory usage: 46.9+ KB\n"
     ]
    }
   ],
   "source": [
    "# changing the date variable dtype from object to datetime:\n",
    "orders['date'] =  pd.to_datetime(orders['date'], dayfirst=True)\n",
    "orders.info()"
   ]
  },
  {
   "cell_type": "code",
   "execution_count": 15,
   "id": "d4d98b15",
   "metadata": {},
   "outputs": [
    {
     "data": {
      "text/plain": [
       "0"
      ]
     },
     "execution_count": 15,
     "metadata": {},
     "output_type": "execute_result"
    }
   ],
   "source": [
    "# looking for duplicates: (none)\n",
    "orders.duplicated().sum()"
   ]
  },
  {
   "cell_type": "code",
   "execution_count": 16,
   "id": "07e7f0d4",
   "metadata": {},
   "outputs": [],
   "source": [
    "#checking if the group assignment is exhaustive and exclusive:\n",
    "## creating two lists\n",
    "visitorsA = orders[orders['group'] == 'A']['visitorId']\n",
    "visitorsB= orders[orders['group'] == 'B']['visitorId']"
   ]
  },
  {
   "cell_type": "code",
   "execution_count": 17,
   "id": "26bd5262",
   "metadata": {},
   "outputs": [
    {
     "data": {
      "text/plain": [
       "array([   8300375,  199603092,  232979603,  237748145,  276558944,\n",
       "        351125977,  393266494,  457167155,  471551937,  477780734,\n",
       "        818047933,  963407295, 1230306981, 1294878855, 1316129916,\n",
       "       1333886533, 1404934699, 1602967004, 1614305549, 1648269707,\n",
       "       1668030113, 1738359350, 1801183820, 1959144690, 2038680547,\n",
       "       2044997962, 2378935119, 2458001652, 2579882178, 2587333274,\n",
       "       2600415354, 2654030115, 2686716486, 2712142231, 2716752286,\n",
       "       2780786433, 2927087541, 2949041841, 2954449915, 3062433592,\n",
       "       3202540741, 3234906277, 3656415546, 3717692402, 3766097110,\n",
       "       3803269165, 3891541246, 3941795274, 3951559397, 3957174400,\n",
       "       3963646447, 3972127743, 3984495233, 4069496402, 4120364173,\n",
       "       4186807279, 4256040402, 4266935830], dtype=int64)"
      ]
     },
     "execution_count": 17,
     "metadata": {},
     "output_type": "execute_result"
    }
   ],
   "source": [
    "# finding common elements to the two groups:\n",
    "common_elements = np.intersect1d(visitorsA, visitorsB)\n",
    "common_elements"
   ]
  },
  {
   "cell_type": "code",
   "execution_count": 18,
   "id": "313a3234",
   "metadata": {},
   "outputs": [
    {
     "data": {
      "text/plain": [
       "58"
      ]
     },
     "execution_count": 18,
     "metadata": {},
     "output_type": "execute_result"
    }
   ],
   "source": [
    "# how many common elements are there?\n",
    "howmany_common = len(common_elements)\n",
    "howmany_common"
   ]
  },
  {
   "cell_type": "code",
   "execution_count": 19,
   "id": "226004d3",
   "metadata": {},
   "outputs": [],
   "source": [
    "# Since i can't be sure to which groups these users were really assigned, and maybe they were indeed exposed to both, so i \n",
    "#have to drop them, but also save a raw copy for later questions:\n",
    "\n",
    "orders = orders[~orders['visitorId'].isin(common_elements)]\n"
   ]
  },
  {
   "cell_type": "code",
   "execution_count": 20,
   "id": "6a0b39dd",
   "metadata": {},
   "outputs": [
    {
     "name": "stdout",
     "output_type": "stream",
     "text": [
      "False\n"
     ]
    }
   ],
   "source": [
    "#checking (ran a few from the 'common_elements' list):\n",
    "print(4266935830 in orders)    "
   ]
  },
  {
   "cell_type": "code",
   "execution_count": 21,
   "id": "89f94d84",
   "metadata": {},
   "outputs": [
    {
     "data": {
      "text/html": [
       "<div>\n",
       "<style scoped>\n",
       "    .dataframe tbody tr th:only-of-type {\n",
       "        vertical-align: middle;\n",
       "    }\n",
       "\n",
       "    .dataframe tbody tr th {\n",
       "        vertical-align: top;\n",
       "    }\n",
       "\n",
       "    .dataframe thead th {\n",
       "        text-align: right;\n",
       "    }\n",
       "</style>\n",
       "<table border=\"1\" class=\"dataframe\">\n",
       "  <thead>\n",
       "    <tr style=\"text-align: right;\">\n",
       "      <th></th>\n",
       "      <th>count</th>\n",
       "      <th>mean</th>\n",
       "      <th>std</th>\n",
       "      <th>min</th>\n",
       "      <th>25%</th>\n",
       "      <th>50%</th>\n",
       "      <th>75%</th>\n",
       "      <th>max</th>\n",
       "    </tr>\n",
       "    <tr>\n",
       "      <th>group</th>\n",
       "      <th></th>\n",
       "      <th></th>\n",
       "      <th></th>\n",
       "      <th></th>\n",
       "      <th></th>\n",
       "      <th></th>\n",
       "      <th></th>\n",
       "      <th></th>\n",
       "    </tr>\n",
       "  </thead>\n",
       "  <tbody>\n",
       "    <tr>\n",
       "      <th>A</th>\n",
       "      <td>468.0</td>\n",
       "      <td>113.700855</td>\n",
       "      <td>171.372117</td>\n",
       "      <td>5.0</td>\n",
       "      <td>20.3</td>\n",
       "      <td>50.1</td>\n",
       "      <td>131.925</td>\n",
       "      <td>1425.8</td>\n",
       "    </tr>\n",
       "    <tr>\n",
       "      <th>B</th>\n",
       "      <td>548.0</td>\n",
       "      <td>145.348905</td>\n",
       "      <td>868.228227</td>\n",
       "      <td>5.1</td>\n",
       "      <td>20.8</td>\n",
       "      <td>45.9</td>\n",
       "      <td>125.200</td>\n",
       "      <td>19920.4</td>\n",
       "    </tr>\n",
       "  </tbody>\n",
       "</table>\n",
       "</div>"
      ],
      "text/plain": [
       "       count        mean         std  min   25%   50%      75%      max\n",
       "group                                                                  \n",
       "A      468.0  113.700855  171.372117  5.0  20.3  50.1  131.925   1425.8\n",
       "B      548.0  145.348905  868.228227  5.1  20.8  45.9  125.200  19920.4"
      ]
     },
     "execution_count": 21,
     "metadata": {},
     "output_type": "execute_result"
    }
   ],
   "source": [
    "# looking at the table in general reveals a difference in group size, as well as possible outliers (group B):\n",
    "orders.groupby('group')['revenue'].describe()"
   ]
  },
  {
   "cell_type": "markdown",
   "id": "4e770257",
   "metadata": {},
   "source": [
    "### Hypotheses (hypo):"
   ]
  },
  {
   "cell_type": "code",
   "execution_count": 22,
   "id": "01bb97fc",
   "metadata": {},
   "outputs": [
    {
     "name": "stdout",
     "output_type": "stream",
     "text": [
      "<class 'pandas.core.frame.DataFrame'>\n",
      "RangeIndex: 9 entries, 0 to 8\n",
      "Data columns (total 5 columns):\n",
      " #   Column      Non-Null Count  Dtype \n",
      "---  ------      --------------  ----- \n",
      " 0   Hypothesis  9 non-null      object\n",
      " 1   Reach       9 non-null      int64 \n",
      " 2   Impact      9 non-null      int64 \n",
      " 3   Confidence  9 non-null      int64 \n",
      " 4   Effort      9 non-null      int64 \n",
      "dtypes: int64(4), object(1)\n",
      "memory usage: 488.0+ bytes\n"
     ]
    }
   ],
   "source": [
    "hypo.info()"
   ]
  },
  {
   "cell_type": "code",
   "execution_count": 23,
   "id": "4a359cfb",
   "metadata": {},
   "outputs": [],
   "source": [
    "hypo['Hypothesis'] = hypo['Hypothesis'].astype('category') "
   ]
  },
  {
   "cell_type": "code",
   "execution_count": 24,
   "id": "06ee10ac",
   "metadata": {},
   "outputs": [
    {
     "data": {
      "text/html": [
       "<div>\n",
       "<style scoped>\n",
       "    .dataframe tbody tr th:only-of-type {\n",
       "        vertical-align: middle;\n",
       "    }\n",
       "\n",
       "    .dataframe tbody tr th {\n",
       "        vertical-align: top;\n",
       "    }\n",
       "\n",
       "    .dataframe thead th {\n",
       "        text-align: right;\n",
       "    }\n",
       "</style>\n",
       "<table border=\"1\" class=\"dataframe\">\n",
       "  <thead>\n",
       "    <tr style=\"text-align: right;\">\n",
       "      <th></th>\n",
       "      <th>Reach</th>\n",
       "      <th>Impact</th>\n",
       "      <th>Confidence</th>\n",
       "      <th>Effort</th>\n",
       "    </tr>\n",
       "  </thead>\n",
       "  <tbody>\n",
       "    <tr>\n",
       "      <th>count</th>\n",
       "      <td>9.000000</td>\n",
       "      <td>9.000000</td>\n",
       "      <td>9.000000</td>\n",
       "      <td>9.000000</td>\n",
       "    </tr>\n",
       "    <tr>\n",
       "      <th>mean</th>\n",
       "      <td>4.777778</td>\n",
       "      <td>4.777778</td>\n",
       "      <td>5.555556</td>\n",
       "      <td>4.888889</td>\n",
       "    </tr>\n",
       "    <tr>\n",
       "      <th>std</th>\n",
       "      <td>3.153481</td>\n",
       "      <td>3.192874</td>\n",
       "      <td>3.045944</td>\n",
       "      <td>2.803767</td>\n",
       "    </tr>\n",
       "    <tr>\n",
       "      <th>min</th>\n",
       "      <td>1.000000</td>\n",
       "      <td>1.000000</td>\n",
       "      <td>1.000000</td>\n",
       "      <td>1.000000</td>\n",
       "    </tr>\n",
       "    <tr>\n",
       "      <th>25%</th>\n",
       "      <td>3.000000</td>\n",
       "      <td>3.000000</td>\n",
       "      <td>3.000000</td>\n",
       "      <td>3.000000</td>\n",
       "    </tr>\n",
       "    <tr>\n",
       "      <th>50%</th>\n",
       "      <td>3.000000</td>\n",
       "      <td>3.000000</td>\n",
       "      <td>7.000000</td>\n",
       "      <td>5.000000</td>\n",
       "    </tr>\n",
       "    <tr>\n",
       "      <th>75%</th>\n",
       "      <td>8.000000</td>\n",
       "      <td>7.000000</td>\n",
       "      <td>8.000000</td>\n",
       "      <td>6.000000</td>\n",
       "    </tr>\n",
       "    <tr>\n",
       "      <th>max</th>\n",
       "      <td>10.000000</td>\n",
       "      <td>10.000000</td>\n",
       "      <td>9.000000</td>\n",
       "      <td>10.000000</td>\n",
       "    </tr>\n",
       "  </tbody>\n",
       "</table>\n",
       "</div>"
      ],
      "text/plain": [
       "           Reach     Impact  Confidence     Effort\n",
       "count   9.000000   9.000000    9.000000   9.000000\n",
       "mean    4.777778   4.777778    5.555556   4.888889\n",
       "std     3.153481   3.192874    3.045944   2.803767\n",
       "min     1.000000   1.000000    1.000000   1.000000\n",
       "25%     3.000000   3.000000    3.000000   3.000000\n",
       "50%     3.000000   3.000000    7.000000   5.000000\n",
       "75%     8.000000   7.000000    8.000000   6.000000\n",
       "max    10.000000  10.000000    9.000000  10.000000"
      ]
     },
     "execution_count": 24,
     "metadata": {},
     "output_type": "execute_result"
    }
   ],
   "source": [
    "hypo.describe()"
   ]
  },
  {
   "cell_type": "markdown",
   "id": "120e2e35",
   "metadata": {},
   "source": [
    "## Part 1. Prioritizing Hypotheses"
   ]
  },
  {
   "cell_type": "markdown",
   "id": "c6ecf6bf",
   "metadata": {},
   "source": [
    "### Apply the ICE framework to prioritize hypotheses. Sort them in descending order of priority."
   ]
  },
  {
   "cell_type": "code",
   "execution_count": 25,
   "id": "ff4cdeed",
   "metadata": {},
   "outputs": [
    {
     "data": {
      "image/png": "[encoded data removed]"
     },
     "metadata": {},
     "output_type": "display_data"
    }
   ],
   "source": [
    "# ICE = (impact*confidence) / effort\n",
    "hypo['ICE'] = (hypo['Impact'] * hypo['Confidence']) / hypo['Effort']\n",
    "hypo.sort_values(by='ICE', ascending = False)\n",
    "fig = px.bar(hypo.sort_values(by='ICE', ascending = False), x=\"Hypothesis\", y=\"ICE\", title=\"Hypotheses Prioritization using the ICE model\")\n",
    "fig.show(\"png\");"
   ]
  },
  {
   "cell_type": "markdown",
   "id": "be6a4ce6",
   "metadata": {},
   "source": [
    "Prioritizing hypotheses using the ICE model suggested that the 3 top ranked hypotheses should be: \n",
    "- [8] - Launch a promotion that gives users discounts on their birthdays. \n",
    "- [0] - Add two new channels for attracting traffic. This will bring 30% more users.\n",
    "- [7]- Add a subscription form to all the main pages. This will help you compile a mailing list.\n",
    "\n",
    "The 3 lowest ranked hypotheses were:\n",
    "- [4] - Change the background color on the main page. This will increase user engagement.\n",
    "- [3] - Change the category structure. This will increase conversion since users will find the products they want more quickly.\n",
    "- [5] - Add a customer review page. This will increase the number of orders.\n",
    "\n"
   ]
  },
  {
   "cell_type": "markdown",
   "id": "0af82420",
   "metadata": {},
   "source": [
    "### Apply the RICE framework to prioritize hypotheses. Sort them in descending order of priority."
   ]
  },
  {
   "cell_type": "code",
   "execution_count": 26,
   "id": "da5d0213",
   "metadata": {},
   "outputs": [
    {
     "data": {
      "image/png": "[encoded data removed]"
     },
     "metadata": {},
     "output_type": "display_data"
    }
   ],
   "source": [
    "# RICE = (reach * impact * confidence) / effort\n",
    "hypo['RICE'] = (hypo['Reach'] * hypo['Impact'] * hypo['Confidence']) / hypo['Effort']\n",
    "hypo.sort_values(by='RICE', ascending = False)\n",
    "fig = px.bar(hypo.sort_values(by='RICE', ascending = False), x=\"Hypothesis\", y=\"RICE\", title=\"Hypotheses Prioritization using the RICE model\")\n",
    "fig.show(\"png\");\n"
   ]
  },
  {
   "cell_type": "markdown",
   "id": "4abadec6",
   "metadata": {},
   "source": [
    "Prioritizing hypotheses using the RICE model suggested that the 3 top ranked hypotheses should be:\n",
    "\n",
    "- [7]- Add a subscription form to all the main pages. This will help you compile a mailing list.\n",
    "- [2] - Add product recommendation blocks to the store's site. This will increase conversion and average purchase size.\n",
    "- [0] - Add two new channels for attracting traffic. This will bring 30% more users.\n",
    "\n",
    "The 3 lowest ranked hypotheses were:\n",
    "\n",
    "- [4] - Change the background color on the main page. This will increase user engagement.\n",
    "- [5] - Add a customer review page. This will increase the number of orders.\n",
    "- [1]- Launch your own delivery service. This will shorten delivery time."
   ]
  },
  {
   "cell_type": "markdown",
   "id": "0e70addd",
   "metadata": {},
   "source": [
    "### Provide an explanation for the changes."
   ]
  },
  {
   "cell_type": "markdown",
   "id": "ee73add8",
   "metadata": {},
   "source": [
    "The two models agree that it would be most effective to prioritize hypotheses indexed as [7] and [0], and rank hypotheses indexed as [4] and [5] very low.\n",
    "However there are also prioritiztion differences, that stem from the additional parameter: Reach (how many users will be affected by the update you wish to introduce).\n",
    "- for example:\n",
    "- Hypothesis [7] states that adding a subscription form will improve revenue. ICE ranks it as #3 while RICE, that takes into account the exposure of users, ranks it as #1. \n",
    "- On the other hand, ICE ranks hypothesis [8] (\"Launch a promotion that gives users discounts on their birthdays\") as #1. RICE, however, ranks it as #5, since birthdays don't occur often enough (in general ;-), but also not enough to make a change. "
   ]
  },
  {
   "cell_type": "code",
   "execution_count": 27,
   "id": "e803b192",
   "metadata": {},
   "outputs": [
    {
     "data": {
      "image/png": "[encoded data removed]",
      "text/plain": [
       "<Figure size 842.4x595.44 with 1 Axes>"
      ]
     },
     "metadata": {},
     "output_type": "display_data"
    }
   ],
   "source": [
    "hypo[['ICE', 'RICE']].plot(style=['o','rx'])\n",
    "plt.xlabel('hypotheses')\n",
    "plt.ylabel('ranking value')\n",
    "plt.title('Hypotheses priority ranking by RICE or ICE')\n",
    "plt.show(); "
   ]
  },
  {
   "cell_type": "markdown",
   "id": "252a5a2f",
   "metadata": {},
   "source": [
    "## Part 2. A/B Test Analysis"
   ]
  },
  {
   "cell_type": "code",
   "execution_count": 28,
   "id": "6fd62b22",
   "metadata": {},
   "outputs": [],
   "source": [
    "# creating subsets of visits and orders tables, according to test/control group:\n",
    "orders_A = orders[orders.group == 'A']\n",
    "orders_B = orders[orders.group == 'B']\n",
    "visits_A = visits[visits.group == 'A']\n",
    "visits_B = visits[visits.group == 'B']"
   ]
  },
  {
   "cell_type": "markdown",
   "id": "4af2f941",
   "metadata": {},
   "source": [
    " ### 1. Graph cumulative revenue by group. Make conclusions and conjectures.\n"
   ]
  },
  {
   "cell_type": "code",
   "execution_count": 29,
   "id": "7abb63e2",
   "metadata": {},
   "outputs": [],
   "source": [
    "import sys\n",
    "import warnings\n",
    "if not sys.warnoptions:\n",
    "    warnings.simplefilter(\"ignore\");"
   ]
  },
  {
   "cell_type": "code",
   "execution_count": 30,
   "id": "77ba5aaf",
   "metadata": {},
   "outputs": [
    {
     "data": {
      "text/html": [
       "<div>\n",
       "<style scoped>\n",
       "    .dataframe tbody tr th:only-of-type {\n",
       "        vertical-align: middle;\n",
       "    }\n",
       "\n",
       "    .dataframe tbody tr th {\n",
       "        vertical-align: top;\n",
       "    }\n",
       "\n",
       "    .dataframe thead th {\n",
       "        text-align: right;\n",
       "    }\n",
       "</style>\n",
       "<table border=\"1\" class=\"dataframe\">\n",
       "  <thead>\n",
       "    <tr style=\"text-align: right;\">\n",
       "      <th></th>\n",
       "      <th>date</th>\n",
       "      <th>daily_rev</th>\n",
       "    </tr>\n",
       "  </thead>\n",
       "  <tbody>\n",
       "    <tr>\n",
       "      <th>0</th>\n",
       "      <td>2019-08-01</td>\n",
       "      <td>2266.6</td>\n",
       "    </tr>\n",
       "    <tr>\n",
       "      <th>1</th>\n",
       "      <td>2019-08-02</td>\n",
       "      <td>1468.3</td>\n",
       "    </tr>\n",
       "    <tr>\n",
       "      <th>2</th>\n",
       "      <td>2019-08-03</td>\n",
       "      <td>1815.2</td>\n",
       "    </tr>\n",
       "    <tr>\n",
       "      <th>3</th>\n",
       "      <td>2019-08-04</td>\n",
       "      <td>675.5</td>\n",
       "    </tr>\n",
       "    <tr>\n",
       "      <th>4</th>\n",
       "      <td>2019-08-05</td>\n",
       "      <td>1398.0</td>\n",
       "    </tr>\n",
       "  </tbody>\n",
       "</table>\n",
       "</div>"
      ],
      "text/plain": [
       "        date  daily_rev\n",
       "0 2019-08-01     2266.6\n",
       "1 2019-08-02     1468.3\n",
       "2 2019-08-03     1815.2\n",
       "3 2019-08-04      675.5\n",
       "4 2019-08-05     1398.0"
      ]
     },
     "execution_count": 30,
     "metadata": {},
     "output_type": "execute_result"
    }
   ],
   "source": [
    "o_A= orders_A[['date', 'revenue']]\n",
    "o_A= o_A.groupby('date')['revenue'].sum().reset_index()\n",
    "o_A.columns = ['date', 'daily_rev']\n",
    "o_A.head()"
   ]
  },
  {
   "cell_type": "code",
   "execution_count": 31,
   "id": "4e01ebff",
   "metadata": {},
   "outputs": [
    {
     "data": {
      "text/html": [
       "<div>\n",
       "<style scoped>\n",
       "    .dataframe tbody tr th:only-of-type {\n",
       "        vertical-align: middle;\n",
       "    }\n",
       "\n",
       "    .dataframe tbody tr th {\n",
       "        vertical-align: top;\n",
       "    }\n",
       "\n",
       "    .dataframe thead th {\n",
       "        text-align: right;\n",
       "    }\n",
       "</style>\n",
       "<table border=\"1\" class=\"dataframe\">\n",
       "  <thead>\n",
       "    <tr style=\"text-align: right;\">\n",
       "      <th></th>\n",
       "      <th>date</th>\n",
       "      <th>daily_rev</th>\n",
       "    </tr>\n",
       "  </thead>\n",
       "  <tbody>\n",
       "    <tr>\n",
       "      <th>0</th>\n",
       "      <td>2019-08-01</td>\n",
       "      <td>967.2</td>\n",
       "    </tr>\n",
       "    <tr>\n",
       "      <th>1</th>\n",
       "      <td>2019-08-02</td>\n",
       "      <td>2568.1</td>\n",
       "    </tr>\n",
       "    <tr>\n",
       "      <th>2</th>\n",
       "      <td>2019-08-03</td>\n",
       "      <td>1071.6</td>\n",
       "    </tr>\n",
       "    <tr>\n",
       "      <th>3</th>\n",
       "      <td>2019-08-04</td>\n",
       "      <td>1531.6</td>\n",
       "    </tr>\n",
       "    <tr>\n",
       "      <th>4</th>\n",
       "      <td>2019-08-05</td>\n",
       "      <td>1449.3</td>\n",
       "    </tr>\n",
       "  </tbody>\n",
       "</table>\n",
       "</div>"
      ],
      "text/plain": [
       "        date  daily_rev\n",
       "0 2019-08-01      967.2\n",
       "1 2019-08-02     2568.1\n",
       "2 2019-08-03     1071.6\n",
       "3 2019-08-04     1531.6\n",
       "4 2019-08-05     1449.3"
      ]
     },
     "execution_count": 31,
     "metadata": {},
     "output_type": "execute_result"
    }
   ],
   "source": [
    "o_B= orders_B[['date', 'revenue']]\n",
    "o_B= o_B.groupby('date')['revenue'].sum().reset_index()\n",
    "o_B.columns = ['date', 'daily_rev']\n",
    "o_B.head()"
   ]
  },
  {
   "cell_type": "code",
   "execution_count": 32,
   "id": "b9cc7467",
   "metadata": {},
   "outputs": [
    {
     "data": {
      "image/png": "[encoded data removed]",
      "text/plain": [
       "<Figure size 1008x576 with 1 Axes>"
      ]
     },
     "metadata": {},
     "output_type": "display_data"
    }
   ],
   "source": [
    "plt.figure(figsize=(14,8))\n",
    "plt.grid()\n",
    "plt.title('Daily revenue by group')\n",
    "plt.plot(o_A['date'], o_A['daily_rev'], label='Group A')\n",
    "plt.plot(o_B['date'], o_B['daily_rev'], label='Group B')\n",
    "plt.legend()\n",
    "plt.xlabel('Date')\n",
    "plt.ylabel('Daily revenue')\n",
    "plt.show();"
   ]
  },
  {
   "cell_type": "markdown",
   "id": "7d58403e",
   "metadata": {},
   "source": [
    "**The graph illustrates fluctuative sale month for both groups, with an abnormal looking spike for group B on the 19/8.**"
   ]
  },
  {
   "cell_type": "code",
   "execution_count": 33,
   "id": "0df40839",
   "metadata": {},
   "outputs": [
    {
     "name": "stdout",
     "output_type": "stream",
     "text": [
      "Group A\n"
     ]
    },
    {
     "data": {
      "text/html": [
       "<div>\n",
       "<style scoped>\n",
       "    .dataframe tbody tr th:only-of-type {\n",
       "        vertical-align: middle;\n",
       "    }\n",
       "\n",
       "    .dataframe tbody tr th {\n",
       "        vertical-align: top;\n",
       "    }\n",
       "\n",
       "    .dataframe thead th {\n",
       "        text-align: right;\n",
       "    }\n",
       "</style>\n",
       "<table border=\"1\" class=\"dataframe\">\n",
       "  <thead>\n",
       "    <tr style=\"text-align: right;\">\n",
       "      <th></th>\n",
       "      <th>date</th>\n",
       "      <th>daily_rev</th>\n",
       "      <th>cum_rev</th>\n",
       "    </tr>\n",
       "  </thead>\n",
       "  <tbody>\n",
       "    <tr>\n",
       "      <th>0</th>\n",
       "      <td>2019-08-01</td>\n",
       "      <td>2266.6</td>\n",
       "      <td>2266.6</td>\n",
       "    </tr>\n",
       "    <tr>\n",
       "      <th>1</th>\n",
       "      <td>2019-08-02</td>\n",
       "      <td>1468.3</td>\n",
       "      <td>3734.9</td>\n",
       "    </tr>\n",
       "    <tr>\n",
       "      <th>2</th>\n",
       "      <td>2019-08-03</td>\n",
       "      <td>1815.2</td>\n",
       "      <td>5550.1</td>\n",
       "    </tr>\n",
       "    <tr>\n",
       "      <th>3</th>\n",
       "      <td>2019-08-04</td>\n",
       "      <td>675.5</td>\n",
       "      <td>6225.6</td>\n",
       "    </tr>\n",
       "    <tr>\n",
       "      <th>4</th>\n",
       "      <td>2019-08-05</td>\n",
       "      <td>1398.0</td>\n",
       "      <td>7623.6</td>\n",
       "    </tr>\n",
       "    <tr>\n",
       "      <th>5</th>\n",
       "      <td>2019-08-06</td>\n",
       "      <td>668.4</td>\n",
       "      <td>8292.0</td>\n",
       "    </tr>\n",
       "    <tr>\n",
       "      <th>6</th>\n",
       "      <td>2019-08-07</td>\n",
       "      <td>1942.0</td>\n",
       "      <td>10234.0</td>\n",
       "    </tr>\n",
       "    <tr>\n",
       "      <th>7</th>\n",
       "      <td>2019-08-08</td>\n",
       "      <td>1404.8</td>\n",
       "      <td>11638.8</td>\n",
       "    </tr>\n",
       "    <tr>\n",
       "      <th>8</th>\n",
       "      <td>2019-08-09</td>\n",
       "      <td>2095.2</td>\n",
       "      <td>13734.0</td>\n",
       "    </tr>\n",
       "    <tr>\n",
       "      <th>9</th>\n",
       "      <td>2019-08-10</td>\n",
       "      <td>2387.5</td>\n",
       "      <td>16121.5</td>\n",
       "    </tr>\n",
       "    <tr>\n",
       "      <th>10</th>\n",
       "      <td>2019-08-11</td>\n",
       "      <td>963.4</td>\n",
       "      <td>17084.9</td>\n",
       "    </tr>\n",
       "    <tr>\n",
       "      <th>11</th>\n",
       "      <td>2019-08-12</td>\n",
       "      <td>3448.8</td>\n",
       "      <td>20533.7</td>\n",
       "    </tr>\n",
       "    <tr>\n",
       "      <th>12</th>\n",
       "      <td>2019-08-13</td>\n",
       "      <td>4096.9</td>\n",
       "      <td>24630.6</td>\n",
       "    </tr>\n",
       "    <tr>\n",
       "      <th>13</th>\n",
       "      <td>2019-08-14</td>\n",
       "      <td>716.6</td>\n",
       "      <td>25347.2</td>\n",
       "    </tr>\n",
       "    <tr>\n",
       "      <th>14</th>\n",
       "      <td>2019-08-15</td>\n",
       "      <td>1275.3</td>\n",
       "      <td>26622.5</td>\n",
       "    </tr>\n",
       "    <tr>\n",
       "      <th>15</th>\n",
       "      <td>2019-08-16</td>\n",
       "      <td>1599.1</td>\n",
       "      <td>28221.6</td>\n",
       "    </tr>\n",
       "    <tr>\n",
       "      <th>16</th>\n",
       "      <td>2019-08-17</td>\n",
       "      <td>548.5</td>\n",
       "      <td>28770.1</td>\n",
       "    </tr>\n",
       "    <tr>\n",
       "      <th>17</th>\n",
       "      <td>2019-08-18</td>\n",
       "      <td>965.6</td>\n",
       "      <td>29735.7</td>\n",
       "    </tr>\n",
       "    <tr>\n",
       "      <th>18</th>\n",
       "      <td>2019-08-19</td>\n",
       "      <td>2653.6</td>\n",
       "      <td>32389.3</td>\n",
       "    </tr>\n",
       "    <tr>\n",
       "      <th>19</th>\n",
       "      <td>2019-08-20</td>\n",
       "      <td>936.0</td>\n",
       "      <td>33325.3</td>\n",
       "    </tr>\n",
       "    <tr>\n",
       "      <th>20</th>\n",
       "      <td>2019-08-21</td>\n",
       "      <td>2678.9</td>\n",
       "      <td>36004.2</td>\n",
       "    </tr>\n",
       "    <tr>\n",
       "      <th>21</th>\n",
       "      <td>2019-08-22</td>\n",
       "      <td>1450.9</td>\n",
       "      <td>37455.1</td>\n",
       "    </tr>\n",
       "    <tr>\n",
       "      <th>22</th>\n",
       "      <td>2019-08-23</td>\n",
       "      <td>954.1</td>\n",
       "      <td>38409.2</td>\n",
       "    </tr>\n",
       "    <tr>\n",
       "      <th>23</th>\n",
       "      <td>2019-08-24</td>\n",
       "      <td>1912.1</td>\n",
       "      <td>40321.3</td>\n",
       "    </tr>\n",
       "    <tr>\n",
       "      <th>24</th>\n",
       "      <td>2019-08-25</td>\n",
       "      <td>818.2</td>\n",
       "      <td>41139.5</td>\n",
       "    </tr>\n",
       "    <tr>\n",
       "      <th>25</th>\n",
       "      <td>2019-08-26</td>\n",
       "      <td>2464.8</td>\n",
       "      <td>43604.3</td>\n",
       "    </tr>\n",
       "    <tr>\n",
       "      <th>26</th>\n",
       "      <td>2019-08-27</td>\n",
       "      <td>2934.7</td>\n",
       "      <td>46539.0</td>\n",
       "    </tr>\n",
       "    <tr>\n",
       "      <th>27</th>\n",
       "      <td>2019-08-28</td>\n",
       "      <td>1526.9</td>\n",
       "      <td>48065.9</td>\n",
       "    </tr>\n",
       "    <tr>\n",
       "      <th>28</th>\n",
       "      <td>2019-08-29</td>\n",
       "      <td>3068.9</td>\n",
       "      <td>51134.8</td>\n",
       "    </tr>\n",
       "    <tr>\n",
       "      <th>29</th>\n",
       "      <td>2019-08-30</td>\n",
       "      <td>1228.9</td>\n",
       "      <td>52363.7</td>\n",
       "    </tr>\n",
       "    <tr>\n",
       "      <th>30</th>\n",
       "      <td>2019-08-31</td>\n",
       "      <td>848.3</td>\n",
       "      <td>53212.0</td>\n",
       "    </tr>\n",
       "  </tbody>\n",
       "</table>\n",
       "</div>"
      ],
      "text/plain": [
       "         date  daily_rev  cum_rev\n",
       "0  2019-08-01     2266.6   2266.6\n",
       "1  2019-08-02     1468.3   3734.9\n",
       "2  2019-08-03     1815.2   5550.1\n",
       "3  2019-08-04      675.5   6225.6\n",
       "4  2019-08-05     1398.0   7623.6\n",
       "5  2019-08-06      668.4   8292.0\n",
       "6  2019-08-07     1942.0  10234.0\n",
       "7  2019-08-08     1404.8  11638.8\n",
       "8  2019-08-09     2095.2  13734.0\n",
       "9  2019-08-10     2387.5  16121.5\n",
       "10 2019-08-11      963.4  17084.9\n",
       "11 2019-08-12     3448.8  20533.7\n",
       "12 2019-08-13     4096.9  24630.6\n",
       "13 2019-08-14      716.6  25347.2\n",
       "14 2019-08-15     1275.3  26622.5\n",
       "15 2019-08-16     1599.1  28221.6\n",
       "16 2019-08-17      548.5  28770.1\n",
       "17 2019-08-18      965.6  29735.7\n",
       "18 2019-08-19     2653.6  32389.3\n",
       "19 2019-08-20      936.0  33325.3\n",
       "20 2019-08-21     2678.9  36004.2\n",
       "21 2019-08-22     1450.9  37455.1\n",
       "22 2019-08-23      954.1  38409.2\n",
       "23 2019-08-24     1912.1  40321.3\n",
       "24 2019-08-25      818.2  41139.5\n",
       "25 2019-08-26     2464.8  43604.3\n",
       "26 2019-08-27     2934.7  46539.0\n",
       "27 2019-08-28     1526.9  48065.9\n",
       "28 2019-08-29     3068.9  51134.8\n",
       "29 2019-08-30     1228.9  52363.7\n",
       "30 2019-08-31      848.3  53212.0"
      ]
     },
     "execution_count": 33,
     "metadata": {},
     "output_type": "execute_result"
    },
    {
     "name": "stdout",
     "output_type": "stream",
     "text": [
      "Group B\n"
     ]
    },
    {
     "data": {
      "text/html": [
       "<div>\n",
       "<style scoped>\n",
       "    .dataframe tbody tr th:only-of-type {\n",
       "        vertical-align: middle;\n",
       "    }\n",
       "\n",
       "    .dataframe tbody tr th {\n",
       "        vertical-align: top;\n",
       "    }\n",
       "\n",
       "    .dataframe thead th {\n",
       "        text-align: right;\n",
       "    }\n",
       "</style>\n",
       "<table border=\"1\" class=\"dataframe\">\n",
       "  <thead>\n",
       "    <tr style=\"text-align: right;\">\n",
       "      <th></th>\n",
       "      <th>date</th>\n",
       "      <th>daily_rev</th>\n",
       "      <th>cum_rev</th>\n",
       "    </tr>\n",
       "  </thead>\n",
       "  <tbody>\n",
       "    <tr>\n",
       "      <th>0</th>\n",
       "      <td>2019-08-01</td>\n",
       "      <td>967.2</td>\n",
       "      <td>967.2</td>\n",
       "    </tr>\n",
       "    <tr>\n",
       "      <th>1</th>\n",
       "      <td>2019-08-02</td>\n",
       "      <td>2568.1</td>\n",
       "      <td>3535.3</td>\n",
       "    </tr>\n",
       "    <tr>\n",
       "      <th>2</th>\n",
       "      <td>2019-08-03</td>\n",
       "      <td>1071.6</td>\n",
       "      <td>4606.9</td>\n",
       "    </tr>\n",
       "    <tr>\n",
       "      <th>3</th>\n",
       "      <td>2019-08-04</td>\n",
       "      <td>1531.6</td>\n",
       "      <td>6138.5</td>\n",
       "    </tr>\n",
       "    <tr>\n",
       "      <th>4</th>\n",
       "      <td>2019-08-05</td>\n",
       "      <td>1449.3</td>\n",
       "      <td>7587.8</td>\n",
       "    </tr>\n",
       "    <tr>\n",
       "      <th>5</th>\n",
       "      <td>2019-08-06</td>\n",
       "      <td>3369.3</td>\n",
       "      <td>10957.1</td>\n",
       "    </tr>\n",
       "    <tr>\n",
       "      <th>6</th>\n",
       "      <td>2019-08-07</td>\n",
       "      <td>3435.6</td>\n",
       "      <td>14392.7</td>\n",
       "    </tr>\n",
       "    <tr>\n",
       "      <th>7</th>\n",
       "      <td>2019-08-08</td>\n",
       "      <td>2379.9</td>\n",
       "      <td>16772.6</td>\n",
       "    </tr>\n",
       "    <tr>\n",
       "      <th>8</th>\n",
       "      <td>2019-08-09</td>\n",
       "      <td>1656.2</td>\n",
       "      <td>18428.8</td>\n",
       "    </tr>\n",
       "    <tr>\n",
       "      <th>9</th>\n",
       "      <td>2019-08-10</td>\n",
       "      <td>1674.8</td>\n",
       "      <td>20103.6</td>\n",
       "    </tr>\n",
       "    <tr>\n",
       "      <th>10</th>\n",
       "      <td>2019-08-11</td>\n",
       "      <td>855.4</td>\n",
       "      <td>20959.0</td>\n",
       "    </tr>\n",
       "    <tr>\n",
       "      <th>11</th>\n",
       "      <td>2019-08-12</td>\n",
       "      <td>1657.8</td>\n",
       "      <td>22616.8</td>\n",
       "    </tr>\n",
       "    <tr>\n",
       "      <th>12</th>\n",
       "      <td>2019-08-13</td>\n",
       "      <td>1874.5</td>\n",
       "      <td>24491.3</td>\n",
       "    </tr>\n",
       "    <tr>\n",
       "      <th>13</th>\n",
       "      <td>2019-08-14</td>\n",
       "      <td>1692.4</td>\n",
       "      <td>26183.7</td>\n",
       "    </tr>\n",
       "    <tr>\n",
       "      <th>14</th>\n",
       "      <td>2019-08-15</td>\n",
       "      <td>4849.5</td>\n",
       "      <td>31033.2</td>\n",
       "    </tr>\n",
       "    <tr>\n",
       "      <th>15</th>\n",
       "      <td>2019-08-16</td>\n",
       "      <td>1807.0</td>\n",
       "      <td>32840.2</td>\n",
       "    </tr>\n",
       "    <tr>\n",
       "      <th>16</th>\n",
       "      <td>2019-08-17</td>\n",
       "      <td>1276.0</td>\n",
       "      <td>34116.2</td>\n",
       "    </tr>\n",
       "    <tr>\n",
       "      <th>17</th>\n",
       "      <td>2019-08-18</td>\n",
       "      <td>568.5</td>\n",
       "      <td>34684.7</td>\n",
       "    </tr>\n",
       "    <tr>\n",
       "      <th>18</th>\n",
       "      <td>2019-08-19</td>\n",
       "      <td>22064.9</td>\n",
       "      <td>56749.6</td>\n",
       "    </tr>\n",
       "    <tr>\n",
       "      <th>19</th>\n",
       "      <td>2019-08-20</td>\n",
       "      <td>2324.6</td>\n",
       "      <td>59074.2</td>\n",
       "    </tr>\n",
       "    <tr>\n",
       "      <th>20</th>\n",
       "      <td>2019-08-21</td>\n",
       "      <td>2200.2</td>\n",
       "      <td>61274.4</td>\n",
       "    </tr>\n",
       "    <tr>\n",
       "      <th>21</th>\n",
       "      <td>2019-08-22</td>\n",
       "      <td>2229.5</td>\n",
       "      <td>63503.9</td>\n",
       "    </tr>\n",
       "    <tr>\n",
       "      <th>22</th>\n",
       "      <td>2019-08-23</td>\n",
       "      <td>1228.9</td>\n",
       "      <td>64732.8</td>\n",
       "    </tr>\n",
       "    <tr>\n",
       "      <th>23</th>\n",
       "      <td>2019-08-24</td>\n",
       "      <td>1405.7</td>\n",
       "      <td>66138.5</td>\n",
       "    </tr>\n",
       "    <tr>\n",
       "      <th>24</th>\n",
       "      <td>2019-08-25</td>\n",
       "      <td>1255.3</td>\n",
       "      <td>67393.8</td>\n",
       "    </tr>\n",
       "    <tr>\n",
       "      <th>25</th>\n",
       "      <td>2019-08-26</td>\n",
       "      <td>2744.3</td>\n",
       "      <td>70138.1</td>\n",
       "    </tr>\n",
       "    <tr>\n",
       "      <th>26</th>\n",
       "      <td>2019-08-27</td>\n",
       "      <td>1746.9</td>\n",
       "      <td>71885.0</td>\n",
       "    </tr>\n",
       "    <tr>\n",
       "      <th>27</th>\n",
       "      <td>2019-08-28</td>\n",
       "      <td>1010.5</td>\n",
       "      <td>72895.5</td>\n",
       "    </tr>\n",
       "    <tr>\n",
       "      <th>28</th>\n",
       "      <td>2019-08-29</td>\n",
       "      <td>1681.2</td>\n",
       "      <td>74576.7</td>\n",
       "    </tr>\n",
       "    <tr>\n",
       "      <th>29</th>\n",
       "      <td>2019-08-30</td>\n",
       "      <td>3286.8</td>\n",
       "      <td>77863.5</td>\n",
       "    </tr>\n",
       "    <tr>\n",
       "      <th>30</th>\n",
       "      <td>2019-08-31</td>\n",
       "      <td>1787.7</td>\n",
       "      <td>79651.2</td>\n",
       "    </tr>\n",
       "  </tbody>\n",
       "</table>\n",
       "</div>"
      ],
      "text/plain": [
       "         date  daily_rev  cum_rev\n",
       "0  2019-08-01      967.2    967.2\n",
       "1  2019-08-02     2568.1   3535.3\n",
       "2  2019-08-03     1071.6   4606.9\n",
       "3  2019-08-04     1531.6   6138.5\n",
       "4  2019-08-05     1449.3   7587.8\n",
       "5  2019-08-06     3369.3  10957.1\n",
       "6  2019-08-07     3435.6  14392.7\n",
       "7  2019-08-08     2379.9  16772.6\n",
       "8  2019-08-09     1656.2  18428.8\n",
       "9  2019-08-10     1674.8  20103.6\n",
       "10 2019-08-11      855.4  20959.0\n",
       "11 2019-08-12     1657.8  22616.8\n",
       "12 2019-08-13     1874.5  24491.3\n",
       "13 2019-08-14     1692.4  26183.7\n",
       "14 2019-08-15     4849.5  31033.2\n",
       "15 2019-08-16     1807.0  32840.2\n",
       "16 2019-08-17     1276.0  34116.2\n",
       "17 2019-08-18      568.5  34684.7\n",
       "18 2019-08-19    22064.9  56749.6\n",
       "19 2019-08-20     2324.6  59074.2\n",
       "20 2019-08-21     2200.2  61274.4\n",
       "21 2019-08-22     2229.5  63503.9\n",
       "22 2019-08-23     1228.9  64732.8\n",
       "23 2019-08-24     1405.7  66138.5\n",
       "24 2019-08-25     1255.3  67393.8\n",
       "25 2019-08-26     2744.3  70138.1\n",
       "26 2019-08-27     1746.9  71885.0\n",
       "27 2019-08-28     1010.5  72895.5\n",
       "28 2019-08-29     1681.2  74576.7\n",
       "29 2019-08-30     3286.8  77863.5\n",
       "30 2019-08-31     1787.7  79651.2"
      ]
     },
     "execution_count": 33,
     "metadata": {},
     "output_type": "execute_result"
    }
   ],
   "source": [
    "# cumulative revenue by group:\n",
    "o_A['cum_rev'] = o_A['daily_rev'].cumsum()\n",
    "o_B['cum_rev'] = o_B['daily_rev'].cumsum()\n",
    "\n",
    "print('Group A')\n",
    "o_A\n",
    "print('Group B')\n",
    "o_B"
   ]
  },
  {
   "cell_type": "code",
   "execution_count": 34,
   "id": "a23c1e6e",
   "metadata": {},
   "outputs": [
    {
     "data": {
      "image/png": "[encoded data removed]",
      "text/plain": [
       "<Figure size 1008x576 with 1 Axes>"
      ]
     },
     "metadata": {},
     "output_type": "display_data"
    }
   ],
   "source": [
    "# plot of cumulative revenue by group:\n",
    "plt.figure(figsize=(14,8))\n",
    "plt.grid()\n",
    "plt.title('Cumulative revenue by group')\n",
    "plt.plot(o_A['date'], o_A['cum_rev'], label='Group A')\n",
    "plt.plot(o_B['date'], o_B['cum_rev'], label='Group B')\n",
    "plt.legend()\n",
    "plt.show();"
   ]
  },
  {
   "cell_type": "markdown",
   "id": "08179e05",
   "metadata": {},
   "source": [
    "** **Conclusions: The graph shows that while group A's cumulative revenue climbs up in an expected, linear moderate slope, group B's cumulative revenue has an anomalous behavior, with a steep \"jump\" in revenue between the 18th and 19th of August. The o_B table shows a very slow day, in terms of sales, on the 18/8 and a very strong and abnormal day on the 19/8. This cannot be explained by the difference in group sizes, and probably indicates the presence of outliers- either a very big/expensive order, or a great number of orders**"
   ]
  },
  {
   "cell_type": "markdown",
   "id": "1b63e5c2",
   "metadata": {},
   "source": [
    "### 2. Graph cumulative average order size by group. Make conclusions and conjectures."
   ]
  },
  {
   "cell_type": "code",
   "execution_count": 35,
   "id": "07304030",
   "metadata": {},
   "outputs": [
    {
     "data": {
      "text/html": [
       "<div>\n",
       "<style scoped>\n",
       "    .dataframe tbody tr th:only-of-type {\n",
       "        vertical-align: middle;\n",
       "    }\n",
       "\n",
       "    .dataframe tbody tr th {\n",
       "        vertical-align: top;\n",
       "    }\n",
       "\n",
       "    .dataframe thead th {\n",
       "        text-align: right;\n",
       "    }\n",
       "</style>\n",
       "<table border=\"1\" class=\"dataframe\">\n",
       "  <thead>\n",
       "    <tr style=\"text-align: right;\">\n",
       "      <th></th>\n",
       "      <th>date</th>\n",
       "      <th>daily_orders</th>\n",
       "      <th>daily_rev</th>\n",
       "    </tr>\n",
       "  </thead>\n",
       "  <tbody>\n",
       "    <tr>\n",
       "      <th>0</th>\n",
       "      <td>2019-08-01</td>\n",
       "      <td>23</td>\n",
       "      <td>2266.6</td>\n",
       "    </tr>\n",
       "    <tr>\n",
       "      <th>1</th>\n",
       "      <td>2019-08-02</td>\n",
       "      <td>19</td>\n",
       "      <td>1468.3</td>\n",
       "    </tr>\n",
       "    <tr>\n",
       "      <th>2</th>\n",
       "      <td>2019-08-03</td>\n",
       "      <td>24</td>\n",
       "      <td>1815.2</td>\n",
       "    </tr>\n",
       "    <tr>\n",
       "      <th>3</th>\n",
       "      <td>2019-08-04</td>\n",
       "      <td>11</td>\n",
       "      <td>675.5</td>\n",
       "    </tr>\n",
       "    <tr>\n",
       "      <th>4</th>\n",
       "      <td>2019-08-05</td>\n",
       "      <td>22</td>\n",
       "      <td>1398.0</td>\n",
       "    </tr>\n",
       "  </tbody>\n",
       "</table>\n",
       "</div>"
      ],
      "text/plain": [
       "        date  daily_orders  daily_rev\n",
       "0 2019-08-01            23     2266.6\n",
       "1 2019-08-02            19     1468.3\n",
       "2 2019-08-03            24     1815.2\n",
       "3 2019-08-04            11      675.5\n",
       "4 2019-08-05            22     1398.0"
      ]
     },
     "execution_count": 35,
     "metadata": {},
     "output_type": "execute_result"
    }
   ],
   "source": [
    "# calculating daily orders and revenue for group A:\n",
    "o_sizeA = orders_A[['date', 'transactionId', 'revenue']]\n",
    "sizeA = o_sizeA.groupby('date').agg({'transactionId': 'nunique', 'revenue': 'sum'}).reset_index()\n",
    "sizeA = sizeA.rename(columns={'transactionId': 'daily_orders', 'revenue': 'daily_rev'})\n",
    "sizeA.head()"
   ]
  },
  {
   "cell_type": "code",
   "execution_count": 36,
   "id": "e285798c",
   "metadata": {
    "scrolled": true
   },
   "outputs": [
    {
     "data": {
      "text/html": [
       "<div>\n",
       "<style scoped>\n",
       "    .dataframe tbody tr th:only-of-type {\n",
       "        vertical-align: middle;\n",
       "    }\n",
       "\n",
       "    .dataframe tbody tr th {\n",
       "        vertical-align: top;\n",
       "    }\n",
       "\n",
       "    .dataframe thead th {\n",
       "        text-align: right;\n",
       "    }\n",
       "</style>\n",
       "<table border=\"1\" class=\"dataframe\">\n",
       "  <thead>\n",
       "    <tr style=\"text-align: right;\">\n",
       "      <th></th>\n",
       "      <th>date</th>\n",
       "      <th>daily_orders</th>\n",
       "      <th>daily_rev</th>\n",
       "      <th>cum_orders</th>\n",
       "      <th>cum_rev</th>\n",
       "      <th>cum_order_size</th>\n",
       "    </tr>\n",
       "  </thead>\n",
       "  <tbody>\n",
       "    <tr>\n",
       "      <th>0</th>\n",
       "      <td>2019-08-01</td>\n",
       "      <td>23</td>\n",
       "      <td>2266.6</td>\n",
       "      <td>23</td>\n",
       "      <td>2266.6</td>\n",
       "      <td>98.547826</td>\n",
       "    </tr>\n",
       "    <tr>\n",
       "      <th>1</th>\n",
       "      <td>2019-08-02</td>\n",
       "      <td>19</td>\n",
       "      <td>1468.3</td>\n",
       "      <td>42</td>\n",
       "      <td>3734.9</td>\n",
       "      <td>88.926190</td>\n",
       "    </tr>\n",
       "    <tr>\n",
       "      <th>2</th>\n",
       "      <td>2019-08-03</td>\n",
       "      <td>24</td>\n",
       "      <td>1815.2</td>\n",
       "      <td>66</td>\n",
       "      <td>5550.1</td>\n",
       "      <td>84.092424</td>\n",
       "    </tr>\n",
       "    <tr>\n",
       "      <th>3</th>\n",
       "      <td>2019-08-04</td>\n",
       "      <td>11</td>\n",
       "      <td>675.5</td>\n",
       "      <td>77</td>\n",
       "      <td>6225.6</td>\n",
       "      <td>80.851948</td>\n",
       "    </tr>\n",
       "    <tr>\n",
       "      <th>4</th>\n",
       "      <td>2019-08-05</td>\n",
       "      <td>22</td>\n",
       "      <td>1398.0</td>\n",
       "      <td>99</td>\n",
       "      <td>7623.6</td>\n",
       "      <td>77.006061</td>\n",
       "    </tr>\n",
       "    <tr>\n",
       "      <th>5</th>\n",
       "      <td>2019-08-06</td>\n",
       "      <td>15</td>\n",
       "      <td>668.4</td>\n",
       "      <td>114</td>\n",
       "      <td>8292.0</td>\n",
       "      <td>72.736842</td>\n",
       "    </tr>\n",
       "    <tr>\n",
       "      <th>6</th>\n",
       "      <td>2019-08-07</td>\n",
       "      <td>16</td>\n",
       "      <td>1942.0</td>\n",
       "      <td>130</td>\n",
       "      <td>10234.0</td>\n",
       "      <td>78.723077</td>\n",
       "    </tr>\n",
       "    <tr>\n",
       "      <th>7</th>\n",
       "      <td>2019-08-08</td>\n",
       "      <td>14</td>\n",
       "      <td>1404.8</td>\n",
       "      <td>144</td>\n",
       "      <td>11638.8</td>\n",
       "      <td>80.825000</td>\n",
       "    </tr>\n",
       "    <tr>\n",
       "      <th>8</th>\n",
       "      <td>2019-08-09</td>\n",
       "      <td>11</td>\n",
       "      <td>2095.2</td>\n",
       "      <td>155</td>\n",
       "      <td>13734.0</td>\n",
       "      <td>88.606452</td>\n",
       "    </tr>\n",
       "    <tr>\n",
       "      <th>9</th>\n",
       "      <td>2019-08-10</td>\n",
       "      <td>15</td>\n",
       "      <td>2387.5</td>\n",
       "      <td>170</td>\n",
       "      <td>16121.5</td>\n",
       "      <td>94.832353</td>\n",
       "    </tr>\n",
       "  </tbody>\n",
       "</table>\n",
       "</div>"
      ],
      "text/plain": [
       "        date  daily_orders  daily_rev  cum_orders  cum_rev  cum_order_size\n",
       "0 2019-08-01            23     2266.6          23   2266.6       98.547826\n",
       "1 2019-08-02            19     1468.3          42   3734.9       88.926190\n",
       "2 2019-08-03            24     1815.2          66   5550.1       84.092424\n",
       "3 2019-08-04            11      675.5          77   6225.6       80.851948\n",
       "4 2019-08-05            22     1398.0          99   7623.6       77.006061\n",
       "5 2019-08-06            15      668.4         114   8292.0       72.736842\n",
       "6 2019-08-07            16     1942.0         130  10234.0       78.723077\n",
       "7 2019-08-08            14     1404.8         144  11638.8       80.825000\n",
       "8 2019-08-09            11     2095.2         155  13734.0       88.606452\n",
       "9 2019-08-10            15     2387.5         170  16121.5       94.832353"
      ]
     },
     "execution_count": 36,
     "metadata": {},
     "output_type": "execute_result"
    }
   ],
   "source": [
    "# calculating cumulative average order size for group A:\n",
    "sizeA['cum_orders'] = sizeA['daily_orders'].cumsum()\n",
    "sizeA['cum_rev'] = sizeA['daily_rev'].cumsum()\n",
    "sizeA['cum_order_size'] = sizeA['cum_rev'] / sizeA['cum_orders']\n",
    "sizeA.head(10)\n"
   ]
  },
  {
   "cell_type": "code",
   "execution_count": 37,
   "id": "d4766710",
   "metadata": {},
   "outputs": [
    {
     "data": {
      "text/html": [
       "<div>\n",
       "<style scoped>\n",
       "    .dataframe tbody tr th:only-of-type {\n",
       "        vertical-align: middle;\n",
       "    }\n",
       "\n",
       "    .dataframe tbody tr th {\n",
       "        vertical-align: top;\n",
       "    }\n",
       "\n",
       "    .dataframe thead th {\n",
       "        text-align: right;\n",
       "    }\n",
       "</style>\n",
       "<table border=\"1\" class=\"dataframe\">\n",
       "  <thead>\n",
       "    <tr style=\"text-align: right;\">\n",
       "      <th></th>\n",
       "      <th>date</th>\n",
       "      <th>daily_orders</th>\n",
       "      <th>daily_rev</th>\n",
       "    </tr>\n",
       "  </thead>\n",
       "  <tbody>\n",
       "    <tr>\n",
       "      <th>0</th>\n",
       "      <td>2019-08-01</td>\n",
       "      <td>17</td>\n",
       "      <td>967.2</td>\n",
       "    </tr>\n",
       "    <tr>\n",
       "      <th>1</th>\n",
       "      <td>2019-08-02</td>\n",
       "      <td>23</td>\n",
       "      <td>2568.1</td>\n",
       "    </tr>\n",
       "    <tr>\n",
       "      <th>2</th>\n",
       "      <td>2019-08-03</td>\n",
       "      <td>14</td>\n",
       "      <td>1071.6</td>\n",
       "    </tr>\n",
       "    <tr>\n",
       "      <th>3</th>\n",
       "      <td>2019-08-04</td>\n",
       "      <td>14</td>\n",
       "      <td>1531.6</td>\n",
       "    </tr>\n",
       "    <tr>\n",
       "      <th>4</th>\n",
       "      <td>2019-08-05</td>\n",
       "      <td>21</td>\n",
       "      <td>1449.3</td>\n",
       "    </tr>\n",
       "  </tbody>\n",
       "</table>\n",
       "</div>"
      ],
      "text/plain": [
       "        date  daily_orders  daily_rev\n",
       "0 2019-08-01            17      967.2\n",
       "1 2019-08-02            23     2568.1\n",
       "2 2019-08-03            14     1071.6\n",
       "3 2019-08-04            14     1531.6\n",
       "4 2019-08-05            21     1449.3"
      ]
     },
     "execution_count": 37,
     "metadata": {},
     "output_type": "execute_result"
    }
   ],
   "source": [
    "# the same for group B:\n",
    "o_sizeB = orders_B[['date', 'transactionId', 'revenue']]\n",
    "sizeB = o_sizeB.groupby('date').agg({'transactionId': 'nunique', 'revenue': 'sum'}).reset_index()\n",
    "sizeB = sizeB.rename(columns={'transactionId': 'daily_orders', 'revenue': 'daily_rev'})\n",
    "sizeB.head()"
   ]
  },
  {
   "cell_type": "code",
   "execution_count": 38,
   "id": "f0c3fdcb",
   "metadata": {},
   "outputs": [
    {
     "data": {
      "text/html": [
       "<div>\n",
       "<style scoped>\n",
       "    .dataframe tbody tr th:only-of-type {\n",
       "        vertical-align: middle;\n",
       "    }\n",
       "\n",
       "    .dataframe tbody tr th {\n",
       "        vertical-align: top;\n",
       "    }\n",
       "\n",
       "    .dataframe thead th {\n",
       "        text-align: right;\n",
       "    }\n",
       "</style>\n",
       "<table border=\"1\" class=\"dataframe\">\n",
       "  <thead>\n",
       "    <tr style=\"text-align: right;\">\n",
       "      <th></th>\n",
       "      <th>date</th>\n",
       "      <th>daily_orders</th>\n",
       "      <th>daily_rev</th>\n",
       "      <th>cum_orders</th>\n",
       "      <th>cum_rev</th>\n",
       "      <th>cum_order_size</th>\n",
       "    </tr>\n",
       "  </thead>\n",
       "  <tbody>\n",
       "    <tr>\n",
       "      <th>0</th>\n",
       "      <td>2019-08-01</td>\n",
       "      <td>17</td>\n",
       "      <td>967.2</td>\n",
       "      <td>17</td>\n",
       "      <td>967.2</td>\n",
       "      <td>56.894118</td>\n",
       "    </tr>\n",
       "    <tr>\n",
       "      <th>1</th>\n",
       "      <td>2019-08-02</td>\n",
       "      <td>23</td>\n",
       "      <td>2568.1</td>\n",
       "      <td>40</td>\n",
       "      <td>3535.3</td>\n",
       "      <td>88.382500</td>\n",
       "    </tr>\n",
       "    <tr>\n",
       "      <th>2</th>\n",
       "      <td>2019-08-03</td>\n",
       "      <td>14</td>\n",
       "      <td>1071.6</td>\n",
       "      <td>54</td>\n",
       "      <td>4606.9</td>\n",
       "      <td>85.312963</td>\n",
       "    </tr>\n",
       "    <tr>\n",
       "      <th>3</th>\n",
       "      <td>2019-08-04</td>\n",
       "      <td>14</td>\n",
       "      <td>1531.6</td>\n",
       "      <td>68</td>\n",
       "      <td>6138.5</td>\n",
       "      <td>90.272059</td>\n",
       "    </tr>\n",
       "    <tr>\n",
       "      <th>4</th>\n",
       "      <td>2019-08-05</td>\n",
       "      <td>21</td>\n",
       "      <td>1449.3</td>\n",
       "      <td>89</td>\n",
       "      <td>7587.8</td>\n",
       "      <td>85.256180</td>\n",
       "    </tr>\n",
       "    <tr>\n",
       "      <th>5</th>\n",
       "      <td>2019-08-06</td>\n",
       "      <td>23</td>\n",
       "      <td>3369.3</td>\n",
       "      <td>112</td>\n",
       "      <td>10957.1</td>\n",
       "      <td>97.831250</td>\n",
       "    </tr>\n",
       "    <tr>\n",
       "      <th>6</th>\n",
       "      <td>2019-08-07</td>\n",
       "      <td>23</td>\n",
       "      <td>3435.6</td>\n",
       "      <td>135</td>\n",
       "      <td>14392.7</td>\n",
       "      <td>106.612593</td>\n",
       "    </tr>\n",
       "    <tr>\n",
       "      <th>7</th>\n",
       "      <td>2019-08-08</td>\n",
       "      <td>22</td>\n",
       "      <td>2379.9</td>\n",
       "      <td>157</td>\n",
       "      <td>16772.6</td>\n",
       "      <td>106.831847</td>\n",
       "    </tr>\n",
       "    <tr>\n",
       "      <th>8</th>\n",
       "      <td>2019-08-09</td>\n",
       "      <td>19</td>\n",
       "      <td>1656.2</td>\n",
       "      <td>176</td>\n",
       "      <td>18428.8</td>\n",
       "      <td>104.709091</td>\n",
       "    </tr>\n",
       "    <tr>\n",
       "      <th>9</th>\n",
       "      <td>2019-08-10</td>\n",
       "      <td>22</td>\n",
       "      <td>1674.8</td>\n",
       "      <td>198</td>\n",
       "      <td>20103.6</td>\n",
       "      <td>101.533333</td>\n",
       "    </tr>\n",
       "    <tr>\n",
       "      <th>10</th>\n",
       "      <td>2019-08-11</td>\n",
       "      <td>12</td>\n",
       "      <td>855.4</td>\n",
       "      <td>210</td>\n",
       "      <td>20959.0</td>\n",
       "      <td>99.804762</td>\n",
       "    </tr>\n",
       "    <tr>\n",
       "      <th>11</th>\n",
       "      <td>2019-08-12</td>\n",
       "      <td>19</td>\n",
       "      <td>1657.8</td>\n",
       "      <td>229</td>\n",
       "      <td>22616.8</td>\n",
       "      <td>98.763319</td>\n",
       "    </tr>\n",
       "    <tr>\n",
       "      <th>12</th>\n",
       "      <td>2019-08-13</td>\n",
       "      <td>20</td>\n",
       "      <td>1874.5</td>\n",
       "      <td>249</td>\n",
       "      <td>24491.3</td>\n",
       "      <td>98.358635</td>\n",
       "    </tr>\n",
       "    <tr>\n",
       "      <th>13</th>\n",
       "      <td>2019-08-14</td>\n",
       "      <td>14</td>\n",
       "      <td>1692.4</td>\n",
       "      <td>263</td>\n",
       "      <td>26183.7</td>\n",
       "      <td>99.557795</td>\n",
       "    </tr>\n",
       "    <tr>\n",
       "      <th>14</th>\n",
       "      <td>2019-08-15</td>\n",
       "      <td>26</td>\n",
       "      <td>4849.5</td>\n",
       "      <td>289</td>\n",
       "      <td>31033.2</td>\n",
       "      <td>107.381315</td>\n",
       "    </tr>\n",
       "    <tr>\n",
       "      <th>15</th>\n",
       "      <td>2019-08-16</td>\n",
       "      <td>18</td>\n",
       "      <td>1807.0</td>\n",
       "      <td>307</td>\n",
       "      <td>32840.2</td>\n",
       "      <td>106.971336</td>\n",
       "    </tr>\n",
       "    <tr>\n",
       "      <th>16</th>\n",
       "      <td>2019-08-17</td>\n",
       "      <td>13</td>\n",
       "      <td>1276.0</td>\n",
       "      <td>320</td>\n",
       "      <td>34116.2</td>\n",
       "      <td>106.613125</td>\n",
       "    </tr>\n",
       "    <tr>\n",
       "      <th>17</th>\n",
       "      <td>2019-08-18</td>\n",
       "      <td>7</td>\n",
       "      <td>568.5</td>\n",
       "      <td>327</td>\n",
       "      <td>34684.7</td>\n",
       "      <td>106.069419</td>\n",
       "    </tr>\n",
       "    <tr>\n",
       "      <th>18</th>\n",
       "      <td>2019-08-19</td>\n",
       "      <td>21</td>\n",
       "      <td>22064.9</td>\n",
       "      <td>348</td>\n",
       "      <td>56749.6</td>\n",
       "      <td>163.073563</td>\n",
       "    </tr>\n",
       "    <tr>\n",
       "      <th>19</th>\n",
       "      <td>2019-08-20</td>\n",
       "      <td>20</td>\n",
       "      <td>2324.6</td>\n",
       "      <td>368</td>\n",
       "      <td>59074.2</td>\n",
       "      <td>160.527717</td>\n",
       "    </tr>\n",
       "    <tr>\n",
       "      <th>20</th>\n",
       "      <td>2019-08-21</td>\n",
       "      <td>12</td>\n",
       "      <td>2200.2</td>\n",
       "      <td>380</td>\n",
       "      <td>61274.4</td>\n",
       "      <td>161.248421</td>\n",
       "    </tr>\n",
       "    <tr>\n",
       "      <th>21</th>\n",
       "      <td>2019-08-22</td>\n",
       "      <td>21</td>\n",
       "      <td>2229.5</td>\n",
       "      <td>401</td>\n",
       "      <td>63503.9</td>\n",
       "      <td>158.363840</td>\n",
       "    </tr>\n",
       "    <tr>\n",
       "      <th>22</th>\n",
       "      <td>2019-08-23</td>\n",
       "      <td>13</td>\n",
       "      <td>1228.9</td>\n",
       "      <td>414</td>\n",
       "      <td>64732.8</td>\n",
       "      <td>156.359420</td>\n",
       "    </tr>\n",
       "    <tr>\n",
       "      <th>23</th>\n",
       "      <td>2019-08-24</td>\n",
       "      <td>14</td>\n",
       "      <td>1405.7</td>\n",
       "      <td>428</td>\n",
       "      <td>66138.5</td>\n",
       "      <td>154.529206</td>\n",
       "    </tr>\n",
       "    <tr>\n",
       "      <th>24</th>\n",
       "      <td>2019-08-25</td>\n",
       "      <td>12</td>\n",
       "      <td>1255.3</td>\n",
       "      <td>440</td>\n",
       "      <td>67393.8</td>\n",
       "      <td>153.167727</td>\n",
       "    </tr>\n",
       "    <tr>\n",
       "      <th>25</th>\n",
       "      <td>2019-08-26</td>\n",
       "      <td>22</td>\n",
       "      <td>2744.3</td>\n",
       "      <td>462</td>\n",
       "      <td>70138.1</td>\n",
       "      <td>151.814069</td>\n",
       "    </tr>\n",
       "    <tr>\n",
       "      <th>26</th>\n",
       "      <td>2019-08-27</td>\n",
       "      <td>11</td>\n",
       "      <td>1746.9</td>\n",
       "      <td>473</td>\n",
       "      <td>71885.0</td>\n",
       "      <td>151.976744</td>\n",
       "    </tr>\n",
       "    <tr>\n",
       "      <th>27</th>\n",
       "      <td>2019-08-28</td>\n",
       "      <td>22</td>\n",
       "      <td>1010.5</td>\n",
       "      <td>495</td>\n",
       "      <td>72895.5</td>\n",
       "      <td>147.263636</td>\n",
       "    </tr>\n",
       "    <tr>\n",
       "      <th>28</th>\n",
       "      <td>2019-08-29</td>\n",
       "      <td>15</td>\n",
       "      <td>1681.2</td>\n",
       "      <td>510</td>\n",
       "      <td>74576.7</td>\n",
       "      <td>146.228824</td>\n",
       "    </tr>\n",
       "    <tr>\n",
       "      <th>29</th>\n",
       "      <td>2019-08-30</td>\n",
       "      <td>21</td>\n",
       "      <td>3286.8</td>\n",
       "      <td>531</td>\n",
       "      <td>77863.5</td>\n",
       "      <td>146.635593</td>\n",
       "    </tr>\n",
       "    <tr>\n",
       "      <th>30</th>\n",
       "      <td>2019-08-31</td>\n",
       "      <td>17</td>\n",
       "      <td>1787.7</td>\n",
       "      <td>548</td>\n",
       "      <td>79651.2</td>\n",
       "      <td>145.348905</td>\n",
       "    </tr>\n",
       "  </tbody>\n",
       "</table>\n",
       "</div>"
      ],
      "text/plain": [
       "         date  daily_orders  daily_rev  cum_orders  cum_rev  cum_order_size\n",
       "0  2019-08-01            17      967.2          17    967.2       56.894118\n",
       "1  2019-08-02            23     2568.1          40   3535.3       88.382500\n",
       "2  2019-08-03            14     1071.6          54   4606.9       85.312963\n",
       "3  2019-08-04            14     1531.6          68   6138.5       90.272059\n",
       "4  2019-08-05            21     1449.3          89   7587.8       85.256180\n",
       "5  2019-08-06            23     3369.3         112  10957.1       97.831250\n",
       "6  2019-08-07            23     3435.6         135  14392.7      106.612593\n",
       "7  2019-08-08            22     2379.9         157  16772.6      106.831847\n",
       "8  2019-08-09            19     1656.2         176  18428.8      104.709091\n",
       "9  2019-08-10            22     1674.8         198  20103.6      101.533333\n",
       "10 2019-08-11            12      855.4         210  20959.0       99.804762\n",
       "11 2019-08-12            19     1657.8         229  22616.8       98.763319\n",
       "12 2019-08-13            20     1874.5         249  24491.3       98.358635\n",
       "13 2019-08-14            14     1692.4         263  26183.7       99.557795\n",
       "14 2019-08-15            26     4849.5         289  31033.2      107.381315\n",
       "15 2019-08-16            18     1807.0         307  32840.2      106.971336\n",
       "16 2019-08-17            13     1276.0         320  34116.2      106.613125\n",
       "17 2019-08-18             7      568.5         327  34684.7      106.069419\n",
       "18 2019-08-19            21    22064.9         348  56749.6      163.073563\n",
       "19 2019-08-20            20     2324.6         368  59074.2      160.527717\n",
       "20 2019-08-21            12     2200.2         380  61274.4      161.248421\n",
       "21 2019-08-22            21     2229.5         401  63503.9      158.363840\n",
       "22 2019-08-23            13     1228.9         414  64732.8      156.359420\n",
       "23 2019-08-24            14     1405.7         428  66138.5      154.529206\n",
       "24 2019-08-25            12     1255.3         440  67393.8      153.167727\n",
       "25 2019-08-26            22     2744.3         462  70138.1      151.814069\n",
       "26 2019-08-27            11     1746.9         473  71885.0      151.976744\n",
       "27 2019-08-28            22     1010.5         495  72895.5      147.263636\n",
       "28 2019-08-29            15     1681.2         510  74576.7      146.228824\n",
       "29 2019-08-30            21     3286.8         531  77863.5      146.635593\n",
       "30 2019-08-31            17     1787.7         548  79651.2      145.348905"
      ]
     },
     "execution_count": 38,
     "metadata": {},
     "output_type": "execute_result"
    }
   ],
   "source": [
    "sizeB['cum_orders'] = sizeB['daily_orders'].cumsum()\n",
    "sizeB['cum_rev'] = sizeB['daily_rev'].cumsum()\n",
    "sizeB['cum_order_size'] = sizeB['cum_rev'] / sizeB['cum_orders']\n",
    "sizeB\n",
    "#.head(10)"
   ]
  },
  {
   "cell_type": "code",
   "execution_count": 39,
   "id": "06a2c953",
   "metadata": {},
   "outputs": [
    {
     "data": {
      "image/png": "[encoded data removed]",
      "text/plain": [
       "<Figure size 1008x576 with 1 Axes>"
      ]
     },
     "metadata": {},
     "output_type": "display_data"
    }
   ],
   "source": [
    "# plotting the average cumulative order size by group:\n",
    "plt.figure(figsize=(14,8))\n",
    "plt.grid()\n",
    "plt.title('Average cumulative order size by group')\n",
    "plt.plot(sizeA['date'], sizeA['cum_order_size'], label='Group A')\n",
    "plt.plot(sizeB['date'], sizeB['cum_order_size'], label='Group B')\n",
    "plt.xlabel('Date')\n",
    "plt.ylabel('Average cumulative order size')\n",
    "plt.legend()\n",
    "plt.show();"
   ]
  },
  {
   "cell_type": "markdown",
   "id": "2d3c8ae4",
   "metadata": {},
   "source": [
    "#### Conclusions: Through-out the month, the two groups have different trajectories. \n",
    "**Group A's cumulative order size** starts in a higher position compared to group B, but then drops at the first week until the 7/8 . During the second week we see a clear and somewhat linear climb in order sizes until it peaks at the 13/8. From this point on the graph seems to stablize with a slight positive tendency.\n",
    "**Group B's cumulative order size** follows a different path: Sales on the first day are very low, but rapidly rise. \n",
    "During the next 10 days, there is a clear and strong positive tendency, despite substantial fluctuation in order size. During the second week there is a somewhat more stable pattern of order size around 99$-107$, with a slight negative tendency.On the 19/8 We see a prominant rise in order sizes, adding almost 54% to the cumulative order size. From this point to the end of the week, there is a moderate and stable fall in order size.\n",
    "\n",
    "\n"
   ]
  },
  {
   "cell_type": "markdown",
   "id": "8065fea7",
   "metadata": {},
   "source": [
    "### 3. Graph the relative difference in cumulative average order size for group B compared with group A. Make conclusions and conjectures."
   ]
  },
  {
   "cell_type": "code",
   "execution_count": 40,
   "id": "33c04bc2",
   "metadata": {},
   "outputs": [
    {
     "data": {
      "text/html": [
       "<div>\n",
       "<style scoped>\n",
       "    .dataframe tbody tr th:only-of-type {\n",
       "        vertical-align: middle;\n",
       "    }\n",
       "\n",
       "    .dataframe tbody tr th {\n",
       "        vertical-align: top;\n",
       "    }\n",
       "\n",
       "    .dataframe thead th {\n",
       "        text-align: right;\n",
       "    }\n",
       "</style>\n",
       "<table border=\"1\" class=\"dataframe\">\n",
       "  <thead>\n",
       "    <tr style=\"text-align: right;\">\n",
       "      <th></th>\n",
       "      <th>date</th>\n",
       "      <th>daily_ordersA</th>\n",
       "      <th>daily_revA</th>\n",
       "      <th>cum_ordersA</th>\n",
       "      <th>cum_revA</th>\n",
       "      <th>cum_order_sizeA</th>\n",
       "      <th>daily_ordersB</th>\n",
       "      <th>daily_revB</th>\n",
       "      <th>cum_ordersB</th>\n",
       "      <th>cum_revB</th>\n",
       "      <th>cum_order_sizeB</th>\n",
       "    </tr>\n",
       "  </thead>\n",
       "  <tbody>\n",
       "    <tr>\n",
       "      <th>0</th>\n",
       "      <td>2019-08-01</td>\n",
       "      <td>23</td>\n",
       "      <td>2266.6</td>\n",
       "      <td>23</td>\n",
       "      <td>2266.6</td>\n",
       "      <td>98.547826</td>\n",
       "      <td>17</td>\n",
       "      <td>967.2</td>\n",
       "      <td>17</td>\n",
       "      <td>967.2</td>\n",
       "      <td>56.894118</td>\n",
       "    </tr>\n",
       "    <tr>\n",
       "      <th>1</th>\n",
       "      <td>2019-08-02</td>\n",
       "      <td>19</td>\n",
       "      <td>1468.3</td>\n",
       "      <td>42</td>\n",
       "      <td>3734.9</td>\n",
       "      <td>88.926190</td>\n",
       "      <td>23</td>\n",
       "      <td>2568.1</td>\n",
       "      <td>40</td>\n",
       "      <td>3535.3</td>\n",
       "      <td>88.382500</td>\n",
       "    </tr>\n",
       "    <tr>\n",
       "      <th>2</th>\n",
       "      <td>2019-08-03</td>\n",
       "      <td>24</td>\n",
       "      <td>1815.2</td>\n",
       "      <td>66</td>\n",
       "      <td>5550.1</td>\n",
       "      <td>84.092424</td>\n",
       "      <td>14</td>\n",
       "      <td>1071.6</td>\n",
       "      <td>54</td>\n",
       "      <td>4606.9</td>\n",
       "      <td>85.312963</td>\n",
       "    </tr>\n",
       "    <tr>\n",
       "      <th>3</th>\n",
       "      <td>2019-08-04</td>\n",
       "      <td>11</td>\n",
       "      <td>675.5</td>\n",
       "      <td>77</td>\n",
       "      <td>6225.6</td>\n",
       "      <td>80.851948</td>\n",
       "      <td>14</td>\n",
       "      <td>1531.6</td>\n",
       "      <td>68</td>\n",
       "      <td>6138.5</td>\n",
       "      <td>90.272059</td>\n",
       "    </tr>\n",
       "    <tr>\n",
       "      <th>4</th>\n",
       "      <td>2019-08-05</td>\n",
       "      <td>22</td>\n",
       "      <td>1398.0</td>\n",
       "      <td>99</td>\n",
       "      <td>7623.6</td>\n",
       "      <td>77.006061</td>\n",
       "      <td>21</td>\n",
       "      <td>1449.3</td>\n",
       "      <td>89</td>\n",
       "      <td>7587.8</td>\n",
       "      <td>85.256180</td>\n",
       "    </tr>\n",
       "  </tbody>\n",
       "</table>\n",
       "</div>"
      ],
      "text/plain": [
       "        date  daily_ordersA  daily_revA  cum_ordersA  cum_revA  \\\n",
       "0 2019-08-01             23      2266.6           23    2266.6   \n",
       "1 2019-08-02             19      1468.3           42    3734.9   \n",
       "2 2019-08-03             24      1815.2           66    5550.1   \n",
       "3 2019-08-04             11       675.5           77    6225.6   \n",
       "4 2019-08-05             22      1398.0           99    7623.6   \n",
       "\n",
       "   cum_order_sizeA  daily_ordersB  daily_revB  cum_ordersB  cum_revB  \\\n",
       "0        98.547826             17       967.2           17     967.2   \n",
       "1        88.926190             23      2568.1           40    3535.3   \n",
       "2        84.092424             14      1071.6           54    4606.9   \n",
       "3        80.851948             14      1531.6           68    6138.5   \n",
       "4        77.006061             21      1449.3           89    7587.8   \n",
       "\n",
       "   cum_order_sizeB  \n",
       "0        56.894118  \n",
       "1        88.382500  \n",
       "2        85.312963  \n",
       "3        90.272059  \n",
       "4        85.256180  "
      ]
     },
     "execution_count": 40,
     "metadata": {},
     "output_type": "execute_result"
    }
   ],
   "source": [
    "# Gathering the data into one DataFrame\n",
    "mergeddata = sizeA.merge(sizeB, left_on='date', right_on='date', how='left', suffixes=['A', 'B'])\n",
    "mergeddata.head()"
   ]
  },
  {
   "cell_type": "code",
   "execution_count": 41,
   "id": "7644bc77",
   "metadata": {},
   "outputs": [
    {
     "data": {
      "image/png": "[encoded data removed]",
      "text/plain": [
       "<Figure size 842.4x595.44 with 1 Axes>"
      ]
     },
     "metadata": {},
     "output_type": "display_data"
    }
   ],
   "source": [
    "# Plotting a relative difference graph for the average purchase sizes\n",
    "plt.plot(mergeddata['date'], (mergeddata['cum_order_sizeB']/mergeddata['cum_order_sizeA'])-1)\n",
    "plt.axhline(y=0, color='black', linestyle='--')\n",
    "plt.title(\"The relative difference graph for the average purchase size\");"
   ]
  },
  {
   "cell_type": "markdown",
   "id": "0f9dc9e5",
   "metadata": {},
   "source": [
    "#### Conclusions: The relative difference graph shows that during most of the month group B took the lead in terms of order sizes. However, since at several points the difference between the groups spike it might be indicative of some big orders and outliers."
   ]
  },
  {
   "cell_type": "markdown",
   "id": "2d6a4cd6",
   "metadata": {},
   "source": [
    "### 4. Calculate each group's conversion rate as the ratio of orders to the number of visits for each day. Plot the daily conversion rates of the two groups and describe the difference. Draw conclusions and make conjectures."
   ]
  },
  {
   "cell_type": "code",
   "execution_count": 42,
   "id": "0893499e",
   "metadata": {},
   "outputs": [],
   "source": [
    "# merging tables to get data on number of visits:\n",
    "vo_A = sizeA.merge(visits_A, on='date', how='left')\n",
    "vo_B = sizeB.merge(visits_B, on='date', how='left')\n"
   ]
  },
  {
   "cell_type": "code",
   "execution_count": 43,
   "id": "af041e1b",
   "metadata": {},
   "outputs": [
    {
     "data": {
      "text/html": [
       "<div>\n",
       "<style scoped>\n",
       "    .dataframe tbody tr th:only-of-type {\n",
       "        vertical-align: middle;\n",
       "    }\n",
       "\n",
       "    .dataframe tbody tr th {\n",
       "        vertical-align: top;\n",
       "    }\n",
       "\n",
       "    .dataframe thead th {\n",
       "        text-align: right;\n",
       "    }\n",
       "</style>\n",
       "<table border=\"1\" class=\"dataframe\">\n",
       "  <thead>\n",
       "    <tr style=\"text-align: right;\">\n",
       "      <th></th>\n",
       "      <th>date</th>\n",
       "      <th>daily_orders</th>\n",
       "      <th>daily_rev</th>\n",
       "      <th>cum_orders</th>\n",
       "      <th>cum_rev</th>\n",
       "      <th>cum_order_size</th>\n",
       "      <th>group</th>\n",
       "      <th>visits</th>\n",
       "      <th>cv</th>\n",
       "    </tr>\n",
       "  </thead>\n",
       "  <tbody>\n",
       "    <tr>\n",
       "      <th>0</th>\n",
       "      <td>2019-08-01</td>\n",
       "      <td>23</td>\n",
       "      <td>2266.6</td>\n",
       "      <td>23</td>\n",
       "      <td>2266.6</td>\n",
       "      <td>98.547826</td>\n",
       "      <td>A</td>\n",
       "      <td>719</td>\n",
       "      <td>0.031989</td>\n",
       "    </tr>\n",
       "    <tr>\n",
       "      <th>1</th>\n",
       "      <td>2019-08-02</td>\n",
       "      <td>19</td>\n",
       "      <td>1468.3</td>\n",
       "      <td>42</td>\n",
       "      <td>3734.9</td>\n",
       "      <td>88.926190</td>\n",
       "      <td>A</td>\n",
       "      <td>619</td>\n",
       "      <td>0.030695</td>\n",
       "    </tr>\n",
       "    <tr>\n",
       "      <th>2</th>\n",
       "      <td>2019-08-03</td>\n",
       "      <td>24</td>\n",
       "      <td>1815.2</td>\n",
       "      <td>66</td>\n",
       "      <td>5550.1</td>\n",
       "      <td>84.092424</td>\n",
       "      <td>A</td>\n",
       "      <td>507</td>\n",
       "      <td>0.047337</td>\n",
       "    </tr>\n",
       "    <tr>\n",
       "      <th>3</th>\n",
       "      <td>2019-08-04</td>\n",
       "      <td>11</td>\n",
       "      <td>675.5</td>\n",
       "      <td>77</td>\n",
       "      <td>6225.6</td>\n",
       "      <td>80.851948</td>\n",
       "      <td>A</td>\n",
       "      <td>717</td>\n",
       "      <td>0.015342</td>\n",
       "    </tr>\n",
       "    <tr>\n",
       "      <th>4</th>\n",
       "      <td>2019-08-05</td>\n",
       "      <td>22</td>\n",
       "      <td>1398.0</td>\n",
       "      <td>99</td>\n",
       "      <td>7623.6</td>\n",
       "      <td>77.006061</td>\n",
       "      <td>A</td>\n",
       "      <td>756</td>\n",
       "      <td>0.029101</td>\n",
       "    </tr>\n",
       "  </tbody>\n",
       "</table>\n",
       "</div>"
      ],
      "text/plain": [
       "        date  daily_orders  daily_rev  cum_orders  cum_rev  cum_order_size  \\\n",
       "0 2019-08-01            23     2266.6          23   2266.6       98.547826   \n",
       "1 2019-08-02            19     1468.3          42   3734.9       88.926190   \n",
       "2 2019-08-03            24     1815.2          66   5550.1       84.092424   \n",
       "3 2019-08-04            11      675.5          77   6225.6       80.851948   \n",
       "4 2019-08-05            22     1398.0          99   7623.6       77.006061   \n",
       "\n",
       "  group  visits        cv  \n",
       "0     A     719  0.031989  \n",
       "1     A     619  0.030695  \n",
       "2     A     507  0.047337  \n",
       "3     A     717  0.015342  \n",
       "4     A     756  0.029101  "
      ]
     },
     "execution_count": 43,
     "metadata": {},
     "output_type": "execute_result"
    },
    {
     "data": {
      "text/html": [
       "<div>\n",
       "<style scoped>\n",
       "    .dataframe tbody tr th:only-of-type {\n",
       "        vertical-align: middle;\n",
       "    }\n",
       "\n",
       "    .dataframe tbody tr th {\n",
       "        vertical-align: top;\n",
       "    }\n",
       "\n",
       "    .dataframe thead th {\n",
       "        text-align: right;\n",
       "    }\n",
       "</style>\n",
       "<table border=\"1\" class=\"dataframe\">\n",
       "  <thead>\n",
       "    <tr style=\"text-align: right;\">\n",
       "      <th></th>\n",
       "      <th>date</th>\n",
       "      <th>daily_orders</th>\n",
       "      <th>daily_rev</th>\n",
       "      <th>cum_orders</th>\n",
       "      <th>cum_rev</th>\n",
       "      <th>cum_order_size</th>\n",
       "      <th>group</th>\n",
       "      <th>visits</th>\n",
       "      <th>cv</th>\n",
       "    </tr>\n",
       "  </thead>\n",
       "  <tbody>\n",
       "    <tr>\n",
       "      <th>0</th>\n",
       "      <td>2019-08-01</td>\n",
       "      <td>17</td>\n",
       "      <td>967.2</td>\n",
       "      <td>17</td>\n",
       "      <td>967.2</td>\n",
       "      <td>56.894118</td>\n",
       "      <td>B</td>\n",
       "      <td>713</td>\n",
       "      <td>0.023843</td>\n",
       "    </tr>\n",
       "    <tr>\n",
       "      <th>1</th>\n",
       "      <td>2019-08-02</td>\n",
       "      <td>23</td>\n",
       "      <td>2568.1</td>\n",
       "      <td>40</td>\n",
       "      <td>3535.3</td>\n",
       "      <td>88.382500</td>\n",
       "      <td>B</td>\n",
       "      <td>581</td>\n",
       "      <td>0.039587</td>\n",
       "    </tr>\n",
       "    <tr>\n",
       "      <th>2</th>\n",
       "      <td>2019-08-03</td>\n",
       "      <td>14</td>\n",
       "      <td>1071.6</td>\n",
       "      <td>54</td>\n",
       "      <td>4606.9</td>\n",
       "      <td>85.312963</td>\n",
       "      <td>B</td>\n",
       "      <td>509</td>\n",
       "      <td>0.027505</td>\n",
       "    </tr>\n",
       "    <tr>\n",
       "      <th>3</th>\n",
       "      <td>2019-08-04</td>\n",
       "      <td>14</td>\n",
       "      <td>1531.6</td>\n",
       "      <td>68</td>\n",
       "      <td>6138.5</td>\n",
       "      <td>90.272059</td>\n",
       "      <td>B</td>\n",
       "      <td>770</td>\n",
       "      <td>0.018182</td>\n",
       "    </tr>\n",
       "    <tr>\n",
       "      <th>4</th>\n",
       "      <td>2019-08-05</td>\n",
       "      <td>21</td>\n",
       "      <td>1449.3</td>\n",
       "      <td>89</td>\n",
       "      <td>7587.8</td>\n",
       "      <td>85.256180</td>\n",
       "      <td>B</td>\n",
       "      <td>707</td>\n",
       "      <td>0.029703</td>\n",
       "    </tr>\n",
       "  </tbody>\n",
       "</table>\n",
       "</div>"
      ],
      "text/plain": [
       "        date  daily_orders  daily_rev  cum_orders  cum_rev  cum_order_size  \\\n",
       "0 2019-08-01            17      967.2          17    967.2       56.894118   \n",
       "1 2019-08-02            23     2568.1          40   3535.3       88.382500   \n",
       "2 2019-08-03            14     1071.6          54   4606.9       85.312963   \n",
       "3 2019-08-04            14     1531.6          68   6138.5       90.272059   \n",
       "4 2019-08-05            21     1449.3          89   7587.8       85.256180   \n",
       "\n",
       "  group  visits        cv  \n",
       "0     B     713  0.023843  \n",
       "1     B     581  0.039587  \n",
       "2     B     509  0.027505  \n",
       "3     B     770  0.018182  \n",
       "4     B     707  0.029703  "
      ]
     },
     "execution_count": 43,
     "metadata": {},
     "output_type": "execute_result"
    }
   ],
   "source": [
    "# calculating conversion rates:\n",
    "vo_A['cv'] = vo_A['daily_orders'] / vo_A['visits']\n",
    "vo_B['cv'] = vo_B['daily_orders'] / vo_B['visits']\n",
    "vo_A.head()\n",
    "vo_B.head()"
   ]
  },
  {
   "cell_type": "code",
   "execution_count": 44,
   "id": "4a203af9",
   "metadata": {},
   "outputs": [
    {
     "data": {
      "image/png": "[encoded data removed]",
      "text/plain": [
       "<Figure size 842.4x595.44 with 1 Axes>"
      ]
     },
     "metadata": {},
     "output_type": "display_data"
    }
   ],
   "source": [
    "plt.plot(vo_A['date'], vo_A['cv'], label='Group A')\n",
    "plt.plot(vo_B['date'], vo_B['cv'], label='Group B')\n",
    "plt.title(\"Daily conversion rates- comparing group A to group B\")\n",
    "plt.legend();"
   ]
  },
  {
   "cell_type": "code",
   "execution_count": 45,
   "id": "7ea8b829",
   "metadata": {},
   "outputs": [
    {
     "name": "stdout",
     "output_type": "stream",
     "text": [
      "overall conversion rate for group A: 0.02497865072587532\n",
      "overall conversion rate for group B: 0.02897018397124128\n"
     ]
    }
   ],
   "source": [
    "#overall conversion:\n",
    "print (\"overall conversion rate for group A:\", vo_A['daily_orders'].sum()/vo_A['visits'].sum())\n",
    "print (\"overall conversion rate for group B:\", vo_B['daily_orders'].sum()/vo_B['visits'].sum())"
   ]
  },
  {
   "cell_type": "markdown",
   "id": "65bdd899",
   "metadata": {},
   "source": [
    "#### Conclusions: **The graph depicts the daily convergance rate of both groups: In general, it shows very low conversion rates for both groups with a somewhat similar pattern of fluctuation. The overall conversion rates are similar as well, which means that out of a lot of users only a small amount become buyers.**"
   ]
  },
  {
   "cell_type": "markdown",
   "id": "e02098ac",
   "metadata": {},
   "source": [
    "#### plot a relative difference graph for the cumulative conversion rates"
   ]
  },
  {
   "cell_type": "code",
   "execution_count": 46,
   "id": "2e4f4dbb",
   "metadata": {},
   "outputs": [],
   "source": [
    "# creating a cumulative visit column:\n",
    "vo_A['cum_visits'] = vo_A['visits'].cumsum()\n",
    "vo_B['cum_visits'] = vo_B['visits'].cumsum()"
   ]
  },
  {
   "cell_type": "code",
   "execution_count": 47,
   "id": "e04903f4",
   "metadata": {},
   "outputs": [
    {
     "name": "stdout",
     "output_type": "stream",
     "text": [
      "Group A\n"
     ]
    },
    {
     "data": {
      "text/html": [
       "<div>\n",
       "<style scoped>\n",
       "    .dataframe tbody tr th:only-of-type {\n",
       "        vertical-align: middle;\n",
       "    }\n",
       "\n",
       "    .dataframe tbody tr th {\n",
       "        vertical-align: top;\n",
       "    }\n",
       "\n",
       "    .dataframe thead th {\n",
       "        text-align: right;\n",
       "    }\n",
       "</style>\n",
       "<table border=\"1\" class=\"dataframe\">\n",
       "  <thead>\n",
       "    <tr style=\"text-align: right;\">\n",
       "      <th></th>\n",
       "      <th>date</th>\n",
       "      <th>cum_cv</th>\n",
       "    </tr>\n",
       "  </thead>\n",
       "  <tbody>\n",
       "    <tr>\n",
       "      <th>0</th>\n",
       "      <td>2019-08-01</td>\n",
       "      <td>0.031989</td>\n",
       "    </tr>\n",
       "    <tr>\n",
       "      <th>1</th>\n",
       "      <td>2019-08-02</td>\n",
       "      <td>0.031390</td>\n",
       "    </tr>\n",
       "    <tr>\n",
       "      <th>2</th>\n",
       "      <td>2019-08-03</td>\n",
       "      <td>0.035772</td>\n",
       "    </tr>\n",
       "    <tr>\n",
       "      <th>3</th>\n",
       "      <td>2019-08-04</td>\n",
       "      <td>0.030055</td>\n",
       "    </tr>\n",
       "    <tr>\n",
       "      <th>4</th>\n",
       "      <td>2019-08-05</td>\n",
       "      <td>0.029837</td>\n",
       "    </tr>\n",
       "    <tr>\n",
       "      <th>5</th>\n",
       "      <td>2019-08-06</td>\n",
       "      <td>0.028607</td>\n",
       "    </tr>\n",
       "    <tr>\n",
       "      <th>6</th>\n",
       "      <td>2019-08-07</td>\n",
       "      <td>0.028084</td>\n",
       "    </tr>\n",
       "  </tbody>\n",
       "</table>\n",
       "</div>"
      ],
      "text/plain": [
       "        date    cum_cv\n",
       "0 2019-08-01  0.031989\n",
       "1 2019-08-02  0.031390\n",
       "2 2019-08-03  0.035772\n",
       "3 2019-08-04  0.030055\n",
       "4 2019-08-05  0.029837\n",
       "5 2019-08-06  0.028607\n",
       "6 2019-08-07  0.028084"
      ]
     },
     "execution_count": 47,
     "metadata": {},
     "output_type": "execute_result"
    },
    {
     "name": "stdout",
     "output_type": "stream",
     "text": [
      "Group B\n"
     ]
    },
    {
     "data": {
      "text/html": [
       "<div>\n",
       "<style scoped>\n",
       "    .dataframe tbody tr th:only-of-type {\n",
       "        vertical-align: middle;\n",
       "    }\n",
       "\n",
       "    .dataframe tbody tr th {\n",
       "        vertical-align: top;\n",
       "    }\n",
       "\n",
       "    .dataframe thead th {\n",
       "        text-align: right;\n",
       "    }\n",
       "</style>\n",
       "<table border=\"1\" class=\"dataframe\">\n",
       "  <thead>\n",
       "    <tr style=\"text-align: right;\">\n",
       "      <th></th>\n",
       "      <th>date</th>\n",
       "      <th>cum_cv</th>\n",
       "    </tr>\n",
       "  </thead>\n",
       "  <tbody>\n",
       "    <tr>\n",
       "      <th>0</th>\n",
       "      <td>2019-08-01</td>\n",
       "      <td>0.023843</td>\n",
       "    </tr>\n",
       "    <tr>\n",
       "      <th>1</th>\n",
       "      <td>2019-08-02</td>\n",
       "      <td>0.030912</td>\n",
       "    </tr>\n",
       "    <tr>\n",
       "      <th>2</th>\n",
       "      <td>2019-08-03</td>\n",
       "      <td>0.029950</td>\n",
       "    </tr>\n",
       "    <tr>\n",
       "      <th>3</th>\n",
       "      <td>2019-08-04</td>\n",
       "      <td>0.026428</td>\n",
       "    </tr>\n",
       "    <tr>\n",
       "      <th>4</th>\n",
       "      <td>2019-08-05</td>\n",
       "      <td>0.027134</td>\n",
       "    </tr>\n",
       "    <tr>\n",
       "      <th>5</th>\n",
       "      <td>2019-08-06</td>\n",
       "      <td>0.028463</td>\n",
       "    </tr>\n",
       "    <tr>\n",
       "      <th>6</th>\n",
       "      <td>2019-08-07</td>\n",
       "      <td>0.029070</td>\n",
       "    </tr>\n",
       "  </tbody>\n",
       "</table>\n",
       "</div>"
      ],
      "text/plain": [
       "        date    cum_cv\n",
       "0 2019-08-01  0.023843\n",
       "1 2019-08-02  0.030912\n",
       "2 2019-08-03  0.029950\n",
       "3 2019-08-04  0.026428\n",
       "4 2019-08-05  0.027134\n",
       "5 2019-08-06  0.028463\n",
       "6 2019-08-07  0.029070"
      ]
     },
     "execution_count": 47,
     "metadata": {},
     "output_type": "execute_result"
    }
   ],
   "source": [
    "# calculating the cumulative conversion rates:\n",
    "vo_A['cum_cv'] = vo_A['cum_orders'] / vo_A['cum_visits']\n",
    "vo_B['cum_cv'] = vo_B['cum_orders'] / vo_B['cum_visits']\n",
    "print(\"Group A\")\n",
    "vo_A[['date', 'cum_cv']].head(7)\n",
    "print(\"Group B\")\n",
    "vo_B[['date', 'cum_cv']].head(7)"
   ]
  },
  {
   "cell_type": "code",
   "execution_count": 48,
   "id": "d7944bdf",
   "metadata": {},
   "outputs": [
    {
     "data": {
      "image/png": "[encoded data removed]",
      "text/plain": [
       "<Figure size 842.4x595.44 with 1 Axes>"
      ]
     },
     "metadata": {},
     "output_type": "display_data"
    }
   ],
   "source": [
    "# plotting Cumulative conversion rate graphs for the two groups\n",
    "plt.plot(vo_A['date'], vo_A['cum_cv'], label='Group A')\n",
    "plt.plot(vo_B['date'], vo_B['cum_cv'], label='Group B')\n",
    "plt.title(\"Cumulative conversion rates- comparing group A to group B\")\n",
    "plt.legend();"
   ]
  },
  {
   "cell_type": "markdown",
   "id": "f9ddc231",
   "metadata": {},
   "source": [
    "**Graph interpretation: The cumulative converion rates of the two groups is low, but they follow different paths. \n",
    "- Group A peaks on the 3rd of Aug (cum_conversion= 0.036), and then drops steadily for about 10 days, and stabilizes on a lower value of aroung 0.025.\n",
    "- Group B peaks on the second of Aug in a lower cum. conversion rate than group A (0.031), but then drops and rises to a higher level, stabilizing at around 0.029 (higher than group A)**\n"
   ]
  },
  {
   "cell_type": "code",
   "execution_count": 49,
   "id": "01e2aa24",
   "metadata": {},
   "outputs": [
    {
     "data": {
      "text/html": [
       "<div>\n",
       "<style scoped>\n",
       "    .dataframe tbody tr th:only-of-type {\n",
       "        vertical-align: middle;\n",
       "    }\n",
       "\n",
       "    .dataframe tbody tr th {\n",
       "        vertical-align: top;\n",
       "    }\n",
       "\n",
       "    .dataframe thead th {\n",
       "        text-align: right;\n",
       "    }\n",
       "</style>\n",
       "<table border=\"1\" class=\"dataframe\">\n",
       "  <thead>\n",
       "    <tr style=\"text-align: right;\">\n",
       "      <th></th>\n",
       "      <th>date</th>\n",
       "      <th>daily_ordersA</th>\n",
       "      <th>daily_revA</th>\n",
       "      <th>cum_ordersA</th>\n",
       "      <th>cum_revA</th>\n",
       "      <th>cum_order_sizeA</th>\n",
       "      <th>groupA</th>\n",
       "      <th>visitsA</th>\n",
       "      <th>cvA</th>\n",
       "      <th>cum_visitsA</th>\n",
       "      <th>...</th>\n",
       "      <th>daily_ordersB</th>\n",
       "      <th>daily_revB</th>\n",
       "      <th>cum_ordersB</th>\n",
       "      <th>cum_revB</th>\n",
       "      <th>cum_order_sizeB</th>\n",
       "      <th>groupB</th>\n",
       "      <th>visitsB</th>\n",
       "      <th>cvB</th>\n",
       "      <th>cum_visitsB</th>\n",
       "      <th>cum_cvB</th>\n",
       "    </tr>\n",
       "  </thead>\n",
       "  <tbody>\n",
       "    <tr>\n",
       "      <th>0</th>\n",
       "      <td>2019-08-01</td>\n",
       "      <td>23</td>\n",
       "      <td>2266.6</td>\n",
       "      <td>23</td>\n",
       "      <td>2266.6</td>\n",
       "      <td>98.547826</td>\n",
       "      <td>A</td>\n",
       "      <td>719</td>\n",
       "      <td>0.031989</td>\n",
       "      <td>719</td>\n",
       "      <td>...</td>\n",
       "      <td>17</td>\n",
       "      <td>967.2</td>\n",
       "      <td>17</td>\n",
       "      <td>967.2</td>\n",
       "      <td>56.894118</td>\n",
       "      <td>B</td>\n",
       "      <td>713</td>\n",
       "      <td>0.023843</td>\n",
       "      <td>713</td>\n",
       "      <td>0.023843</td>\n",
       "    </tr>\n",
       "    <tr>\n",
       "      <th>1</th>\n",
       "      <td>2019-08-02</td>\n",
       "      <td>19</td>\n",
       "      <td>1468.3</td>\n",
       "      <td>42</td>\n",
       "      <td>3734.9</td>\n",
       "      <td>88.926190</td>\n",
       "      <td>A</td>\n",
       "      <td>619</td>\n",
       "      <td>0.030695</td>\n",
       "      <td>1338</td>\n",
       "      <td>...</td>\n",
       "      <td>23</td>\n",
       "      <td>2568.1</td>\n",
       "      <td>40</td>\n",
       "      <td>3535.3</td>\n",
       "      <td>88.382500</td>\n",
       "      <td>B</td>\n",
       "      <td>581</td>\n",
       "      <td>0.039587</td>\n",
       "      <td>1294</td>\n",
       "      <td>0.030912</td>\n",
       "    </tr>\n",
       "    <tr>\n",
       "      <th>2</th>\n",
       "      <td>2019-08-03</td>\n",
       "      <td>24</td>\n",
       "      <td>1815.2</td>\n",
       "      <td>66</td>\n",
       "      <td>5550.1</td>\n",
       "      <td>84.092424</td>\n",
       "      <td>A</td>\n",
       "      <td>507</td>\n",
       "      <td>0.047337</td>\n",
       "      <td>1845</td>\n",
       "      <td>...</td>\n",
       "      <td>14</td>\n",
       "      <td>1071.6</td>\n",
       "      <td>54</td>\n",
       "      <td>4606.9</td>\n",
       "      <td>85.312963</td>\n",
       "      <td>B</td>\n",
       "      <td>509</td>\n",
       "      <td>0.027505</td>\n",
       "      <td>1803</td>\n",
       "      <td>0.029950</td>\n",
       "    </tr>\n",
       "    <tr>\n",
       "      <th>3</th>\n",
       "      <td>2019-08-04</td>\n",
       "      <td>11</td>\n",
       "      <td>675.5</td>\n",
       "      <td>77</td>\n",
       "      <td>6225.6</td>\n",
       "      <td>80.851948</td>\n",
       "      <td>A</td>\n",
       "      <td>717</td>\n",
       "      <td>0.015342</td>\n",
       "      <td>2562</td>\n",
       "      <td>...</td>\n",
       "      <td>14</td>\n",
       "      <td>1531.6</td>\n",
       "      <td>68</td>\n",
       "      <td>6138.5</td>\n",
       "      <td>90.272059</td>\n",
       "      <td>B</td>\n",
       "      <td>770</td>\n",
       "      <td>0.018182</td>\n",
       "      <td>2573</td>\n",
       "      <td>0.026428</td>\n",
       "    </tr>\n",
       "    <tr>\n",
       "      <th>4</th>\n",
       "      <td>2019-08-05</td>\n",
       "      <td>22</td>\n",
       "      <td>1398.0</td>\n",
       "      <td>99</td>\n",
       "      <td>7623.6</td>\n",
       "      <td>77.006061</td>\n",
       "      <td>A</td>\n",
       "      <td>756</td>\n",
       "      <td>0.029101</td>\n",
       "      <td>3318</td>\n",
       "      <td>...</td>\n",
       "      <td>21</td>\n",
       "      <td>1449.3</td>\n",
       "      <td>89</td>\n",
       "      <td>7587.8</td>\n",
       "      <td>85.256180</td>\n",
       "      <td>B</td>\n",
       "      <td>707</td>\n",
       "      <td>0.029703</td>\n",
       "      <td>3280</td>\n",
       "      <td>0.027134</td>\n",
       "    </tr>\n",
       "  </tbody>\n",
       "</table>\n",
       "<p>5 rows × 21 columns</p>\n",
       "</div>"
      ],
      "text/plain": [
       "        date  daily_ordersA  daily_revA  cum_ordersA  cum_revA  \\\n",
       "0 2019-08-01             23      2266.6           23    2266.6   \n",
       "1 2019-08-02             19      1468.3           42    3734.9   \n",
       "2 2019-08-03             24      1815.2           66    5550.1   \n",
       "3 2019-08-04             11       675.5           77    6225.6   \n",
       "4 2019-08-05             22      1398.0           99    7623.6   \n",
       "\n",
       "   cum_order_sizeA groupA  visitsA       cvA  cum_visitsA  ...  daily_ordersB  \\\n",
       "0        98.547826      A      719  0.031989          719  ...             17   \n",
       "1        88.926190      A      619  0.030695         1338  ...             23   \n",
       "2        84.092424      A      507  0.047337         1845  ...             14   \n",
       "3        80.851948      A      717  0.015342         2562  ...             14   \n",
       "4        77.006061      A      756  0.029101         3318  ...             21   \n",
       "\n",
       "   daily_revB  cum_ordersB  cum_revB  cum_order_sizeB  groupB visitsB  \\\n",
       "0       967.2           17     967.2        56.894118       B     713   \n",
       "1      2568.1           40    3535.3        88.382500       B     581   \n",
       "2      1071.6           54    4606.9        85.312963       B     509   \n",
       "3      1531.6           68    6138.5        90.272059       B     770   \n",
       "4      1449.3           89    7587.8        85.256180       B     707   \n",
       "\n",
       "        cvB  cum_visitsB   cum_cvB  \n",
       "0  0.023843          713  0.023843  \n",
       "1  0.039587         1294  0.030912  \n",
       "2  0.027505         1803  0.029950  \n",
       "3  0.018182         2573  0.026428  \n",
       "4  0.029703         3280  0.027134  \n",
       "\n",
       "[5 rows x 21 columns]"
      ]
     },
     "execution_count": 49,
     "metadata": {},
     "output_type": "execute_result"
    }
   ],
   "source": [
    "# towards a relative difference graph- Gmerging datasets:\n",
    "cum_cv_merged = vo_A.merge(vo_B, left_on='date', right_on='date', how='left', suffixes=['A', 'B'])\n",
    "cum_cv_merged.head()\n"
   ]
  },
  {
   "cell_type": "code",
   "execution_count": 50,
   "id": "d2b13c29",
   "metadata": {},
   "outputs": [
    {
     "data": {
      "image/png": "[encoded data removed]",
      "text/plain": [
       "<Figure size 842.4x595.44 with 1 Axes>"
      ]
     },
     "metadata": {},
     "output_type": "display_data"
    }
   ],
   "source": [
    "# Plotting a relative difference graph for the cumulative conversion\n",
    "plt.plot(cum_cv_merged['date'], (cum_cv_merged['cum_cvB']/cum_cv_merged['cum_cvA'])-1)\n",
    "plt.axhline(y=0, color='black', linestyle='--')\n",
    "plt.title(\"The relative difference graph for the average cumulative conversion rate\");"
   ]
  },
  {
   "cell_type": "markdown",
   "id": "7432817b",
   "metadata": {},
   "source": [
    "**The relative difference graph adds to the previous cumulative conversion, by illustrating how group B, starting from about a week into the experiment, takes the lead and shows about 20% higher conversion rates compared to group A.**"
   ]
  },
  {
   "cell_type": "markdown",
   "id": "204b90fa",
   "metadata": {},
   "source": [
    "### 5. Plot a scatter chart of the number of orders per user. Make conclusions and conjectures. "
   ]
  },
  {
   "cell_type": "code",
   "execution_count": 51,
   "id": "e563c5b8",
   "metadata": {},
   "outputs": [
    {
     "name": "stdout",
     "output_type": "stream",
     "text": [
      "      visitorId  orders\n",
      "58    611059232       3\n",
      "211  2108163459       3\n",
      "310  2988190573       3\n",
      "409  3908431265       3\n",
      "416  3967698036       3\n",
      "302  2892265953       2\n",
      "374  3469608676       2\n",
      "72    759473111       2\n",
      "286  2744017357       2\n",
      "282  2733145037       2\n"
     ]
    }
   ],
   "source": [
    "# Group A:\n",
    "ordersByUsersA = (\n",
    "    orders_A.drop(['group', 'revenue', 'date'], axis=1)\n",
    "    .groupby('visitorId', as_index=False)\n",
    "    .agg({'transactionId': pd.Series.nunique})\n",
    ")\n",
    "ordersByUsersA.columns = ['visitorId', 'orders']\n",
    "print(ordersByUsersA.sort_values(by='orders', ascending=False).head(10))\n"
   ]
  },
  {
   "cell_type": "code",
   "execution_count": 52,
   "id": "d46b5d08",
   "metadata": {},
   "outputs": [
    {
     "data": {
      "image/png": "[encoded data removed]",
      "text/plain": [
       "<Figure size 842.4x595.44 with 1 Axes>"
      ]
     },
     "metadata": {},
     "output_type": "display_data"
    }
   ],
   "source": [
    "# scatter plot\n",
    "x_values = pd.Series(range(0,len(ordersByUsersA)))\n",
    "plt.scatter(x_values, ordersByUsersA['orders']) \n",
    "plt.title(\"The number of orders per user- group A\");"
   ]
  },
  {
   "cell_type": "code",
   "execution_count": 53,
   "id": "701b26fd",
   "metadata": {},
   "outputs": [
    {
     "name": "stdout",
     "output_type": "stream",
     "text": [
      "      visitorId  orders\n",
      "347  2742574263       3\n",
      "33    249864742       3\n",
      "486  3935952912       2\n",
      "256  2025197455       2\n",
      "418  3332057097       2\n",
      "51    406208401       2\n",
      "507  4134830387       2\n",
      "250  1985475298       2\n",
      "296  2366521417       2\n",
      "421  3362039251       2\n"
     ]
    }
   ],
   "source": [
    "# Group B:\n",
    "ordersByUsersB = (\n",
    "    orders_B.drop(['group', 'revenue', 'date'], axis=1)\n",
    "    .groupby('visitorId', as_index=False)\n",
    "    .agg({'transactionId': pd.Series.nunique})\n",
    ")\n",
    "ordersByUsersB.columns = ['visitorId', 'orders']\n",
    "print(ordersByUsersB.sort_values(by='orders', ascending=False).head(10))"
   ]
  },
  {
   "cell_type": "code",
   "execution_count": 54,
   "id": "52ded1d1",
   "metadata": {},
   "outputs": [
    {
     "data": {
      "image/png": "[encoded data removed]",
      "text/plain": [
       "<Figure size 842.4x595.44 with 1 Axes>"
      ]
     },
     "metadata": {},
     "output_type": "display_data"
    }
   ],
   "source": [
    "# scatter plot\n",
    "x_values = pd.Series(range(0,len(ordersByUsersB)))\n",
    "plt.scatter(x_values, ordersByUsersB['orders']) \n",
    "plt.title(\"The number of orders per user- group B\");"
   ]
  },
  {
   "cell_type": "markdown",
   "id": "6161f8fb",
   "metadata": {},
   "source": [
    "**Conclusions- For both groups, the graphs show that most users place one order, a small number of users place 2 orders, and only a few- 3 orders. These do not seem to be big or abnormal numbers, but since i don't know much about the products being sold- i will consider 3 orders a month to be abnormal.**"
   ]
  },
  {
   "cell_type": "markdown",
   "id": "89d2d9e4",
   "metadata": {},
   "source": [
    "### 6. Calculate the 95th and 99th percentiles for the number of orders per user. Define the point at which a data point becomes an anomaly."
   ]
  },
  {
   "cell_type": "code",
   "execution_count": 55,
   "id": "4140d8d8",
   "metadata": {},
   "outputs": [
    {
     "name": "stdout",
     "output_type": "stream",
     "text": [
      "[1.   2.56]\n"
     ]
    }
   ],
   "source": [
    "# Group A:\n",
    "print(np.percentile(ordersByUsersA['orders'], [95, 99])) "
   ]
  },
  {
   "cell_type": "code",
   "execution_count": 56,
   "id": "cb3a9dfc",
   "metadata": {},
   "outputs": [
    {
     "name": "stdout",
     "output_type": "stream",
     "text": [
      "[1. 2.]\n"
     ]
    }
   ],
   "source": [
    "# Group B:\n",
    "print(np.percentile(ordersByUsersB['orders'], [95, 99])) "
   ]
  },
  {
   "cell_type": "markdown",
   "id": "391cb380",
   "metadata": {},
   "source": [
    "**On average, only 1% of the users in both groups placed more than 2 orders (an average of 2.56 for group A, and 2 for group B). This finding strengthens the one seen in the scatter plot, and suggests it would be wise to define orders=3 as an outlier.**"
   ]
  },
  {
   "cell_type": "markdown",
   "id": "8145a954",
   "metadata": {},
   "source": [
    "### 7. Plot a scatter chart of order prices. Make conclusions and conjectures."
   ]
  },
  {
   "cell_type": "code",
   "execution_count": 57,
   "id": "5d0cbead",
   "metadata": {},
   "outputs": [
    {
     "data": {
      "text/html": [
       "<div>\n",
       "<style scoped>\n",
       "    .dataframe tbody tr th:only-of-type {\n",
       "        vertical-align: middle;\n",
       "    }\n",
       "\n",
       "    .dataframe tbody tr th {\n",
       "        vertical-align: top;\n",
       "    }\n",
       "\n",
       "    .dataframe thead th {\n",
       "        text-align: right;\n",
       "    }\n",
       "</style>\n",
       "<table border=\"1\" class=\"dataframe\">\n",
       "  <thead>\n",
       "    <tr style=\"text-align: right;\">\n",
       "      <th></th>\n",
       "      <th>transactionId</th>\n",
       "      <th>visitorId</th>\n",
       "      <th>date</th>\n",
       "      <th>revenue</th>\n",
       "      <th>group</th>\n",
       "    </tr>\n",
       "  </thead>\n",
       "  <tbody>\n",
       "    <tr>\n",
       "      <th>7</th>\n",
       "      <td>2626614568</td>\n",
       "      <td>78758296</td>\n",
       "      <td>2019-08-15</td>\n",
       "      <td>20.1</td>\n",
       "      <td>A</td>\n",
       "    </tr>\n",
       "    <tr>\n",
       "      <th>8</th>\n",
       "      <td>1576988021</td>\n",
       "      <td>295230930</td>\n",
       "      <td>2019-08-15</td>\n",
       "      <td>215.9</td>\n",
       "      <td>A</td>\n",
       "    </tr>\n",
       "    <tr>\n",
       "      <th>10</th>\n",
       "      <td>3649131742</td>\n",
       "      <td>879864040</td>\n",
       "      <td>2019-08-15</td>\n",
       "      <td>65.7</td>\n",
       "      <td>A</td>\n",
       "    </tr>\n",
       "    <tr>\n",
       "      <th>12</th>\n",
       "      <td>2809384911</td>\n",
       "      <td>3213223594</td>\n",
       "      <td>2019-08-15</td>\n",
       "      <td>115.4</td>\n",
       "      <td>A</td>\n",
       "    </tr>\n",
       "    <tr>\n",
       "      <th>14</th>\n",
       "      <td>3859315276</td>\n",
       "      <td>1565034404</td>\n",
       "      <td>2019-08-15</td>\n",
       "      <td>170.9</td>\n",
       "      <td>A</td>\n",
       "    </tr>\n",
       "  </tbody>\n",
       "</table>\n",
       "</div>"
      ],
      "text/plain": [
       "    transactionId   visitorId       date  revenue group\n",
       "7      2626614568    78758296 2019-08-15     20.1     A\n",
       "8      1576988021   295230930 2019-08-15    215.9     A\n",
       "10     3649131742   879864040 2019-08-15     65.7     A\n",
       "12     2809384911  3213223594 2019-08-15    115.4     A\n",
       "14     3859315276  1565034404 2019-08-15    170.9     A"
      ]
     },
     "execution_count": 57,
     "metadata": {},
     "output_type": "execute_result"
    }
   ],
   "source": [
    "orders_A.head()"
   ]
  },
  {
   "cell_type": "code",
   "execution_count": 58,
   "id": "4d34339c",
   "metadata": {},
   "outputs": [
    {
     "data": {
      "text/plain": [
       "1136    1425.8\n",
       "743     1050.0\n",
       "1103    1025.8\n",
       "1099    1015.9\n",
       "949      930.0\n",
       "131      830.3\n",
       "287      830.3\n",
       "1006     815.8\n",
       "1137     810.4\n",
       "746      765.5\n",
       "Name: revenue, dtype: float64"
      ]
     },
     "execution_count": 58,
     "metadata": {},
     "output_type": "execute_result"
    }
   ],
   "source": [
    "# Group A:\n",
    "orders_A['revenue'].sort_values(ascending = False).head(10)"
   ]
  },
  {
   "cell_type": "code",
   "execution_count": 59,
   "id": "3c57fae5",
   "metadata": {},
   "outputs": [
    {
     "data": {
      "image/png": "[encoded data removed]",
      "text/plain": [
       "<Figure size 842.4x595.44 with 1 Axes>"
      ]
     },
     "metadata": {},
     "output_type": "display_data"
    }
   ],
   "source": [
    "# scatter plot:\n",
    "x_values = pd.Series(range(0, len(orders_A['revenue'])))\n",
    "plt.scatter(x_values, orders_A['revenue'])\n",
    "plt.title(\"Order prices\");\n"
   ]
  },
  {
   "cell_type": "markdown",
   "id": "9dd4c42e",
   "metadata": {},
   "source": [
    "**order size in group A seems normal- most order sizes are between 3 and 300$. Possible outliers are seen above 600$ (I presume)**"
   ]
  },
  {
   "cell_type": "code",
   "execution_count": 60,
   "id": "88179c30",
   "metadata": {},
   "outputs": [
    {
     "data": {
      "text/plain": [
       "425     19920.4\n",
       "1196     3120.1\n",
       "744      1335.6\n",
       "940       905.8\n",
       "613       830.3\n",
       "1142      815.8\n",
       "755       705.3\n",
       "339       640.7\n",
       "78        630.8\n",
       "1087      610.7\n",
       "Name: revenue, dtype: float64"
      ]
     },
     "execution_count": 60,
     "metadata": {},
     "output_type": "execute_result"
    }
   ],
   "source": [
    "# Group B:\n",
    "orders_B['revenue'].sort_values(ascending = False).head(10)"
   ]
  },
  {
   "cell_type": "code",
   "execution_count": 61,
   "id": "ac175550",
   "metadata": {},
   "outputs": [
    {
     "data": {
      "image/png": "[encoded data removed]",
      "text/plain": [
       "<Figure size 842.4x595.44 with 1 Axes>"
      ]
     },
     "metadata": {},
     "output_type": "display_data"
    }
   ],
   "source": [
    "# scatter plot:\n",
    "x_values = pd.Series(range(0, len(orders_B['revenue'])))\n",
    "plt.scatter(x_values, orders_B['revenue'])\n",
    "plt.title(\"Order prices\");"
   ]
  },
  {
   "cell_type": "markdown",
   "id": "3c5234ab",
   "metadata": {},
   "source": [
    "**In group B there is a very distinct and abnormal order size (=19920.4) as well as at 3120$. I would like to narrow the range of values on yaxis and see what the distribution looks like when it isn't masked by the wide range of values:**"
   ]
  },
  {
   "cell_type": "code",
   "execution_count": 62,
   "id": "fd219486",
   "metadata": {},
   "outputs": [
    {
     "data": {
      "image/png": "[encoded data removed]",
      "text/plain": [
       "<Figure size 842.4x595.44 with 1 Axes>"
      ]
     },
     "metadata": {},
     "output_type": "display_data"
    }
   ],
   "source": [
    "# running the same scatter with a limited range:\n",
    "x_values = pd.Series(range(0, len(orders_B['revenue'])))\n",
    "plt.scatter(x_values, orders_B['revenue'])\n",
    "plt.title(\"Order prices\")\n",
    "plt.ylim(0, 1500);"
   ]
  },
  {
   "cell_type": "markdown",
   "id": "48058203",
   "metadata": {},
   "source": [
    "** The scatter plot suggest that Group B's order sizes turn abnormal at around 700 $. But percentile calculation would be more accurate.**"
   ]
  },
  {
   "cell_type": "code",
   "execution_count": 63,
   "id": "fe25c41f",
   "metadata": {},
   "outputs": [
    {
     "data": {
      "image/png": "[encoded data removed]",
      "text/plain": [
       "<Figure size 842.4x595.44 with 1 Axes>"
      ]
     },
     "metadata": {},
     "output_type": "display_data"
    }
   ],
   "source": [
    "x_values = pd.Series(range(0, len(orders_B['revenue'])))\n",
    "sns.scatterplot(data=orders, x=x_values, y=\"revenue\", hue=\"group\", style='group')\n",
    "plt.ylim(0, 1500);\n"
   ]
  },
  {
   "cell_type": "markdown",
   "id": "627abd79",
   "metadata": {},
   "source": [
    "### 8. Calculate the 95th and 99th percentiles of order prices. Define the point at which a data point becomes an anomaly."
   ]
  },
  {
   "cell_type": "code",
   "execution_count": 64,
   "id": "18464a83",
   "metadata": {},
   "outputs": [
    {
     "name": "stdout",
     "output_type": "stream",
     "text": [
      "Group A-  95th, 97th and 99th percentiles of order prices:\n",
      "[385.63  550.794 863.201]\n",
      "\n",
      "Group B-  95th, 97th and 99th percentiles of order prices:\n",
      "[425.795 521.623 763.865]\n"
     ]
    }
   ],
   "source": [
    "print(\"Group A-  95th, 97th and 99th percentiles of order prices:\")\n",
    "print(np.percentile(orders_A['revenue'], [95, 97, 99])) \n",
    "print()\n",
    "print(\"Group B-  95th, 97th and 99th percentiles of order prices:\")\n",
    "print(np.percentile(orders_B['revenue'], [95, 97, 99]))"
   ]
  },
  {
   "cell_type": "markdown",
   "id": "652f85ae",
   "metadata": {},
   "source": [
    "**# Since i don't know anything about the products being sold, i decided to define the 99th percentile as a cut-off point for both groups:**\n",
    "- Group A: 863\n",
    "- Group B: 764"
   ]
  },
  {
   "cell_type": "code",
   "execution_count": 65,
   "id": "04390447",
   "metadata": {},
   "outputs": [
    {
     "name": "stdout",
     "output_type": "stream",
     "text": [
      "1099     148427295\n",
      "33       249864742\n",
      "58       611059232\n",
      "949      887908475\n",
      "744      888512513\n",
      "1103    1164614297\n",
      "1136    1307669133\n",
      "425     1920142716\n",
      "1196    2108080724\n",
      "211     2108163459\n",
      "1142    2606908679\n",
      "347     2742574263\n",
      "310     2988190573\n",
      "409     3908431265\n",
      "613     3931967268\n",
      "416     3967698036\n",
      "940     4003628586\n",
      "743     4133034833\n",
      "Name: visitorId, dtype: int64\n",
      "(18,)\n"
     ]
    }
   ],
   "source": [
    "# defining the abnormal users with code (number of orders + order size):\n",
    "cutoff_manyOrders = pd.concat([ordersByUsersA[ordersByUsersA['orders'] > 2.56]['visitorId'], ordersByUsersB[ordersByUsersB['orders'] > 2]['visitorId']], axis = 0)\n",
    "cutoff_expensiveOrders = pd.concat([orders_A[orders_A['revenue'] > 863]['visitorId'], orders_B[orders_B['revenue'] > 764]['visitorId']], axis=0)\n",
    "\n",
    "abnormalUsers = pd.concat([cutoff_manyOrders, cutoff_expensiveOrders], axis = 0).drop_duplicates().sort_values()\n",
    "print(abnormalUsers)\n",
    "print(abnormalUsers.shape) \n"
   ]
  },
  {
   "cell_type": "markdown",
   "id": "cfb8070f",
   "metadata": {},
   "source": [
    "### 9. Find the statistical significance of the difference in conversion between the groups using the raw data. Make conclusions and conjectures."
   ]
  },
  {
   "cell_type": "markdown",
   "id": "85621a77",
   "metadata": {},
   "source": [
    "**H0 (Null)**: Group A and group B have the same conversion rates- There is no statistically significant difference between them.\n",
    "\n",
    "**H1 (Alternative)**: Following intervention in group B, the conversion rate of group B will be higher than the one of group A.\n",
    "\n",
    "**Test selection:** A two sample Z-test for Proportions.\n",
    "\n",
    "**Rational:** this test is used to check if two samples are drawn from the same population. It is utilized when the population proportion is unknown, as in out case, and it uses the standard normal distribution to calculate the test statistic.\n",
    "- Since it is a one sided hypothesis, I chose to decrease the alpha by half."
   ]
  },
  {
   "cell_type": "code",
   "execution_count": 66,
   "id": "baa92aff",
   "metadata": {},
   "outputs": [
    {
     "data": {
      "text/html": [
       "<div>\n",
       "<style scoped>\n",
       "    .dataframe tbody tr th:only-of-type {\n",
       "        vertical-align: middle;\n",
       "    }\n",
       "\n",
       "    .dataframe tbody tr th {\n",
       "        vertical-align: top;\n",
       "    }\n",
       "\n",
       "    .dataframe thead th {\n",
       "        text-align: right;\n",
       "    }\n",
       "</style>\n",
       "<table border=\"1\" class=\"dataframe\">\n",
       "  <thead>\n",
       "    <tr style=\"text-align: right;\">\n",
       "      <th></th>\n",
       "      <th>date</th>\n",
       "      <th>group</th>\n",
       "      <th>visits</th>\n",
       "    </tr>\n",
       "  </thead>\n",
       "  <tbody>\n",
       "    <tr>\n",
       "      <th>0</th>\n",
       "      <td>2019-08-01</td>\n",
       "      <td>A</td>\n",
       "      <td>719</td>\n",
       "    </tr>\n",
       "    <tr>\n",
       "      <th>1</th>\n",
       "      <td>2019-08-02</td>\n",
       "      <td>A</td>\n",
       "      <td>619</td>\n",
       "    </tr>\n",
       "  </tbody>\n",
       "</table>\n",
       "</div>"
      ],
      "text/plain": [
       "        date group  visits\n",
       "0 2019-08-01     A     719\n",
       "1 2019-08-02     A     619"
      ]
     },
     "execution_count": 66,
     "metadata": {},
     "output_type": "execute_result"
    },
    {
     "data": {
      "text/html": [
       "<div>\n",
       "<style scoped>\n",
       "    .dataframe tbody tr th:only-of-type {\n",
       "        vertical-align: middle;\n",
       "    }\n",
       "\n",
       "    .dataframe tbody tr th {\n",
       "        vertical-align: top;\n",
       "    }\n",
       "\n",
       "    .dataframe thead th {\n",
       "        text-align: right;\n",
       "    }\n",
       "</style>\n",
       "<table border=\"1\" class=\"dataframe\">\n",
       "  <thead>\n",
       "    <tr style=\"text-align: right;\">\n",
       "      <th></th>\n",
       "      <th>transactionId</th>\n",
       "      <th>visitorId</th>\n",
       "      <th>date</th>\n",
       "      <th>revenue</th>\n",
       "      <th>group</th>\n",
       "    </tr>\n",
       "  </thead>\n",
       "  <tbody>\n",
       "    <tr>\n",
       "      <th>7</th>\n",
       "      <td>2626614568</td>\n",
       "      <td>78758296</td>\n",
       "      <td>2019-08-15</td>\n",
       "      <td>20.1</td>\n",
       "      <td>A</td>\n",
       "    </tr>\n",
       "    <tr>\n",
       "      <th>8</th>\n",
       "      <td>1576988021</td>\n",
       "      <td>295230930</td>\n",
       "      <td>2019-08-15</td>\n",
       "      <td>215.9</td>\n",
       "      <td>A</td>\n",
       "    </tr>\n",
       "  </tbody>\n",
       "</table>\n",
       "</div>"
      ],
      "text/plain": [
       "   transactionId  visitorId       date  revenue group\n",
       "7     2626614568   78758296 2019-08-15     20.1     A\n",
       "8     1576988021  295230930 2019-08-15    215.9     A"
      ]
     },
     "execution_count": 66,
     "metadata": {},
     "output_type": "execute_result"
    }
   ],
   "source": [
    "# (A reminder for me...)\n",
    "visits_A.head(2)\n",
    "orders_A.head(2)"
   ]
  },
  {
   "cell_type": "code",
   "execution_count": 67,
   "id": "83e85b5a",
   "metadata": {},
   "outputs": [
    {
     "name": "stdout",
     "output_type": "stream",
     "text": [
      "Group A:\n",
      "  VisitorsA 18736\n",
      "  BuyersA 468\n",
      "\n",
      "Group B:\n",
      "  VisitorsB 18916\n",
      "  BuyersB 548\n"
     ]
    }
   ],
   "source": [
    "# Preparing the relevant variables to perform a proportions z-test:\n",
    "vis_A = visits_A['visits'].sum()\n",
    "buy_A = orders_A['visitorId'].count()\n",
    "vis_B = visits_B['visits'].sum()\n",
    "buy_B = orders_B['visitorId'].count()\n",
    "\n",
    "print(\"Group A:\")\n",
    "print(\"  VisitorsA\", vis_A)\n",
    "print(\"  BuyersA\", buy_A)\n",
    "print()\n",
    "print(\"Group B:\")\n",
    "print(\"  VisitorsB\", vis_B)\n",
    "print(\"  BuyersB\", buy_B)"
   ]
  },
  {
   "cell_type": "code",
   "execution_count": 68,
   "id": "8ec718e7",
   "metadata": {},
   "outputs": [
    {
     "name": "stdout",
     "output_type": "stream",
     "text": [
      "P-Value:0.017\n",
      "Rejecting the null hypothesis: there is a significant difference between conversion rates\n",
      "Group A conversion rate:0.025\n",
      "Group B conversion rate:0.029\n"
     ]
    }
   ],
   "source": [
    "# Since the conversion metric is a proportional one (buyes/visitors) there is no need to make the group sizes equal.\n",
    "alpha = .05 / 2\n",
    "stat1, pval1 = proportions_ztest([buy_A,buy_B], [vis_A,vis_B])\n",
    "print('P-Value:{0:0.3f}'.format(pval1))\n",
    "if (pval1 < alpha):\n",
    "    print(\"Rejecting the null hypothesis: there is a significant difference between conversion rates\")\n",
    "else:\n",
    "    print(\"Failed to reject the null hypothesis: there is no reason to consider the conversion rates different\") \n",
    "print (\"Group A conversion rate:{0:0.3f}\".format(buy_A/vis_A))\n",
    "print (\"Group B conversion rate:{0:0.3f}\".format(buy_B/vis_B))"
   ]
  },
  {
   "cell_type": "markdown",
   "id": "5a24bee8",
   "metadata": {},
   "source": [
    "***Given the sample size, such a difference between the proportions (conversion rates) is enough to conclude that there is a statistically significant difference, although it doesn't seem so at first glance.**"
   ]
  },
  {
   "cell_type": "markdown",
   "id": "de89a9ec",
   "metadata": {},
   "source": [
    "### 10. Find the statistical significance of the difference in conversion between the groups using the filtered data. Make conclusions and conjectures."
   ]
  },
  {
   "cell_type": "markdown",
   "id": "8e969ec8",
   "metadata": {},
   "source": [
    "- After filtering the outliers from both groups, the hypothesis hasn't changed:\n",
    "\n",
    "H0 (Null): Group A and group B have the same conversion rates- There is no statistically significant difference between them.\n",
    "\n",
    "H1 (Alternative): Following intervention in group B, the conversion rate of group B will be higher than the one of group A.\n",
    "\n",
    "Test selection: A two sample Z-test for Proportions.\n"
   ]
  },
  {
   "cell_type": "code",
   "execution_count": 69,
   "id": "a15f3b44",
   "metadata": {},
   "outputs": [],
   "source": [
    "# filtering the abnormal data out of the samples:\n",
    "orders_A_fil = orders_A[~orders_A['visitorId'].isin(abnormalUsers)]\n",
    "orders_B_fil = orders_B[~orders_B['visitorId'].isin(abnormalUsers)]"
   ]
  },
  {
   "cell_type": "code",
   "execution_count": 70,
   "id": "a97d2cb5",
   "metadata": {},
   "outputs": [
    {
     "name": "stdout",
     "output_type": "stream",
     "text": [
      "Group A:\n",
      "  VisitorsA 18736\n",
      "  BuyersA 448\n",
      "\n",
      "Group B:\n",
      "  VisitorsB 18916\n",
      "  BuyersB 536\n"
     ]
    }
   ],
   "source": [
    "# Re-defining the test variables:\n",
    "vis_A = visits_A['visits'].sum()\n",
    "buy_A_fil = orders_A_fil['visitorId'].count()\n",
    "vis_B = visits_B['visits'].sum()\n",
    "buy_B_fil = orders_B_fil['visitorId'].count()\n",
    "\n",
    "print(\"Group A:\")\n",
    "print(\"  VisitorsA\", vis_A)\n",
    "print(\"  BuyersA\", buy_A_fil)\n",
    "print()\n",
    "print(\"Group B:\")\n",
    "print(\"  VisitorsB\", vis_B)\n",
    "print(\"  BuyersB\", buy_B_fil)"
   ]
  },
  {
   "cell_type": "code",
   "execution_count": 71,
   "id": "f27f41b6",
   "metadata": {},
   "outputs": [
    {
     "name": "stdout",
     "output_type": "stream",
     "text": [
      "P-Value:0.007\n",
      "Rejecting the null hypothesis: there is a significant difference between conversion rates\n",
      "Group A conversion rate:0.024\n",
      "Group B conversion rate:0.028\n"
     ]
    }
   ],
   "source": [
    "# Re-running the test with the filtered data:\n",
    "\n",
    "stat, pval = proportions_ztest([buy_A_fil,buy_B_fil], [vis_A,vis_B])\n",
    "print('P-Value:{0:0.3f}'.format(pval))\n",
    "if (pval < alpha):\n",
    "    print(\"Rejecting the null hypothesis: there is a significant difference between conversion rates\")\n",
    "else:\n",
    "    print(\"Failed to reject the null hypothesis: there is no reason to consider the conversion rates different\") \n",
    "print (\"Group A conversion rate:{0:0.3f}\".format(buy_A_fil/vis_A))\n",
    "print (\"Group B conversion rate:{0:0.3f}\".format(buy_B_fil/vis_B))\n"
   ]
  },
  {
   "cell_type": "markdown",
   "id": "36414337",
   "metadata": {},
   "source": [
    "**Summary-**\n",
    "By filtering out the abnormal users, the conversion rate of group A became a (tiny) bit lower, while the one of group B- a tiny bit higher, hence making the P-Value a bit lower (and making the chances of a type 1 error smaller)   "
   ]
  },
  {
   "cell_type": "markdown",
   "id": "f3686a5f",
   "metadata": {},
   "source": [
    "### 11. Find the statistical significance of the difference in average order size between the groups using the raw data. Make conclusions and conjectures."
   ]
  },
  {
   "cell_type": "markdown",
   "id": "376e2fa3",
   "metadata": {},
   "source": [
    "**H0 (Null)**: Group A and group B have the same average order size- There is no statistically significant difference between them.\n",
    "\n",
    "**H1 (Alternative)**: Following intervention in group B, their average order size is bigger than the one of group A.\n",
    "\n",
    "**Test selection:** Mann Whitney U test\n",
    "\n",
    "**Rational:** After checking the distribution type of both samples (=not normal) we had to pick a a-parametric test to check our hypothesis. Mannwhitney is a suitable test:  It checks if the distribution of the dependent variable is the same for the two groups and hence- from the same population.\n",
    "- Since it is a one sided hypothesis, I chose to decrease the alpha by half."
   ]
  },
  {
   "cell_type": "code",
   "execution_count": 72,
   "id": "6ed6946c",
   "metadata": {},
   "outputs": [
    {
     "name": "stdout",
     "output_type": "stream",
     "text": [
      "p-value:  2.7709587438572045e-31\n",
      "Null hypothesis rejected: the distribution of group A is not normal\n"
     ]
    }
   ],
   "source": [
    "# checking the normality of the distributions to choose the right statistical test:\n",
    "# Group A:\n",
    "alpha = .05 \n",
    "normality_resultA = st.shapiro(orders_A['revenue'])\n",
    "p_value = normality_resultA[1] \n",
    "print('p-value: ', p_value)\n",
    "if (p_value < alpha):\n",
    "    print(\"Null hypothesis rejected: the distribution of group A is not normal\")\n",
    "else:\n",
    "    print(\"Failed to reject the null hypothesis: the distribution of group A seems to be normal\") \n"
   ]
  },
  {
   "cell_type": "code",
   "execution_count": 73,
   "id": "80970ef0",
   "metadata": {},
   "outputs": [
    {
     "name": "stdout",
     "output_type": "stream",
     "text": [
      "p-value:  4.203895392974451e-45\n",
      "Null hypothesis rejected: the distribution of group B is not normal\n"
     ]
    }
   ],
   "source": [
    "# Group B:\n",
    "normality_resultB = st.shapiro(orders_B['revenue'])\n",
    "p_value = normality_resultB[1] \n",
    "print('p-value: ', p_value)\n",
    "if (p_value < alpha):\n",
    "    print(\"Null hypothesis rejected: the distribution of group B is not normal\")\n",
    "else:\n",
    "    print(\"Failed to reject the null hypothesis: the distribution of group B seems to be normal\") "
   ]
  },
  {
   "cell_type": "code",
   "execution_count": 74,
   "id": "63e03707",
   "metadata": {},
   "outputs": [
    {
     "name": "stdout",
     "output_type": "stream",
     "text": [
      "p-value:  0.8622329690015668\n",
      "Failed to reject the null hypothesis: the difference between order sizes of the two groups is NOT statistically significant.\n",
      "Group A- average order size: 113.701\n",
      "Group B- average order size: 145.349\n",
      "The relative difference in average order size between the groups: 0.278\n"
     ]
    }
   ],
   "source": [
    "# Choosing the mannwhitney test as an non-parametric test:\n",
    "p_value = stats.mannwhitneyu(orders_A['revenue'], orders_B['revenue'])[1]\n",
    "print('p-value: ', p_value)\n",
    "if (p_value < (alpha/2)):\n",
    "    print(\"Null hypothesis rejected: there is a statistically significant difference between order size of the two groups\")\n",
    "else:\n",
    "    print(\"Failed to reject the null hypothesis: the difference between order sizes of the two groups is NOT statistically significant.\") \n",
    "print(\"Group A- average order size:\", round(orders_A['revenue'].mean(), 3))\n",
    "print(\"Group B- average order size:\", round(orders_B['revenue'].mean(), 3))\n",
    "print('The relative difference in average order size between the groups: {0:.3f}'.format(orders_B['revenue'].mean() / orders_A['revenue'].mean()-1)) \n"
   ]
  },
  {
   "cell_type": "markdown",
   "id": "c82e7c8a",
   "metadata": {},
   "source": [
    "#### Conclusions:\n",
    "- The p-value is considerably higher than 0.05, so we can't reject the null hypothesis: There is no statistically significant difference between the average order size of the 2 groups. \n",
    "- Nonetheless, the average order size for group B is much larger than it is for group A."
   ]
  },
  {
   "cell_type": "markdown",
   "id": "274d1157",
   "metadata": {},
   "source": [
    "### 12. Find the statistical significance of the difference in average order size between the groups using the filtered data. Make conclusions and conjectures."
   ]
  },
  {
   "cell_type": "markdown",
   "id": "54165c95",
   "metadata": {},
   "source": [
    "**H0 (Null)**: Group A and group B have the same average order size- There is no statistically significant difference between them.\n",
    "\n",
    "**H1 (Alternative)**: Following intervention in group B, their average order size is bigger than the one of group A.\n",
    "\n",
    "**Test selection:** Mann Whitney U test"
   ]
  },
  {
   "cell_type": "code",
   "execution_count": 75,
   "id": "8df215bb",
   "metadata": {},
   "outputs": [
    {
     "name": "stdout",
     "output_type": "stream",
     "text": [
      "p-value:  1.2471667503670648e-28\n",
      "Null hypothesis rejected: the distribution of group A is NOT normal\n"
     ]
    }
   ],
   "source": [
    "# checking the normality of the distributions to choose the right statistical test:\n",
    "# Group A_filtered:\n",
    "\n",
    "normality_result1 = st.shapiro(orders_A_fil['revenue'])\n",
    "p_value = normality_result1[1] \n",
    "print('p-value: ', p_value)\n",
    "if (p_value < alpha):\n",
    "    print(\"Null hypothesis rejected: the distribution of group A is NOT normal\")\n",
    "else:\n",
    "    print(\"Failed to reject the null hypothesis: the distribution of group A seems to be normal\") "
   ]
  },
  {
   "cell_type": "code",
   "execution_count": 76,
   "id": "92562943",
   "metadata": {},
   "outputs": [
    {
     "name": "stdout",
     "output_type": "stream",
     "text": [
      "p-value:  6.657268751531677e-30\n",
      "Null hypothesis rejected: the distribution of group B is NOT normal\n"
     ]
    }
   ],
   "source": [
    "# Group B filtered:\n",
    "normality_result2 = st.shapiro(orders_B_fil['revenue'])\n",
    "p_value = normality_result2[1] \n",
    "print('p-value: ', p_value)\n",
    "if (p_value < alpha):\n",
    "    print(\"Null hypothesis rejected: the distribution of group B is NOT normal\")\n",
    "else:\n",
    "    print(\"Failed to reject the null hypothesis: the distribution of group B seems to be normal\") "
   ]
  },
  {
   "cell_type": "code",
   "execution_count": 77,
   "id": "5d6b1173",
   "metadata": {},
   "outputs": [
    {
     "name": "stdout",
     "output_type": "stream",
     "text": [
      "p-value:  0.7446416146846341\n",
      "Failed to reject the null hypothesis: the difference between order sizes of the two groups is NOT statistically significant.\n",
      "Group A- average order size: 102.896\n",
      "Group B- average order size: 96.915\n",
      "The relative difference in average order size between the groups: -0.058\n"
     ]
    }
   ],
   "source": [
    "# Choosing the mannwhitney test as an non-parametric test with filtered data sets:\n",
    "p_value = stats.mannwhitneyu(orders_A_fil['revenue'], orders_B_fil['revenue'])[1]\n",
    "print('p-value: ', p_value)\n",
    "if (p_value < (alpha/2)):\n",
    "    print(\"Null hypothesis rejected: there is a statistically significant difference between order size of the two groups\")\n",
    "else:\n",
    "    print(\"Failed to reject the null hypothesis: the difference between order sizes of the two groups is NOT statistically significant.\") \n",
    "print(\"Group A- average order size:\", round(orders_A_fil['revenue'].mean(), 3))\n",
    "print(\"Group B- average order size:\", round(orders_B_fil['revenue'].mean(), 3))\n",
    "print('The relative difference in average order size between the groups: {0:.3f}'.format(orders_B_fil['revenue'].mean() / orders_A_fil['revenue'].mean()-1)) \n"
   ]
  },
  {
   "cell_type": "markdown",
   "id": "1913b43f",
   "metadata": {},
   "source": [
    "#### Summary: \n",
    "It seems that following the removal of the abnormal data, the difference between the groups in order sizes had shrinked, hence staying not statistically significant. Also, In comparison to the analysis of the raw data, it seems that the removal of the abnormal data revealed a somewhat opposite relation between the two groups, with order sizes in group A being slightly higher (though not stat sig) than those of group B.\n"
   ]
  },
  {
   "cell_type": "markdown",
   "id": "5f4a73d9",
   "metadata": {},
   "source": [
    "## Conclusions:\n"
   ]
  },
  {
   "cell_type": "markdown",
   "id": "65259fdc",
   "metadata": {},
   "source": [
    "In general. it seems that the intervention performed on group B had an influence only on the conversion rate but not on the average order size. \n",
    "\n",
    "*Conversion rates:* despite having very low conversion rates in general (in both groups), the conversion of group B was found to be statistically significant higher than the conversion rate in group A.\n",
    "From the cumulative conversion rates graph it seems that both groups have reached a stable stage, and fluctuation is not prominent. Also, the relative difference shows a significant gap between the groups. Hence, it seems reasonable to stop running the test and validly reject the null hypothesis.\n",
    "\n",
    "*Order size:* The difference between the two groups was found to be not statistically significant: the intervention tested did not yield the expected result of increasing the average revenue. It seems that although there were more orders in group B and the ratio of orders per visits was higher, the size of the order was not affected.\n",
    " The plot depicting the cumulative order size shows that both groups have stabalized, and here too i suggest resuming the test and accepting the results.\n",
    "\n",
    "Overall, It seems that the intervention performed on group B was not successful, as it did not lead to higher revenue, even though more users converted to byers. It might be useful to look into the products purchased and see if we can gain additional insights. Maybe the conversion rate was higher for cheaper products, and hence- we should use the intervention assessed here on larger markets."
   ]
  }
 ],
 "metadata": {
  "ExecuteTimeLog": [
   {
    "duration": 2409,
    "start_time": "2022-05-05T14:29:23.036Z"
   },
   {
    "duration": 138,
    "start_time": "2022-05-05T14:29:25.447Z"
   },
   {
    "duration": 3,
    "start_time": "2022-05-05T14:29:25.586Z"
   },
   {
    "duration": 26,
    "start_time": "2022-05-05T14:29:25.591Z"
   },
   {
    "duration": 10,
    "start_time": "2022-05-05T14:29:25.618Z"
   },
   {
    "duration": 17,
    "start_time": "2022-05-05T14:29:25.630Z"
   },
   {
    "duration": 11,
    "start_time": "2022-05-05T14:29:25.648Z"
   },
   {
    "duration": 18,
    "start_time": "2022-05-05T14:29:25.661Z"
   },
   {
    "duration": 739,
    "start_time": "2022-05-05T14:29:25.680Z"
   },
   {
    "duration": 34,
    "start_time": "2022-05-05T14:29:26.422Z"
   },
   {
    "duration": 10,
    "start_time": "2022-05-05T14:29:26.457Z"
   },
   {
    "duration": 15,
    "start_time": "2022-05-05T14:29:26.468Z"
   },
   {
    "duration": 15,
    "start_time": "2022-05-05T14:29:26.485Z"
   },
   {
    "duration": 5,
    "start_time": "2022-05-05T14:29:26.503Z"
   },
   {
    "duration": 6,
    "start_time": "2022-05-05T14:29:26.509Z"
   },
   {
    "duration": 39,
    "start_time": "2022-05-05T14:29:26.516Z"
   },
   {
    "duration": 4,
    "start_time": "2022-05-05T14:29:26.557Z"
   },
   {
    "duration": 6,
    "start_time": "2022-05-05T14:29:26.563Z"
   },
   {
    "duration": 6,
    "start_time": "2022-05-05T14:29:26.571Z"
   },
   {
    "duration": 20,
    "start_time": "2022-05-05T14:29:26.578Z"
   },
   {
    "duration": 10,
    "start_time": "2022-05-05T14:29:26.599Z"
   },
   {
    "duration": 7,
    "start_time": "2022-05-05T14:29:26.611Z"
   },
   {
    "duration": 45,
    "start_time": "2022-05-05T14:29:26.619Z"
   },
   {
    "duration": 6798,
    "start_time": "2022-05-05T14:29:26.666Z"
   },
   {
    "duration": 103,
    "start_time": "2022-05-05T14:29:33.465Z"
   },
   {
    "duration": 7,
    "start_time": "2022-05-05T14:29:33.569Z"
   },
   {
    "duration": 9,
    "start_time": "2022-05-05T14:29:33.578Z"
   },
   {
    "duration": 18,
    "start_time": "2022-05-05T14:29:33.591Z"
   },
   {
    "duration": 13,
    "start_time": "2022-05-05T14:29:33.655Z"
   },
   {
    "duration": 333,
    "start_time": "2022-05-05T14:29:33.669Z"
   },
   {
    "duration": 23,
    "start_time": "2022-05-05T14:29:34.003Z"
   },
   {
    "duration": 277,
    "start_time": "2022-05-05T14:29:34.028Z"
   },
   {
    "duration": 14,
    "start_time": "2022-05-05T14:29:34.306Z"
   },
   {
    "duration": 33,
    "start_time": "2022-05-05T14:29:34.322Z"
   },
   {
    "duration": 13,
    "start_time": "2022-05-05T14:29:34.357Z"
   },
   {
    "duration": 20,
    "start_time": "2022-05-05T14:29:34.371Z"
   },
   {
    "duration": 280,
    "start_time": "2022-05-05T14:29:34.392Z"
   },
   {
    "duration": 17,
    "start_time": "2022-05-05T14:29:34.673Z"
   },
   {
    "duration": 420,
    "start_time": "2022-05-05T14:29:34.691Z"
   },
   {
    "duration": 10,
    "start_time": "2022-05-05T14:29:35.113Z"
   },
   {
    "duration": 31,
    "start_time": "2022-05-05T14:29:35.124Z"
   },
   {
    "duration": 261,
    "start_time": "2022-05-05T14:29:35.157Z"
   },
   {
    "duration": 5,
    "start_time": "2022-05-05T14:29:35.419Z"
   },
   {
    "duration": 89,
    "start_time": "2022-05-05T14:29:35.425Z"
   },
   {
    "duration": 178,
    "start_time": "2022-05-05T14:29:35.516Z"
   },
   {
    "duration": 90,
    "start_time": "2022-05-05T14:29:35.696Z"
   },
   {
    "duration": 186,
    "start_time": "2022-05-05T14:29:35.787Z"
   },
   {
    "duration": 4,
    "start_time": "2022-05-05T14:29:35.975Z"
   },
   {
    "duration": 8,
    "start_time": "2022-05-05T14:29:35.982Z"
   },
   {
    "duration": 12,
    "start_time": "2022-05-05T14:29:35.992Z"
   },
   {
    "duration": 8,
    "start_time": "2022-05-05T14:29:36.006Z"
   },
   {
    "duration": 171,
    "start_time": "2022-05-05T14:29:36.016Z"
   },
   {
    "duration": 7,
    "start_time": "2022-05-05T14:29:36.189Z"
   },
   {
    "duration": 182,
    "start_time": "2022-05-05T14:29:36.197Z"
   },
   {
    "duration": 180,
    "start_time": "2022-05-05T14:29:36.381Z"
   },
   {
    "duration": 5,
    "start_time": "2022-05-05T14:29:36.563Z"
   },
   {
    "duration": 12,
    "start_time": "2022-05-05T14:29:36.570Z"
   },
   {
    "duration": 15,
    "start_time": "2022-05-05T14:29:36.584Z"
   },
   {
    "duration": 6,
    "start_time": "2022-05-05T14:29:36.600Z"
   },
   {
    "duration": 8,
    "start_time": "2022-05-05T14:29:36.608Z"
   },
   {
    "duration": 143,
    "start_time": "2022-05-05T14:29:36.618Z"
   },
   {
    "duration": 12,
    "start_time": "2022-05-05T14:29:36.763Z"
   },
   {
    "duration": 13,
    "start_time": "2022-05-05T14:29:36.777Z"
   },
   {
    "duration": 7,
    "start_time": "2022-05-05T14:29:36.791Z"
   },
   {
    "duration": 13,
    "start_time": "2022-05-05T14:29:36.800Z"
   },
   {
    "duration": 13,
    "start_time": "2022-05-05T14:29:36.815Z"
   },
   {
    "duration": 11,
    "start_time": "2022-05-05T14:29:36.830Z"
   },
   {
    "duration": 13,
    "start_time": "2022-05-05T14:29:36.843Z"
   },
   {
    "duration": 11,
    "start_time": "2022-05-05T14:29:36.858Z"
   },
   {
    "duration": 74,
    "start_time": "2022-05-08T07:16:54.585Z"
   },
   {
    "duration": 2014,
    "start_time": "2022-05-08T07:17:05.217Z"
   },
   {
    "duration": 85,
    "start_time": "2022-05-08T07:17:07.234Z"
   },
   {
    "duration": 4,
    "start_time": "2022-05-08T07:17:07.322Z"
   },
   {
    "duration": 36,
    "start_time": "2022-05-08T07:17:07.329Z"
   },
   {
    "duration": 17,
    "start_time": "2022-05-08T07:17:07.367Z"
   },
   {
    "duration": 1028,
    "start_time": "2022-05-08T07:17:07.386Z"
   },
   {
    "duration": 0,
    "start_time": "2022-05-08T07:17:08.418Z"
   },
   {
    "duration": 0,
    "start_time": "2022-05-08T07:17:08.420Z"
   },
   {
    "duration": 0,
    "start_time": "2022-05-08T07:17:08.421Z"
   },
   {
    "duration": 0,
    "start_time": "2022-05-08T07:17:08.423Z"
   },
   {
    "duration": 0,
    "start_time": "2022-05-08T07:17:08.424Z"
   },
   {
    "duration": 0,
    "start_time": "2022-05-08T07:17:08.425Z"
   },
   {
    "duration": 0,
    "start_time": "2022-05-08T07:17:08.427Z"
   },
   {
    "duration": 0,
    "start_time": "2022-05-08T07:17:08.428Z"
   },
   {
    "duration": 0,
    "start_time": "2022-05-08T07:17:08.430Z"
   },
   {
    "duration": 0,
    "start_time": "2022-05-08T07:17:08.431Z"
   },
   {
    "duration": 0,
    "start_time": "2022-05-08T07:17:08.433Z"
   },
   {
    "duration": 0,
    "start_time": "2022-05-08T07:17:08.434Z"
   },
   {
    "duration": 0,
    "start_time": "2022-05-08T07:17:08.435Z"
   },
   {
    "duration": 0,
    "start_time": "2022-05-08T07:17:08.436Z"
   },
   {
    "duration": 0,
    "start_time": "2022-05-08T07:17:08.437Z"
   },
   {
    "duration": 0,
    "start_time": "2022-05-08T07:17:08.439Z"
   },
   {
    "duration": 0,
    "start_time": "2022-05-08T07:17:08.440Z"
   },
   {
    "duration": 0,
    "start_time": "2022-05-08T07:17:08.441Z"
   },
   {
    "duration": 0,
    "start_time": "2022-05-08T07:17:08.442Z"
   },
   {
    "duration": 0,
    "start_time": "2022-05-08T07:17:08.443Z"
   },
   {
    "duration": 0,
    "start_time": "2022-05-08T07:17:08.445Z"
   },
   {
    "duration": 0,
    "start_time": "2022-05-08T07:17:08.446Z"
   },
   {
    "duration": 0,
    "start_time": "2022-05-08T07:17:08.449Z"
   },
   {
    "duration": 0,
    "start_time": "2022-05-08T07:17:08.450Z"
   },
   {
    "duration": 0,
    "start_time": "2022-05-08T07:17:08.451Z"
   },
   {
    "duration": 0,
    "start_time": "2022-05-08T07:17:08.452Z"
   },
   {
    "duration": 1,
    "start_time": "2022-05-08T07:17:08.453Z"
   },
   {
    "duration": 0,
    "start_time": "2022-05-08T07:17:08.455Z"
   },
   {
    "duration": 0,
    "start_time": "2022-05-08T07:17:08.456Z"
   },
   {
    "duration": 0,
    "start_time": "2022-05-08T07:17:08.457Z"
   },
   {
    "duration": 0,
    "start_time": "2022-05-08T07:17:08.458Z"
   },
   {
    "duration": 0,
    "start_time": "2022-05-08T07:17:08.460Z"
   },
   {
    "duration": 0,
    "start_time": "2022-05-08T07:17:08.461Z"
   },
   {
    "duration": 0,
    "start_time": "2022-05-08T07:17:08.462Z"
   },
   {
    "duration": 0,
    "start_time": "2022-05-08T07:17:08.463Z"
   },
   {
    "duration": 0,
    "start_time": "2022-05-08T07:17:08.525Z"
   },
   {
    "duration": 0,
    "start_time": "2022-05-08T07:17:08.526Z"
   },
   {
    "duration": 0,
    "start_time": "2022-05-08T07:17:08.528Z"
   },
   {
    "duration": 0,
    "start_time": "2022-05-08T07:17:08.530Z"
   },
   {
    "duration": 0,
    "start_time": "2022-05-08T07:17:08.532Z"
   },
   {
    "duration": 0,
    "start_time": "2022-05-08T07:17:08.533Z"
   },
   {
    "duration": 0,
    "start_time": "2022-05-08T07:17:08.535Z"
   },
   {
    "duration": 0,
    "start_time": "2022-05-08T07:17:08.536Z"
   },
   {
    "duration": 0,
    "start_time": "2022-05-08T07:17:08.538Z"
   },
   {
    "duration": 0,
    "start_time": "2022-05-08T07:17:08.539Z"
   },
   {
    "duration": 0,
    "start_time": "2022-05-08T07:17:08.540Z"
   },
   {
    "duration": 0,
    "start_time": "2022-05-08T07:17:08.541Z"
   },
   {
    "duration": 0,
    "start_time": "2022-05-08T07:17:08.542Z"
   },
   {
    "duration": 0,
    "start_time": "2022-05-08T07:17:08.544Z"
   },
   {
    "duration": 0,
    "start_time": "2022-05-08T07:17:08.545Z"
   },
   {
    "duration": 0,
    "start_time": "2022-05-08T07:17:08.547Z"
   },
   {
    "duration": 0,
    "start_time": "2022-05-08T07:17:08.548Z"
   },
   {
    "duration": 0,
    "start_time": "2022-05-08T07:17:08.550Z"
   },
   {
    "duration": 0,
    "start_time": "2022-05-08T07:17:08.551Z"
   },
   {
    "duration": 0,
    "start_time": "2022-05-08T07:17:08.553Z"
   },
   {
    "duration": 0,
    "start_time": "2022-05-08T07:17:08.554Z"
   },
   {
    "duration": 0,
    "start_time": "2022-05-08T07:17:08.555Z"
   },
   {
    "duration": 0,
    "start_time": "2022-05-08T07:17:08.557Z"
   },
   {
    "duration": 0,
    "start_time": "2022-05-08T07:17:08.558Z"
   },
   {
    "duration": 0,
    "start_time": "2022-05-08T07:17:08.559Z"
   },
   {
    "duration": 0,
    "start_time": "2022-05-08T07:17:08.560Z"
   },
   {
    "duration": 0,
    "start_time": "2022-05-08T07:17:08.625Z"
   },
   {
    "duration": 0,
    "start_time": "2022-05-08T07:17:08.626Z"
   },
   {
    "duration": 18,
    "start_time": "2022-05-08T07:18:46.433Z"
   },
   {
    "duration": 7,
    "start_time": "2022-05-08T07:18:54.476Z"
   },
   {
    "duration": 8,
    "start_time": "2022-05-08T07:18:55.543Z"
   },
   {
    "duration": 1205,
    "start_time": "2022-05-08T07:18:56.452Z"
   },
   {
    "duration": 33,
    "start_time": "2022-05-08T07:19:37.926Z"
   },
   {
    "duration": 16,
    "start_time": "2022-05-08T07:19:41.678Z"
   },
   {
    "duration": 16,
    "start_time": "2022-05-08T07:19:42.890Z"
   },
   {
    "duration": 8,
    "start_time": "2022-05-08T07:19:44.585Z"
   },
   {
    "duration": 11,
    "start_time": "2022-05-08T07:20:03.539Z"
   },
   {
    "duration": 1291,
    "start_time": "2022-05-08T07:21:10.460Z"
   },
   {
    "duration": 1121,
    "start_time": "2022-05-08T07:33:53.198Z"
   },
   {
    "duration": 174,
    "start_time": "2022-05-08T07:41:33.863Z"
   },
   {
    "duration": 104,
    "start_time": "2022-05-08T07:42:50.574Z"
   },
   {
    "duration": 909,
    "start_time": "2022-05-08T07:45:34.431Z"
   },
   {
    "duration": 154,
    "start_time": "2022-05-08T07:45:56.192Z"
   },
   {
    "duration": 77,
    "start_time": "2022-05-08T07:46:45.640Z"
   },
   {
    "duration": 445,
    "start_time": "2022-05-08T08:05:06.884Z"
   },
   {
    "duration": 448,
    "start_time": "2022-05-08T08:05:36.907Z"
   },
   {
    "duration": 76,
    "start_time": "2022-05-08T10:04:07.122Z"
   },
   {
    "duration": 1935,
    "start_time": "2022-05-08T10:04:15.634Z"
   },
   {
    "duration": 135,
    "start_time": "2022-05-08T10:04:17.572Z"
   },
   {
    "duration": 4,
    "start_time": "2022-05-08T10:04:17.709Z"
   },
   {
    "duration": 44,
    "start_time": "2022-05-08T10:04:17.716Z"
   },
   {
    "duration": 16,
    "start_time": "2022-05-08T10:04:17.763Z"
   },
   {
    "duration": 18,
    "start_time": "2022-05-08T10:04:17.781Z"
   },
   {
    "duration": 19,
    "start_time": "2022-05-08T10:04:17.801Z"
   },
   {
    "duration": 31,
    "start_time": "2022-05-08T10:04:17.822Z"
   },
   {
    "duration": 1207,
    "start_time": "2022-05-08T10:04:17.855Z"
   },
   {
    "duration": 40,
    "start_time": "2022-05-08T10:04:19.066Z"
   },
   {
    "duration": 10,
    "start_time": "2022-05-08T10:04:19.108Z"
   },
   {
    "duration": 45,
    "start_time": "2022-05-08T10:04:19.120Z"
   },
   {
    "duration": 20,
    "start_time": "2022-05-08T10:04:19.167Z"
   },
   {
    "duration": 10,
    "start_time": "2022-05-08T10:04:19.190Z"
   },
   {
    "duration": 8,
    "start_time": "2022-05-08T10:04:19.202Z"
   },
   {
    "duration": 41,
    "start_time": "2022-05-08T10:04:19.212Z"
   },
   {
    "duration": 8,
    "start_time": "2022-05-08T10:04:19.255Z"
   },
   {
    "duration": 7,
    "start_time": "2022-05-08T10:04:19.266Z"
   },
   {
    "duration": 7,
    "start_time": "2022-05-08T10:04:19.275Z"
   },
   {
    "duration": 68,
    "start_time": "2022-05-08T10:04:19.284Z"
   },
   {
    "duration": 15,
    "start_time": "2022-05-08T10:04:19.354Z"
   },
   {
    "duration": 13,
    "start_time": "2022-05-08T10:04:19.371Z"
   },
   {
    "duration": 33,
    "start_time": "2022-05-08T10:04:19.387Z"
   },
   {
    "duration": 718,
    "start_time": "2022-05-08T10:04:19.422Z"
   },
   {
    "duration": 224,
    "start_time": "2022-05-08T10:04:20.143Z"
   },
   {
    "duration": 304,
    "start_time": "2022-05-08T10:04:20.370Z"
   },
   {
    "duration": 0,
    "start_time": "2022-05-08T10:04:20.679Z"
   },
   {
    "duration": 0,
    "start_time": "2022-05-08T10:04:20.682Z"
   },
   {
    "duration": 0,
    "start_time": "2022-05-08T10:04:20.684Z"
   },
   {
    "duration": 0,
    "start_time": "2022-05-08T10:04:20.686Z"
   },
   {
    "duration": 0,
    "start_time": "2022-05-08T10:04:20.688Z"
   },
   {
    "duration": 0,
    "start_time": "2022-05-08T10:04:20.690Z"
   },
   {
    "duration": 0,
    "start_time": "2022-05-08T10:04:20.692Z"
   },
   {
    "duration": 0,
    "start_time": "2022-05-08T10:04:20.694Z"
   },
   {
    "duration": 0,
    "start_time": "2022-05-08T10:04:20.696Z"
   },
   {
    "duration": 0,
    "start_time": "2022-05-08T10:04:20.699Z"
   },
   {
    "duration": 0,
    "start_time": "2022-05-08T10:04:20.701Z"
   },
   {
    "duration": 0,
    "start_time": "2022-05-08T10:04:20.704Z"
   },
   {
    "duration": 0,
    "start_time": "2022-05-08T10:04:20.705Z"
   },
   {
    "duration": 0,
    "start_time": "2022-05-08T10:04:20.707Z"
   },
   {
    "duration": 0,
    "start_time": "2022-05-08T10:04:20.753Z"
   },
   {
    "duration": 0,
    "start_time": "2022-05-08T10:04:20.755Z"
   },
   {
    "duration": 0,
    "start_time": "2022-05-08T10:04:20.757Z"
   },
   {
    "duration": 0,
    "start_time": "2022-05-08T10:04:20.758Z"
   },
   {
    "duration": 0,
    "start_time": "2022-05-08T10:04:20.760Z"
   },
   {
    "duration": 0,
    "start_time": "2022-05-08T10:04:20.761Z"
   },
   {
    "duration": 0,
    "start_time": "2022-05-08T10:04:20.762Z"
   },
   {
    "duration": 0,
    "start_time": "2022-05-08T10:04:20.763Z"
   },
   {
    "duration": 0,
    "start_time": "2022-05-08T10:04:20.764Z"
   },
   {
    "duration": 0,
    "start_time": "2022-05-08T10:04:20.765Z"
   },
   {
    "duration": 0,
    "start_time": "2022-05-08T10:04:20.767Z"
   },
   {
    "duration": 0,
    "start_time": "2022-05-08T10:04:20.768Z"
   },
   {
    "duration": 0,
    "start_time": "2022-05-08T10:04:20.769Z"
   },
   {
    "duration": 0,
    "start_time": "2022-05-08T10:04:20.770Z"
   },
   {
    "duration": 0,
    "start_time": "2022-05-08T10:04:20.771Z"
   },
   {
    "duration": 0,
    "start_time": "2022-05-08T10:04:20.773Z"
   },
   {
    "duration": 0,
    "start_time": "2022-05-08T10:04:20.774Z"
   },
   {
    "duration": 0,
    "start_time": "2022-05-08T10:04:20.775Z"
   },
   {
    "duration": 0,
    "start_time": "2022-05-08T10:04:20.776Z"
   },
   {
    "duration": 0,
    "start_time": "2022-05-08T10:04:20.777Z"
   },
   {
    "duration": 0,
    "start_time": "2022-05-08T10:04:20.779Z"
   },
   {
    "duration": 0,
    "start_time": "2022-05-08T10:04:20.780Z"
   },
   {
    "duration": 0,
    "start_time": "2022-05-08T10:04:20.781Z"
   },
   {
    "duration": 0,
    "start_time": "2022-05-08T10:04:20.783Z"
   },
   {
    "duration": 0,
    "start_time": "2022-05-08T10:04:20.784Z"
   },
   {
    "duration": 0,
    "start_time": "2022-05-08T10:04:20.785Z"
   },
   {
    "duration": 0,
    "start_time": "2022-05-08T10:04:20.787Z"
   },
   {
    "duration": 0,
    "start_time": "2022-05-08T10:04:20.788Z"
   },
   {
    "duration": 1,
    "start_time": "2022-05-08T10:04:20.789Z"
   },
   {
    "duration": 0,
    "start_time": "2022-05-08T10:04:20.791Z"
   },
   {
    "duration": 14,
    "start_time": "2022-05-08T10:04:40.807Z"
   },
   {
    "duration": 353,
    "start_time": "2022-05-08T10:06:34.847Z"
   },
   {
    "duration": 365,
    "start_time": "2022-05-08T10:07:34.609Z"
   },
   {
    "duration": 287,
    "start_time": "2022-05-08T10:09:14.890Z"
   },
   {
    "duration": 10,
    "start_time": "2022-05-08T10:09:23.715Z"
   },
   {
    "duration": 4,
    "start_time": "2022-05-08T10:09:24.722Z"
   },
   {
    "duration": 17,
    "start_time": "2022-05-08T10:09:25.174Z"
   },
   {
    "duration": 18,
    "start_time": "2022-05-08T10:09:25.666Z"
   },
   {
    "duration": 673,
    "start_time": "2022-05-08T10:09:26.555Z"
   },
   {
    "duration": 487,
    "start_time": "2022-05-08T10:10:41.965Z"
   },
   {
    "duration": 519,
    "start_time": "2022-05-08T10:10:59.744Z"
   },
   {
    "duration": 485,
    "start_time": "2022-05-08T10:11:39.924Z"
   },
   {
    "duration": 36,
    "start_time": "2022-05-08T10:12:08.880Z"
   },
   {
    "duration": 486,
    "start_time": "2022-05-08T10:12:09.745Z"
   },
   {
    "duration": 6,
    "start_time": "2022-05-08T10:12:24.700Z"
   },
   {
    "duration": 97,
    "start_time": "2022-05-08T10:12:24.708Z"
   },
   {
    "duration": 4,
    "start_time": "2022-05-08T10:12:24.808Z"
   },
   {
    "duration": 34,
    "start_time": "2022-05-08T10:12:24.814Z"
   },
   {
    "duration": 20,
    "start_time": "2022-05-08T10:12:24.851Z"
   },
   {
    "duration": 22,
    "start_time": "2022-05-08T10:12:24.873Z"
   },
   {
    "duration": 10,
    "start_time": "2022-05-08T10:12:24.897Z"
   },
   {
    "duration": 11,
    "start_time": "2022-05-08T10:12:24.909Z"
   },
   {
    "duration": 1290,
    "start_time": "2022-05-08T10:12:24.922Z"
   },
   {
    "duration": 56,
    "start_time": "2022-05-08T10:12:26.214Z"
   },
   {
    "duration": 9,
    "start_time": "2022-05-08T10:12:26.275Z"
   },
   {
    "duration": 18,
    "start_time": "2022-05-08T10:12:26.286Z"
   },
   {
    "duration": 59,
    "start_time": "2022-05-08T10:12:26.306Z"
   },
   {
    "duration": 10,
    "start_time": "2022-05-08T10:12:26.367Z"
   },
   {
    "duration": 10,
    "start_time": "2022-05-08T10:12:26.380Z"
   },
   {
    "duration": 9,
    "start_time": "2022-05-08T10:12:26.392Z"
   },
   {
    "duration": 7,
    "start_time": "2022-05-08T10:12:26.403Z"
   },
   {
    "duration": 42,
    "start_time": "2022-05-08T10:12:26.412Z"
   },
   {
    "duration": 14,
    "start_time": "2022-05-08T10:12:26.458Z"
   },
   {
    "duration": 31,
    "start_time": "2022-05-08T10:12:26.474Z"
   },
   {
    "duration": 15,
    "start_time": "2022-05-08T10:12:26.507Z"
   },
   {
    "duration": 34,
    "start_time": "2022-05-08T10:12:26.524Z"
   },
   {
    "duration": 38,
    "start_time": "2022-05-08T10:12:26.561Z"
   },
   {
    "duration": 98,
    "start_time": "2022-05-08T10:12:26.601Z"
   },
   {
    "duration": 105,
    "start_time": "2022-05-08T10:12:26.702Z"
   },
   {
    "duration": 372,
    "start_time": "2022-05-08T10:12:26.809Z"
   },
   {
    "duration": 10,
    "start_time": "2022-05-08T10:12:27.183Z"
   },
   {
    "duration": 9,
    "start_time": "2022-05-08T10:12:27.195Z"
   },
   {
    "duration": 40,
    "start_time": "2022-05-08T10:12:27.211Z"
   },
   {
    "duration": 24,
    "start_time": "2022-05-08T10:12:27.254Z"
   },
   {
    "duration": 506,
    "start_time": "2022-05-08T10:12:27.280Z"
   },
   {
    "duration": 35,
    "start_time": "2022-05-08T10:12:27.788Z"
   },
   {
    "duration": 529,
    "start_time": "2022-05-08T10:12:27.825Z"
   },
   {
    "duration": 22,
    "start_time": "2022-05-08T10:12:28.360Z"
   },
   {
    "duration": 19,
    "start_time": "2022-05-08T10:12:28.385Z"
   },
   {
    "duration": 54,
    "start_time": "2022-05-08T10:12:28.407Z"
   },
   {
    "duration": 27,
    "start_time": "2022-05-08T10:12:28.463Z"
   },
   {
    "duration": 488,
    "start_time": "2022-05-08T10:12:28.492Z"
   },
   {
    "duration": 26,
    "start_time": "2022-05-08T10:12:28.983Z"
   },
   {
    "duration": 610,
    "start_time": "2022-05-08T10:12:29.011Z"
   },
   {
    "duration": 36,
    "start_time": "2022-05-08T10:12:29.624Z"
   },
   {
    "duration": 41,
    "start_time": "2022-05-08T10:12:29.662Z"
   },
   {
    "duration": 485,
    "start_time": "2022-05-08T10:12:29.705Z"
   },
   {
    "duration": 6,
    "start_time": "2022-05-08T10:12:30.193Z"
   },
   {
    "duration": 145,
    "start_time": "2022-05-08T10:12:30.201Z"
   },
   {
    "duration": 301,
    "start_time": "2022-05-08T10:12:30.348Z"
   },
   {
    "duration": 156,
    "start_time": "2022-05-08T10:12:30.656Z"
   },
   {
    "duration": 319,
    "start_time": "2022-05-08T10:12:30.814Z"
   },
   {
    "duration": 5,
    "start_time": "2022-05-08T10:12:31.135Z"
   },
   {
    "duration": 17,
    "start_time": "2022-05-08T10:12:31.164Z"
   },
   {
    "duration": 22,
    "start_time": "2022-05-08T10:12:31.183Z"
   },
   {
    "duration": 17,
    "start_time": "2022-05-08T10:12:31.207Z"
   },
   {
    "duration": 307,
    "start_time": "2022-05-08T10:12:31.226Z"
   },
   {
    "duration": 8,
    "start_time": "2022-05-08T10:12:31.535Z"
   },
   {
    "duration": 312,
    "start_time": "2022-05-08T10:12:31.554Z"
   },
   {
    "duration": 311,
    "start_time": "2022-05-08T10:12:31.868Z"
   },
   {
    "duration": 8,
    "start_time": "2022-05-08T10:12:32.181Z"
   },
   {
    "duration": 23,
    "start_time": "2022-05-08T10:12:32.191Z"
   },
   {
    "duration": 42,
    "start_time": "2022-05-08T10:12:32.216Z"
   },
   {
    "duration": 22,
    "start_time": "2022-05-08T10:12:32.259Z"
   },
   {
    "duration": 12,
    "start_time": "2022-05-08T10:12:32.284Z"
   },
   {
    "duration": 22,
    "start_time": "2022-05-08T10:12:32.298Z"
   },
   {
    "duration": 126,
    "start_time": "2022-05-08T10:12:32.322Z"
   },
   {
    "duration": 30,
    "start_time": "2022-05-08T10:12:32.453Z"
   },
   {
    "duration": 12,
    "start_time": "2022-05-08T10:12:32.486Z"
   },
   {
    "duration": 21,
    "start_time": "2022-05-08T10:12:32.500Z"
   },
   {
    "duration": 20,
    "start_time": "2022-05-08T10:12:32.523Z"
   },
   {
    "duration": 28,
    "start_time": "2022-05-08T10:12:32.545Z"
   },
   {
    "duration": 11,
    "start_time": "2022-05-08T10:12:32.576Z"
   },
   {
    "duration": 13,
    "start_time": "2022-05-08T10:12:32.589Z"
   },
   {
    "duration": 491,
    "start_time": "2022-05-08T10:13:56.417Z"
   },
   {
    "duration": 510,
    "start_time": "2022-05-08T10:14:04.202Z"
   },
   {
    "duration": 1706,
    "start_time": "2022-05-08T10:19:11.450Z"
   },
   {
    "duration": 7,
    "start_time": "2022-05-08T10:20:08.479Z"
   },
   {
    "duration": 5,
    "start_time": "2022-05-08T10:23:59.781Z"
   },
   {
    "duration": 7,
    "start_time": "2022-05-08T10:27:53.856Z"
   },
   {
    "duration": 24,
    "start_time": "2022-05-08T10:28:10.872Z"
   },
   {
    "duration": 7,
    "start_time": "2022-05-08T10:38:31.587Z"
   },
   {
    "duration": 458,
    "start_time": "2022-05-08T10:39:11.783Z"
   },
   {
    "duration": 463,
    "start_time": "2022-05-08T10:40:37.469Z"
   },
   {
    "duration": 77,
    "start_time": "2022-05-08T10:44:32.532Z"
   },
   {
    "duration": 550,
    "start_time": "2022-05-08T10:46:47.429Z"
   },
   {
    "duration": 27,
    "start_time": "2022-05-08T11:27:24.189Z"
   },
   {
    "duration": 272,
    "start_time": "2022-05-08T11:46:34.262Z"
   },
   {
    "duration": 89,
    "start_time": "2022-05-08T11:49:42.226Z"
   },
   {
    "duration": 109,
    "start_time": "2022-05-08T11:49:56.801Z"
   },
   {
    "duration": 106,
    "start_time": "2022-05-08T11:50:09.487Z"
   },
   {
    "duration": 82,
    "start_time": "2022-05-08T11:50:16.874Z"
   },
   {
    "duration": 401,
    "start_time": "2022-05-08T11:51:20.527Z"
   },
   {
    "duration": 609,
    "start_time": "2022-05-08T11:52:39.823Z"
   },
   {
    "duration": 387,
    "start_time": "2022-05-08T11:53:16.193Z"
   },
   {
    "duration": 21,
    "start_time": "2022-05-08T12:39:07.900Z"
   },
   {
    "duration": 9,
    "start_time": "2022-05-08T12:39:11.219Z"
   },
   {
    "duration": 8,
    "start_time": "2022-05-08T12:39:27.522Z"
   },
   {
    "duration": 10,
    "start_time": "2022-05-08T12:47:05.743Z"
   },
   {
    "duration": 121,
    "start_time": "2022-05-08T15:23:52.811Z"
   },
   {
    "duration": 1968,
    "start_time": "2022-05-08T15:24:17.373Z"
   },
   {
    "duration": 279,
    "start_time": "2022-05-08T15:24:19.344Z"
   },
   {
    "duration": 5,
    "start_time": "2022-05-08T15:24:19.626Z"
   },
   {
    "duration": 38,
    "start_time": "2022-05-08T15:24:19.634Z"
   },
   {
    "duration": 15,
    "start_time": "2022-05-08T15:24:19.674Z"
   },
   {
    "duration": 23,
    "start_time": "2022-05-08T15:24:19.693Z"
   },
   {
    "duration": 9,
    "start_time": "2022-05-08T15:24:19.719Z"
   },
   {
    "duration": 14,
    "start_time": "2022-05-08T15:24:19.731Z"
   },
   {
    "duration": 1083,
    "start_time": "2022-05-08T15:24:19.747Z"
   },
   {
    "duration": 38,
    "start_time": "2022-05-08T15:24:20.834Z"
   },
   {
    "duration": 8,
    "start_time": "2022-05-08T15:24:20.894Z"
   },
   {
    "duration": 28,
    "start_time": "2022-05-08T15:24:20.904Z"
   },
   {
    "duration": 25,
    "start_time": "2022-05-08T15:24:20.935Z"
   },
   {
    "duration": 45,
    "start_time": "2022-05-08T15:24:20.962Z"
   },
   {
    "duration": 9,
    "start_time": "2022-05-08T15:24:21.009Z"
   },
   {
    "duration": 9,
    "start_time": "2022-05-08T15:24:21.021Z"
   },
   {
    "duration": 6,
    "start_time": "2022-05-08T15:24:21.033Z"
   },
   {
    "duration": 7,
    "start_time": "2022-05-08T15:24:21.042Z"
   },
   {
    "duration": 42,
    "start_time": "2022-05-08T15:24:21.051Z"
   },
   {
    "duration": 35,
    "start_time": "2022-05-08T15:24:21.096Z"
   },
   {
    "duration": 15,
    "start_time": "2022-05-08T15:24:21.134Z"
   },
   {
    "duration": 42,
    "start_time": "2022-05-08T15:24:21.151Z"
   },
   {
    "duration": 37,
    "start_time": "2022-05-08T15:24:21.196Z"
   },
   {
    "duration": 899,
    "start_time": "2022-05-08T15:24:21.236Z"
   },
   {
    "duration": 188,
    "start_time": "2022-05-08T15:24:22.138Z"
   },
   {
    "duration": 576,
    "start_time": "2022-05-08T15:24:22.328Z"
   },
   {
    "duration": 11,
    "start_time": "2022-05-08T15:24:22.906Z"
   },
   {
    "duration": 5,
    "start_time": "2022-05-08T15:24:22.925Z"
   },
   {
    "duration": 23,
    "start_time": "2022-05-08T15:24:22.932Z"
   },
   {
    "duration": 53,
    "start_time": "2022-05-08T15:24:22.958Z"
   },
   {
    "duration": 640,
    "start_time": "2022-05-08T15:24:23.014Z"
   },
   {
    "duration": 49,
    "start_time": "2022-05-08T15:24:23.656Z"
   },
   {
    "duration": 586,
    "start_time": "2022-05-08T15:24:23.707Z"
   },
   {
    "duration": 24,
    "start_time": "2022-05-08T15:24:24.296Z"
   },
   {
    "duration": 26,
    "start_time": "2022-05-08T15:24:24.325Z"
   },
   {
    "duration": 55,
    "start_time": "2022-05-08T15:24:24.354Z"
   },
   {
    "duration": 34,
    "start_time": "2022-05-08T15:24:24.411Z"
   },
   {
    "duration": 717,
    "start_time": "2022-05-08T15:24:24.448Z"
   },
   {
    "duration": 45,
    "start_time": "2022-05-08T15:24:25.168Z"
   },
   {
    "duration": 749,
    "start_time": "2022-05-08T15:24:25.215Z"
   },
   {
    "duration": 36,
    "start_time": "2022-05-08T15:24:25.967Z"
   },
   {
    "duration": 46,
    "start_time": "2022-05-08T15:24:26.006Z"
   },
   {
    "duration": 729,
    "start_time": "2022-05-08T15:24:26.055Z"
   },
   {
    "duration": 7,
    "start_time": "2022-05-08T15:24:26.793Z"
   },
   {
    "duration": 9,
    "start_time": "2022-05-08T15:24:26.803Z"
   },
   {
    "duration": 31,
    "start_time": "2022-05-08T15:24:26.814Z"
   },
   {
    "duration": 746,
    "start_time": "2022-05-08T15:24:26.847Z"
   },
   {
    "duration": 52,
    "start_time": "2022-05-08T15:24:27.596Z"
   },
   {
    "duration": 590,
    "start_time": "2022-05-08T15:24:27.651Z"
   },
   {
    "duration": 200,
    "start_time": "2022-05-08T15:24:28.245Z"
   },
   {
    "duration": 330,
    "start_time": "2022-05-08T15:24:28.448Z"
   },
   {
    "duration": 158,
    "start_time": "2022-05-08T15:24:28.780Z"
   },
   {
    "duration": 481,
    "start_time": "2022-05-08T15:24:28.940Z"
   },
   {
    "duration": 6,
    "start_time": "2022-05-08T15:24:29.424Z"
   },
   {
    "duration": 16,
    "start_time": "2022-05-08T15:24:29.432Z"
   },
   {
    "duration": 16,
    "start_time": "2022-05-08T15:24:29.452Z"
   },
   {
    "duration": 11,
    "start_time": "2022-05-08T15:24:29.493Z"
   },
   {
    "duration": 375,
    "start_time": "2022-05-08T15:24:29.507Z"
   },
   {
    "duration": 16,
    "start_time": "2022-05-08T15:24:29.885Z"
   },
   {
    "duration": 362,
    "start_time": "2022-05-08T15:24:29.904Z"
   },
   {
    "duration": 367,
    "start_time": "2022-05-08T15:24:30.269Z"
   },
   {
    "duration": 466,
    "start_time": "2022-05-08T15:24:30.640Z"
   },
   {
    "duration": 9,
    "start_time": "2022-05-08T15:24:31.109Z"
   },
   {
    "duration": 29,
    "start_time": "2022-05-08T15:24:31.121Z"
   },
   {
    "duration": 41,
    "start_time": "2022-05-08T15:24:31.152Z"
   },
   {
    "duration": 15,
    "start_time": "2022-05-08T15:24:31.196Z"
   },
   {
    "duration": 26,
    "start_time": "2022-05-08T15:24:31.214Z"
   },
   {
    "duration": 22,
    "start_time": "2022-05-08T15:24:31.244Z"
   },
   {
    "duration": 39,
    "start_time": "2022-05-08T15:24:31.268Z"
   },
   {
    "duration": 18,
    "start_time": "2022-05-08T15:24:31.309Z"
   },
   {
    "duration": 17,
    "start_time": "2022-05-08T15:24:31.330Z"
   },
   {
    "duration": 16,
    "start_time": "2022-05-08T15:24:31.350Z"
   },
   {
    "duration": 31,
    "start_time": "2022-05-08T15:24:31.369Z"
   },
   {
    "duration": 8,
    "start_time": "2022-05-08T15:24:31.403Z"
   },
   {
    "duration": 14,
    "start_time": "2022-05-08T15:24:31.414Z"
   },
   {
    "duration": 21,
    "start_time": "2022-05-08T15:24:31.431Z"
   },
   {
    "duration": 17,
    "start_time": "2022-05-08T15:25:56.203Z"
   },
   {
    "duration": 7,
    "start_time": "2022-05-08T16:37:55.135Z"
   },
   {
    "duration": 7,
    "start_time": "2022-05-08T16:37:59.297Z"
   },
   {
    "duration": 15,
    "start_time": "2022-05-08T16:39:17.288Z"
   },
   {
    "duration": 11,
    "start_time": "2022-05-08T16:39:36.281Z"
   }
  ],
  "kernelspec": {
   "display_name": "Python 3 (ipykernel)",
   "language": "python",
   "name": "python3"
  },
  "language_info": {
   "codemirror_mode": {
    "name": "ipython",
    "version": 3
   },
   "file_extension": ".py",
   "mimetype": "text/x-python",
   "name": "python",
   "nbconvert_exporter": "python",
   "pygments_lexer": "ipython3",
   "version": "3.9.7"
  },
  "toc": {
   "base_numbering": 1,
   "nav_menu": {},
   "number_sections": true,
   "sideBar": true,
   "skip_h1_title": true,
   "title_cell": "Table of Contents",
   "title_sidebar": "Contents",
   "toc_cell": false,
   "toc_position": {},
   "toc_section_display": true,
   "toc_window_display": false
  }
 },
 "nbformat": 4,
 "nbformat_minor": 5
}
