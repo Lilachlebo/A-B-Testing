{
 "cells": [
  {
   "cell_type": "markdown",
   "id": "8824a00d",
   "metadata": {},
   "source": [
    "# A/B Testing- Final project assignment"
   ]
  },
  {
   "cell_type": "markdown",
   "id": "70ad59f1",
   "metadata": {},
   "source": [
    "## TASK DESCRIPTION:\n",
    "The analytic task was ordered by an international online store.\n",
    "A new payment funnel has been introduced to the company, and they wish to analyze changes related to its effectiveness.\n",
    "\n",
    "The experiment has been running for 2 weeks between the 7/12/20 and 1/1/21 (but from the 21/12/20 new users stopped being taken in).\n",
    "The samples are 15% of the new users from the EU region.\n",
    "The Control group saw the old payment funnel, and the test group- the new one.\n",
    "Expected number of test participants: 6000\n",
    "\n",
    "The expected results are that within 14 days of signing up users will show at least a 10% increase in each stage of the funnel product_page → product_cart → purchase. \n",
    "More specifically we expect to see:\n",
    "- Better conversion into product page views (the product_page event), \n",
    "- More instances of adding items to the shopping cart (product_cart),\n",
    "- More purchases (purchase). \n",
    "\n",
    "Data was saved onto 4 datasets:\n",
    "- 1. ab_project_marketing_events_us.csv — includes the calendar of marketing events for 2020\n",
    "- 2. final_ab_new_users_upd_us.csv — includes all users who signed up in the online store from December 7 to 21, 2020\n",
    "- 3. final_ab_events_upd_us.csv — includes all events of the new users within the period from Dec 7, 2020 through Jan 1, 2021\n",
    "- 4. final_ab_participants_upd_us.csv — includes table containing participants by test group (A or B)"
   ]
  },
  {
   "cell_type": "markdown",
   "id": "e35458f9",
   "metadata": {},
   "source": [
    "## Loading libraries and data:"
   ]
  },
  {
   "cell_type": "code",
   "execution_count": 1,
   "id": "c246b7a9",
   "metadata": {},
   "outputs": [],
   "source": [
    "import pandas as pd\n",
    "import numpy as np\n",
    "import matplotlib.pyplot as plt\n",
    "from scipy import stats as st\n",
    "import scipy.stats as stats\n",
    "from statsmodels.stats.proportion import proportions_ztest\n",
    "import datetime as dt\n",
    "import sidetable\n",
    "import seaborn as sns\n",
    "import plotly.graph_objects as go\n",
    "from IPython.core.interactiveshell import InteractiveShell\n",
    "InteractiveShell.ast_node_interactivity = 'all'"
   ]
  },
  {
   "cell_type": "code",
   "execution_count": 2,
   "id": "2e5a9b89",
   "metadata": {},
   "outputs": [
    {
     "name": "stdout",
     "output_type": "stream",
     "text": [
      "Requirement already satisfied: kaleido in c:\\users\\user\\anaconda3\\lib\\site-packages (0.2.1)\n",
      "Note: you may need to restart the kernel to use updated packages.\n"
     ]
    }
   ],
   "source": [
    "pip install -U kaleido"
   ]
  },
  {
   "cell_type": "code",
   "execution_count": 3,
   "id": "055d725e",
   "metadata": {},
   "outputs": [
    {
     "name": "stdout",
     "output_type": "stream",
     "text": [
      "Requirement already satisfied: sidetable in c:\\users\\user\\anaconda3\\lib\\site-packages (0.9.0)\n",
      "Requirement already satisfied: pandas>=1.0 in c:\\users\\user\\anaconda3\\lib\\site-packages (from sidetable) (1.3.4)\n",
      "Requirement already satisfied: pytz>=2017.3 in c:\\users\\user\\anaconda3\\lib\\site-packages (from pandas>=1.0->sidetable) (2021.3)\n",
      "Requirement already satisfied: python-dateutil>=2.7.3 in c:\\users\\user\\anaconda3\\lib\\site-packages (from pandas>=1.0->sidetable) (2.8.2)\n",
      "Requirement already satisfied: numpy>=1.17.3 in c:\\users\\user\\anaconda3\\lib\\site-packages (from pandas>=1.0->sidetable) (1.20.3)\n",
      "Requirement already satisfied: six>=1.5 in c:\\users\\user\\anaconda3\\lib\\site-packages (from python-dateutil>=2.7.3->pandas>=1.0->sidetable) (1.16.0)\n",
      "Note: you may need to restart the kernel to use updated packages.\n"
     ]
    }
   ],
   "source": [
    "pip install sidetable"
   ]
  },
  {
   "cell_type": "code",
   "execution_count": 4,
   "id": "dae6bf6a",
   "metadata": {},
   "outputs": [],
   "source": [
    "try:\n",
    "    mark_eve = pd.read_csv(r\"C:\\Users\\USER\\OneDrive\\מסמכים\\DATA ANALYST\\Practicum100\\Final Sprint\\A-B testing section\\ab_project_marketing_events_us.csv\")\n",
    "    all_users = pd.read_csv(r\"C:\\Users\\USER\\OneDrive\\מסמכים\\DATA ANALYST\\Practicum100\\Final Sprint\\A-B testing section\\final_ab_new_users_upd_us.csv\")\n",
    "    events = pd.read_csv(r\"C:\\Users\\USER\\OneDrive\\מסמכים\\DATA ANALYST\\Practicum100\\Final Sprint\\A-B testing section\\final_ab_events_upd_us.csv\")\n",
    "    test_grps= pd.read_csv(r\"C:\\Users\\USER\\OneDrive\\מסמכים\\DATA ANALYST\\Practicum100\\Final Sprint\\A-B testing section\\final_ab_participants_upd_us.csv\")\n",
    "    \n",
    "except:\n",
    "    mark_eve = pd.read_csv(\"\\Datasets\\ab_project_marketing_events_us.csv\")\n",
    "    all_users = pd.read_csv(\"\\Datasets\\final_ab_new_users_upd_us.csv\")\n",
    "    events = pd.read_csv(\"\\Datasets\\final_ab_events_upd_us.csv\")\n",
    "    test_grps= pd.read_csv(\"\\Datasets\\final_ab_participants_upd_us.csv\")"
   ]
  },
  {
   "cell_type": "markdown",
   "id": "73e834f9",
   "metadata": {},
   "source": [
    "## Preprocessing data:"
   ]
  },
  {
   "cell_type": "code",
   "execution_count": 5,
   "id": "76029b4a",
   "metadata": {},
   "outputs": [
    {
     "name": "stdout",
     "output_type": "stream",
     "text": [
      "MARKETING EVENTS:\n"
     ]
    },
    {
     "data": {
      "text/html": [
       "<div>\n",
       "<style scoped>\n",
       "    .dataframe tbody tr th:only-of-type {\n",
       "        vertical-align: middle;\n",
       "    }\n",
       "\n",
       "    .dataframe tbody tr th {\n",
       "        vertical-align: top;\n",
       "    }\n",
       "\n",
       "    .dataframe thead th {\n",
       "        text-align: right;\n",
       "    }\n",
       "</style>\n",
       "<table border=\"1\" class=\"dataframe\">\n",
       "  <thead>\n",
       "    <tr style=\"text-align: right;\">\n",
       "      <th></th>\n",
       "      <th>name</th>\n",
       "      <th>regions</th>\n",
       "      <th>start_dt</th>\n",
       "      <th>finish_dt</th>\n",
       "    </tr>\n",
       "  </thead>\n",
       "  <tbody>\n",
       "    <tr>\n",
       "      <th>0</th>\n",
       "      <td>Christmas&amp;New Year Promo</td>\n",
       "      <td>EU, N.America</td>\n",
       "      <td>2020-12-25</td>\n",
       "      <td>2021-01-03</td>\n",
       "    </tr>\n",
       "    <tr>\n",
       "      <th>1</th>\n",
       "      <td>St. Valentine's Day Giveaway</td>\n",
       "      <td>EU, CIS, APAC, N.America</td>\n",
       "      <td>2020-02-14</td>\n",
       "      <td>2020-02-16</td>\n",
       "    </tr>\n",
       "    <tr>\n",
       "      <th>2</th>\n",
       "      <td>St. Patric's Day Promo</td>\n",
       "      <td>EU, N.America</td>\n",
       "      <td>2020-03-17</td>\n",
       "      <td>2020-03-19</td>\n",
       "    </tr>\n",
       "    <tr>\n",
       "      <th>3</th>\n",
       "      <td>Easter Promo</td>\n",
       "      <td>EU, CIS, APAC, N.America</td>\n",
       "      <td>2020-04-12</td>\n",
       "      <td>2020-04-19</td>\n",
       "    </tr>\n",
       "    <tr>\n",
       "      <th>4</th>\n",
       "      <td>4th of July Promo</td>\n",
       "      <td>N.America</td>\n",
       "      <td>2020-07-04</td>\n",
       "      <td>2020-07-11</td>\n",
       "    </tr>\n",
       "  </tbody>\n",
       "</table>\n",
       "</div>"
      ],
      "text/plain": [
       "                           name                   regions    start_dt  \\\n",
       "0      Christmas&New Year Promo             EU, N.America  2020-12-25   \n",
       "1  St. Valentine's Day Giveaway  EU, CIS, APAC, N.America  2020-02-14   \n",
       "2        St. Patric's Day Promo             EU, N.America  2020-03-17   \n",
       "3                  Easter Promo  EU, CIS, APAC, N.America  2020-04-12   \n",
       "4             4th of July Promo                 N.America  2020-07-04   \n",
       "\n",
       "    finish_dt  \n",
       "0  2021-01-03  \n",
       "1  2020-02-16  \n",
       "2  2020-03-19  \n",
       "3  2020-04-19  \n",
       "4  2020-07-11  "
      ]
     },
     "execution_count": 5,
     "metadata": {},
     "output_type": "execute_result"
    },
    {
     "name": "stdout",
     "output_type": "stream",
     "text": [
      "<class 'pandas.core.frame.DataFrame'>\n",
      "RangeIndex: 14 entries, 0 to 13\n",
      "Data columns (total 4 columns):\n",
      " #   Column     Non-Null Count  Dtype \n",
      "---  ------     --------------  ----- \n",
      " 0   name       14 non-null     object\n",
      " 1   regions    14 non-null     object\n",
      " 2   start_dt   14 non-null     object\n",
      " 3   finish_dt  14 non-null     object\n",
      "dtypes: object(4)\n",
      "memory usage: 576.0+ bytes\n",
      "------------------------------------\n",
      "\n",
      "ALL USERS:\n"
     ]
    },
    {
     "data": {
      "text/html": [
       "<div>\n",
       "<style scoped>\n",
       "    .dataframe tbody tr th:only-of-type {\n",
       "        vertical-align: middle;\n",
       "    }\n",
       "\n",
       "    .dataframe tbody tr th {\n",
       "        vertical-align: top;\n",
       "    }\n",
       "\n",
       "    .dataframe thead th {\n",
       "        text-align: right;\n",
       "    }\n",
       "</style>\n",
       "<table border=\"1\" class=\"dataframe\">\n",
       "  <thead>\n",
       "    <tr style=\"text-align: right;\">\n",
       "      <th></th>\n",
       "      <th>user_id</th>\n",
       "      <th>first_date</th>\n",
       "      <th>region</th>\n",
       "      <th>device</th>\n",
       "    </tr>\n",
       "  </thead>\n",
       "  <tbody>\n",
       "    <tr>\n",
       "      <th>0</th>\n",
       "      <td>D72A72121175D8BE</td>\n",
       "      <td>2020-12-07</td>\n",
       "      <td>EU</td>\n",
       "      <td>PC</td>\n",
       "    </tr>\n",
       "    <tr>\n",
       "      <th>1</th>\n",
       "      <td>F1C668619DFE6E65</td>\n",
       "      <td>2020-12-07</td>\n",
       "      <td>N.America</td>\n",
       "      <td>Android</td>\n",
       "    </tr>\n",
       "    <tr>\n",
       "      <th>2</th>\n",
       "      <td>2E1BF1D4C37EA01F</td>\n",
       "      <td>2020-12-07</td>\n",
       "      <td>EU</td>\n",
       "      <td>PC</td>\n",
       "    </tr>\n",
       "    <tr>\n",
       "      <th>3</th>\n",
       "      <td>50734A22C0C63768</td>\n",
       "      <td>2020-12-07</td>\n",
       "      <td>EU</td>\n",
       "      <td>iPhone</td>\n",
       "    </tr>\n",
       "    <tr>\n",
       "      <th>4</th>\n",
       "      <td>E1BDDCE0DAFA2679</td>\n",
       "      <td>2020-12-07</td>\n",
       "      <td>N.America</td>\n",
       "      <td>iPhone</td>\n",
       "    </tr>\n",
       "  </tbody>\n",
       "</table>\n",
       "</div>"
      ],
      "text/plain": [
       "            user_id  first_date     region   device\n",
       "0  D72A72121175D8BE  2020-12-07         EU       PC\n",
       "1  F1C668619DFE6E65  2020-12-07  N.America  Android\n",
       "2  2E1BF1D4C37EA01F  2020-12-07         EU       PC\n",
       "3  50734A22C0C63768  2020-12-07         EU   iPhone\n",
       "4  E1BDDCE0DAFA2679  2020-12-07  N.America   iPhone"
      ]
     },
     "execution_count": 5,
     "metadata": {},
     "output_type": "execute_result"
    },
    {
     "name": "stdout",
     "output_type": "stream",
     "text": [
      "<class 'pandas.core.frame.DataFrame'>\n",
      "RangeIndex: 58703 entries, 0 to 58702\n",
      "Data columns (total 4 columns):\n",
      " #   Column      Non-Null Count  Dtype \n",
      "---  ------      --------------  ----- \n",
      " 0   user_id     58703 non-null  object\n",
      " 1   first_date  58703 non-null  object\n",
      " 2   region      58703 non-null  object\n",
      " 3   device      58703 non-null  object\n",
      "dtypes: object(4)\n",
      "memory usage: 1.8+ MB\n"
     ]
    },
    {
     "data": {
      "text/plain": [
       "EU           43396\n",
       "N.America     9051\n",
       "CIS           3130\n",
       "APAC          3126\n",
       "Name: region, dtype: int64"
      ]
     },
     "execution_count": 5,
     "metadata": {},
     "output_type": "execute_result"
    },
    {
     "data": {
      "text/plain": [
       "Android    26159\n",
       "PC         14845\n",
       "iPhone     11902\n",
       "Mac         5797\n",
       "Name: device, dtype: int64"
      ]
     },
     "execution_count": 5,
     "metadata": {},
     "output_type": "execute_result"
    },
    {
     "name": "stdout",
     "output_type": "stream",
     "text": [
      "------------------------------------\n",
      "\n",
      "EVENTS:\n"
     ]
    },
    {
     "data": {
      "text/html": [
       "<div>\n",
       "<style scoped>\n",
       "    .dataframe tbody tr th:only-of-type {\n",
       "        vertical-align: middle;\n",
       "    }\n",
       "\n",
       "    .dataframe tbody tr th {\n",
       "        vertical-align: top;\n",
       "    }\n",
       "\n",
       "    .dataframe thead th {\n",
       "        text-align: right;\n",
       "    }\n",
       "</style>\n",
       "<table border=\"1\" class=\"dataframe\">\n",
       "  <thead>\n",
       "    <tr style=\"text-align: right;\">\n",
       "      <th></th>\n",
       "      <th>user_id</th>\n",
       "      <th>event_dt</th>\n",
       "      <th>event_name</th>\n",
       "      <th>details</th>\n",
       "    </tr>\n",
       "  </thead>\n",
       "  <tbody>\n",
       "    <tr>\n",
       "      <th>0</th>\n",
       "      <td>E1BDDCE0DAFA2679</td>\n",
       "      <td>2020-12-07 20:22:03</td>\n",
       "      <td>purchase</td>\n",
       "      <td>99.99</td>\n",
       "    </tr>\n",
       "    <tr>\n",
       "      <th>1</th>\n",
       "      <td>7B6452F081F49504</td>\n",
       "      <td>2020-12-07 09:22:53</td>\n",
       "      <td>purchase</td>\n",
       "      <td>9.99</td>\n",
       "    </tr>\n",
       "    <tr>\n",
       "      <th>2</th>\n",
       "      <td>9CD9F34546DF254C</td>\n",
       "      <td>2020-12-07 12:59:29</td>\n",
       "      <td>purchase</td>\n",
       "      <td>4.99</td>\n",
       "    </tr>\n",
       "    <tr>\n",
       "      <th>3</th>\n",
       "      <td>96F27A054B191457</td>\n",
       "      <td>2020-12-07 04:02:40</td>\n",
       "      <td>purchase</td>\n",
       "      <td>4.99</td>\n",
       "    </tr>\n",
       "    <tr>\n",
       "      <th>4</th>\n",
       "      <td>1FD7660FDF94CA1F</td>\n",
       "      <td>2020-12-07 10:15:09</td>\n",
       "      <td>purchase</td>\n",
       "      <td>4.99</td>\n",
       "    </tr>\n",
       "  </tbody>\n",
       "</table>\n",
       "</div>"
      ],
      "text/plain": [
       "            user_id             event_dt event_name  details\n",
       "0  E1BDDCE0DAFA2679  2020-12-07 20:22:03   purchase    99.99\n",
       "1  7B6452F081F49504  2020-12-07 09:22:53   purchase     9.99\n",
       "2  9CD9F34546DF254C  2020-12-07 12:59:29   purchase     4.99\n",
       "3  96F27A054B191457  2020-12-07 04:02:40   purchase     4.99\n",
       "4  1FD7660FDF94CA1F  2020-12-07 10:15:09   purchase     4.99"
      ]
     },
     "execution_count": 5,
     "metadata": {},
     "output_type": "execute_result"
    },
    {
     "name": "stdout",
     "output_type": "stream",
     "text": [
      "<class 'pandas.core.frame.DataFrame'>\n",
      "RangeIndex: 423761 entries, 0 to 423760\n",
      "Data columns (total 4 columns):\n",
      " #   Column      Non-Null Count   Dtype  \n",
      "---  ------      --------------   -----  \n",
      " 0   user_id     423761 non-null  object \n",
      " 1   event_dt    423761 non-null  object \n",
      " 2   event_name  423761 non-null  object \n",
      " 3   details     60314 non-null   float64\n",
      "dtypes: float64(1), object(3)\n",
      "memory usage: 12.9+ MB\n"
     ]
    },
    {
     "data": {
      "text/plain": [
       "login           182465\n",
       "product_page    120862\n",
       "purchase         60314\n",
       "product_cart     60120\n",
       "Name: event_name, dtype: int64"
      ]
     },
     "execution_count": 5,
     "metadata": {},
     "output_type": "execute_result"
    },
    {
     "name": "stdout",
     "output_type": "stream",
     "text": [
      "------------------------------------\n",
      "\n",
      "TEST GROUP USERS:\n"
     ]
    },
    {
     "data": {
      "text/html": [
       "<div>\n",
       "<style scoped>\n",
       "    .dataframe tbody tr th:only-of-type {\n",
       "        vertical-align: middle;\n",
       "    }\n",
       "\n",
       "    .dataframe tbody tr th {\n",
       "        vertical-align: top;\n",
       "    }\n",
       "\n",
       "    .dataframe thead th {\n",
       "        text-align: right;\n",
       "    }\n",
       "</style>\n",
       "<table border=\"1\" class=\"dataframe\">\n",
       "  <thead>\n",
       "    <tr style=\"text-align: right;\">\n",
       "      <th></th>\n",
       "      <th>user_id</th>\n",
       "      <th>group</th>\n",
       "      <th>ab_test</th>\n",
       "    </tr>\n",
       "  </thead>\n",
       "  <tbody>\n",
       "    <tr>\n",
       "      <th>0</th>\n",
       "      <td>D1ABA3E2887B6A73</td>\n",
       "      <td>A</td>\n",
       "      <td>recommender_system_test</td>\n",
       "    </tr>\n",
       "    <tr>\n",
       "      <th>1</th>\n",
       "      <td>A7A3664BD6242119</td>\n",
       "      <td>A</td>\n",
       "      <td>recommender_system_test</td>\n",
       "    </tr>\n",
       "    <tr>\n",
       "      <th>2</th>\n",
       "      <td>DABC14FDDFADD29E</td>\n",
       "      <td>A</td>\n",
       "      <td>recommender_system_test</td>\n",
       "    </tr>\n",
       "    <tr>\n",
       "      <th>3</th>\n",
       "      <td>04988C5DF189632E</td>\n",
       "      <td>A</td>\n",
       "      <td>recommender_system_test</td>\n",
       "    </tr>\n",
       "    <tr>\n",
       "      <th>4</th>\n",
       "      <td>4FF2998A348C484F</td>\n",
       "      <td>A</td>\n",
       "      <td>recommender_system_test</td>\n",
       "    </tr>\n",
       "  </tbody>\n",
       "</table>\n",
       "</div>"
      ],
      "text/plain": [
       "            user_id group                  ab_test\n",
       "0  D1ABA3E2887B6A73     A  recommender_system_test\n",
       "1  A7A3664BD6242119     A  recommender_system_test\n",
       "2  DABC14FDDFADD29E     A  recommender_system_test\n",
       "3  04988C5DF189632E     A  recommender_system_test\n",
       "4  4FF2998A348C484F     A  recommender_system_test"
      ]
     },
     "execution_count": 5,
     "metadata": {},
     "output_type": "execute_result"
    },
    {
     "name": "stdout",
     "output_type": "stream",
     "text": [
      "<class 'pandas.core.frame.DataFrame'>\n",
      "RangeIndex: 14525 entries, 0 to 14524\n",
      "Data columns (total 3 columns):\n",
      " #   Column   Non-Null Count  Dtype \n",
      "---  ------   --------------  ----- \n",
      " 0   user_id  14525 non-null  object\n",
      " 1   group    14525 non-null  object\n",
      " 2   ab_test  14525 non-null  object\n",
      "dtypes: object(3)\n",
      "memory usage: 340.6+ KB\n"
     ]
    },
    {
     "data": {
      "text/plain": [
       "A    8214\n",
       "B    6311\n",
       "Name: group, dtype: int64"
      ]
     },
     "execution_count": 5,
     "metadata": {},
     "output_type": "execute_result"
    },
    {
     "data": {
      "text/plain": [
       "interface_eu_test          10850\n",
       "recommender_system_test     3675\n",
       "Name: ab_test, dtype: int64"
      ]
     },
     "execution_count": 5,
     "metadata": {},
     "output_type": "execute_result"
    }
   ],
   "source": [
    "print(\"MARKETING EVENTS:\")\n",
    "mark_eve.head()\n",
    "mark_eve.info()\n",
    "print(\"------------------------------------\")\n",
    "print()\n",
    "print(\"ALL USERS:\")\n",
    "all_users.head()\n",
    "all_users.info()\n",
    "all_users['region'].value_counts()\n",
    "all_users['device'].value_counts()\n",
    "\n",
    "print(\"------------------------------------\")\n",
    "print()\n",
    "print(\"EVENTS:\")\n",
    "events.head()\n",
    "events.info()\n",
    "events.event_name.value_counts()\n",
    "\n",
    "print(\"------------------------------------\")\n",
    "print()\n",
    "print(\"TEST GROUP USERS:\")\n",
    "test_grps.head()\n",
    "test_grps.info()\n",
    "test_grps.group.value_counts()\n",
    "test_grps.ab_test.value_counts()"
   ]
  },
  {
   "cell_type": "markdown",
   "id": "1c1e67d1",
   "metadata": {},
   "source": [
    "#### Issues that need attention:\n",
    "- *Marketing events*: In the relevant testing dates there is a Christmas & New Year Promo in the EU region. Although this marketing event will happen equally in both the A and B groups, it might still contaminate our research and limit our ability to generalize the results to beyond this context. Aside from that, the table doesn't seem to have other relevant info, and so I won't bother exploring it deeper than that.\n",
    "- *Users*: No missing values, but quite a lot of non-European regions to be dropped from the dataset. After doing so, I should check the device distribution again. \n",
    "- *Events*: The \"details\" variable has a very large amount of missing values. This is logical since it matches the number of users that acctually reached the purchase event (14.23% of users). The distribution of events hints to the funnel order, but it should be noted that the data still needs to be cleansed from non-EU users, and devided to the control and test groups.\n",
    "- *Test groups*: no missing values. However-The division to test groups doesn't seem to match the test names allocated to them. I should look into it and verify that there aren't users exposed to both groups.\n",
    "- data types of dates and time need to be converted.\n",
    "\n",
    "***To sum up***:\n",
    "I need to:\n",
    "- 1 Select only relevant region.\n",
    "- 2 Select only relevant date range\n",
    "- From test group table- select only users that meet these two conditions and appear in only one test-group (A or B), and that group and description match. \n",
    "- (Since A is so much larger than B, maybe an A/A test is manageable too..?)\n",
    "\n",
    "Looks like we will be left with much less users than originally expected...\n"
   ]
  },
  {
   "cell_type": "markdown",
   "id": "448216ae",
   "metadata": {},
   "source": [
    "## Cleaning up data:"
   ]
  },
  {
   "cell_type": "markdown",
   "id": "240babe1",
   "metadata": {},
   "source": [
    "### 1. Converting data types:"
   ]
  },
  {
   "cell_type": "code",
   "execution_count": 6,
   "id": "eb590bb2",
   "metadata": {},
   "outputs": [],
   "source": [
    "# Changing to datetime:\n",
    "mark_eve['start_dt'] =  pd.to_datetime(mark_eve['start_dt'], format='%Y-%m-%d') \n",
    "mark_eve['finish_dt'] =  pd.to_datetime(mark_eve['finish_dt'], format='%Y-%m-%d') \n",
    "all_users['first_date']= pd.to_datetime(all_users['first_date'], format='%Y-%m-%d') \n",
    "events['event_dt']= pd.to_datetime(events['event_dt'], format='%Y-%m-%d %H:%M:%S') \n",
    "\n",
    " "
   ]
  },
  {
   "cell_type": "code",
   "execution_count": 7,
   "id": "8ed828a7",
   "metadata": {},
   "outputs": [
    {
     "name": "stderr",
     "output_type": "stream",
     "text": [
      "C:\\Users\\USER\\AppData\\Local\\Temp/ipykernel_11148/252196223.py:2: FutureWarning: Treating datetime data as categorical rather than numeric in `.describe` is deprecated and will be removed in a future version of pandas. Specify `datetime_is_numeric=True` to silence this warning and adopt the future behavior now.\n",
      "  mark_eve.describe(include=\"all\").T\n"
     ]
    },
    {
     "data": {
      "text/html": [
       "<div>\n",
       "<style scoped>\n",
       "    .dataframe tbody tr th:only-of-type {\n",
       "        vertical-align: middle;\n",
       "    }\n",
       "\n",
       "    .dataframe tbody tr th {\n",
       "        vertical-align: top;\n",
       "    }\n",
       "\n",
       "    .dataframe thead th {\n",
       "        text-align: right;\n",
       "    }\n",
       "</style>\n",
       "<table border=\"1\" class=\"dataframe\">\n",
       "  <thead>\n",
       "    <tr style=\"text-align: right;\">\n",
       "      <th></th>\n",
       "      <th>count</th>\n",
       "      <th>unique</th>\n",
       "      <th>top</th>\n",
       "      <th>freq</th>\n",
       "      <th>first</th>\n",
       "      <th>last</th>\n",
       "    </tr>\n",
       "  </thead>\n",
       "  <tbody>\n",
       "    <tr>\n",
       "      <th>name</th>\n",
       "      <td>14</td>\n",
       "      <td>14</td>\n",
       "      <td>Christmas&amp;New Year Promo</td>\n",
       "      <td>1</td>\n",
       "      <td>NaT</td>\n",
       "      <td>NaT</td>\n",
       "    </tr>\n",
       "    <tr>\n",
       "      <th>regions</th>\n",
       "      <td>14</td>\n",
       "      <td>6</td>\n",
       "      <td>APAC</td>\n",
       "      <td>4</td>\n",
       "      <td>NaT</td>\n",
       "      <td>NaT</td>\n",
       "    </tr>\n",
       "    <tr>\n",
       "      <th>start_dt</th>\n",
       "      <td>14</td>\n",
       "      <td>14</td>\n",
       "      <td>2020-12-25 00:00:00</td>\n",
       "      <td>1</td>\n",
       "      <td>2020-01-25</td>\n",
       "      <td>2020-12-30</td>\n",
       "    </tr>\n",
       "    <tr>\n",
       "      <th>finish_dt</th>\n",
       "      <td>14</td>\n",
       "      <td>14</td>\n",
       "      <td>2021-01-03 00:00:00</td>\n",
       "      <td>1</td>\n",
       "      <td>2020-02-07</td>\n",
       "      <td>2021-01-07</td>\n",
       "    </tr>\n",
       "  </tbody>\n",
       "</table>\n",
       "</div>"
      ],
      "text/plain": [
       "          count unique                       top freq      first       last\n",
       "name         14     14  Christmas&New Year Promo    1        NaT        NaT\n",
       "regions      14      6                      APAC    4        NaT        NaT\n",
       "start_dt     14     14       2020-12-25 00:00:00    1 2020-01-25 2020-12-30\n",
       "finish_dt    14     14       2021-01-03 00:00:00    1 2020-02-07 2021-01-07"
      ]
     },
     "execution_count": 7,
     "metadata": {},
     "output_type": "execute_result"
    },
    {
     "name": "stderr",
     "output_type": "stream",
     "text": [
      "C:\\Users\\USER\\AppData\\Local\\Temp/ipykernel_11148/252196223.py:3: FutureWarning: Treating datetime data as categorical rather than numeric in `.describe` is deprecated and will be removed in a future version of pandas. Specify `datetime_is_numeric=True` to silence this warning and adopt the future behavior now.\n",
      "  all_users.describe(include=\"all\").T\n"
     ]
    },
    {
     "data": {
      "text/html": [
       "<div>\n",
       "<style scoped>\n",
       "    .dataframe tbody tr th:only-of-type {\n",
       "        vertical-align: middle;\n",
       "    }\n",
       "\n",
       "    .dataframe tbody tr th {\n",
       "        vertical-align: top;\n",
       "    }\n",
       "\n",
       "    .dataframe thead th {\n",
       "        text-align: right;\n",
       "    }\n",
       "</style>\n",
       "<table border=\"1\" class=\"dataframe\">\n",
       "  <thead>\n",
       "    <tr style=\"text-align: right;\">\n",
       "      <th></th>\n",
       "      <th>count</th>\n",
       "      <th>unique</th>\n",
       "      <th>top</th>\n",
       "      <th>freq</th>\n",
       "      <th>first</th>\n",
       "      <th>last</th>\n",
       "    </tr>\n",
       "  </thead>\n",
       "  <tbody>\n",
       "    <tr>\n",
       "      <th>user_id</th>\n",
       "      <td>58703</td>\n",
       "      <td>58703</td>\n",
       "      <td>D72A72121175D8BE</td>\n",
       "      <td>1</td>\n",
       "      <td>NaT</td>\n",
       "      <td>NaT</td>\n",
       "    </tr>\n",
       "    <tr>\n",
       "      <th>first_date</th>\n",
       "      <td>58703</td>\n",
       "      <td>17</td>\n",
       "      <td>2020-12-21 00:00:00</td>\n",
       "      <td>6077</td>\n",
       "      <td>2020-12-07</td>\n",
       "      <td>2020-12-23</td>\n",
       "    </tr>\n",
       "    <tr>\n",
       "      <th>region</th>\n",
       "      <td>58703</td>\n",
       "      <td>4</td>\n",
       "      <td>EU</td>\n",
       "      <td>43396</td>\n",
       "      <td>NaT</td>\n",
       "      <td>NaT</td>\n",
       "    </tr>\n",
       "    <tr>\n",
       "      <th>device</th>\n",
       "      <td>58703</td>\n",
       "      <td>4</td>\n",
       "      <td>Android</td>\n",
       "      <td>26159</td>\n",
       "      <td>NaT</td>\n",
       "      <td>NaT</td>\n",
       "    </tr>\n",
       "  </tbody>\n",
       "</table>\n",
       "</div>"
      ],
      "text/plain": [
       "            count unique                  top   freq      first       last\n",
       "user_id     58703  58703     D72A72121175D8BE      1        NaT        NaT\n",
       "first_date  58703     17  2020-12-21 00:00:00   6077 2020-12-07 2020-12-23\n",
       "region      58703      4                   EU  43396        NaT        NaT\n",
       "device      58703      4              Android  26159        NaT        NaT"
      ]
     },
     "execution_count": 7,
     "metadata": {},
     "output_type": "execute_result"
    },
    {
     "name": "stderr",
     "output_type": "stream",
     "text": [
      "C:\\Users\\USER\\AppData\\Local\\Temp/ipykernel_11148/252196223.py:4: FutureWarning: Treating datetime data as categorical rather than numeric in `.describe` is deprecated and will be removed in a future version of pandas. Specify `datetime_is_numeric=True` to silence this warning and adopt the future behavior now.\n",
      "  events.describe(include=\"all\").T\n"
     ]
    },
    {
     "data": {
      "text/html": [
       "<div>\n",
       "<style scoped>\n",
       "    .dataframe tbody tr th:only-of-type {\n",
       "        vertical-align: middle;\n",
       "    }\n",
       "\n",
       "    .dataframe tbody tr th {\n",
       "        vertical-align: top;\n",
       "    }\n",
       "\n",
       "    .dataframe thead th {\n",
       "        text-align: right;\n",
       "    }\n",
       "</style>\n",
       "<table border=\"1\" class=\"dataframe\">\n",
       "  <thead>\n",
       "    <tr style=\"text-align: right;\">\n",
       "      <th></th>\n",
       "      <th>count</th>\n",
       "      <th>unique</th>\n",
       "      <th>top</th>\n",
       "      <th>freq</th>\n",
       "      <th>first</th>\n",
       "      <th>last</th>\n",
       "      <th>mean</th>\n",
       "      <th>std</th>\n",
       "      <th>min</th>\n",
       "      <th>25%</th>\n",
       "      <th>50%</th>\n",
       "      <th>75%</th>\n",
       "      <th>max</th>\n",
       "    </tr>\n",
       "  </thead>\n",
       "  <tbody>\n",
       "    <tr>\n",
       "      <th>user_id</th>\n",
       "      <td>423761</td>\n",
       "      <td>58703</td>\n",
       "      <td>A3917F81482141F2</td>\n",
       "      <td>36</td>\n",
       "      <td>NaT</td>\n",
       "      <td>NaT</td>\n",
       "      <td>NaN</td>\n",
       "      <td>NaN</td>\n",
       "      <td>NaN</td>\n",
       "      <td>NaN</td>\n",
       "      <td>NaN</td>\n",
       "      <td>NaN</td>\n",
       "      <td>NaN</td>\n",
       "    </tr>\n",
       "    <tr>\n",
       "      <th>event_dt</th>\n",
       "      <td>423761</td>\n",
       "      <td>257138</td>\n",
       "      <td>2020-12-14 18:54:55</td>\n",
       "      <td>10</td>\n",
       "      <td>2020-12-07 00:00:33</td>\n",
       "      <td>2020-12-30 23:36:33</td>\n",
       "      <td>NaN</td>\n",
       "      <td>NaN</td>\n",
       "      <td>NaN</td>\n",
       "      <td>NaN</td>\n",
       "      <td>NaN</td>\n",
       "      <td>NaN</td>\n",
       "      <td>NaN</td>\n",
       "    </tr>\n",
       "    <tr>\n",
       "      <th>event_name</th>\n",
       "      <td>423761</td>\n",
       "      <td>4</td>\n",
       "      <td>login</td>\n",
       "      <td>182465</td>\n",
       "      <td>NaT</td>\n",
       "      <td>NaT</td>\n",
       "      <td>NaN</td>\n",
       "      <td>NaN</td>\n",
       "      <td>NaN</td>\n",
       "      <td>NaN</td>\n",
       "      <td>NaN</td>\n",
       "      <td>NaN</td>\n",
       "      <td>NaN</td>\n",
       "    </tr>\n",
       "    <tr>\n",
       "      <th>details</th>\n",
       "      <td>60314.0</td>\n",
       "      <td>NaN</td>\n",
       "      <td>NaN</td>\n",
       "      <td>NaN</td>\n",
       "      <td>NaT</td>\n",
       "      <td>NaT</td>\n",
       "      <td>23.881219</td>\n",
       "      <td>72.228884</td>\n",
       "      <td>4.99</td>\n",
       "      <td>4.99</td>\n",
       "      <td>4.99</td>\n",
       "      <td>9.99</td>\n",
       "      <td>499.99</td>\n",
       "    </tr>\n",
       "  </tbody>\n",
       "</table>\n",
       "</div>"
      ],
      "text/plain": [
       "              count  unique                  top    freq               first  \\\n",
       "user_id      423761   58703     A3917F81482141F2      36                 NaT   \n",
       "event_dt     423761  257138  2020-12-14 18:54:55      10 2020-12-07 00:00:33   \n",
       "event_name   423761       4                login  182465                 NaT   \n",
       "details     60314.0     NaN                  NaN     NaN                 NaT   \n",
       "\n",
       "                          last       mean        std   min   25%   50%   75%  \\\n",
       "user_id                    NaT        NaN        NaN   NaN   NaN   NaN   NaN   \n",
       "event_dt   2020-12-30 23:36:33        NaN        NaN   NaN   NaN   NaN   NaN   \n",
       "event_name                 NaT        NaN        NaN   NaN   NaN   NaN   NaN   \n",
       "details                    NaT  23.881219  72.228884  4.99  4.99  4.99  9.99   \n",
       "\n",
       "               max  \n",
       "user_id        NaN  \n",
       "event_dt       NaN  \n",
       "event_name     NaN  \n",
       "details     499.99  "
      ]
     },
     "execution_count": 7,
     "metadata": {},
     "output_type": "execute_result"
    },
    {
     "data": {
      "text/html": [
       "<div>\n",
       "<style scoped>\n",
       "    .dataframe tbody tr th:only-of-type {\n",
       "        vertical-align: middle;\n",
       "    }\n",
       "\n",
       "    .dataframe tbody tr th {\n",
       "        vertical-align: top;\n",
       "    }\n",
       "\n",
       "    .dataframe thead th {\n",
       "        text-align: right;\n",
       "    }\n",
       "</style>\n",
       "<table border=\"1\" class=\"dataframe\">\n",
       "  <thead>\n",
       "    <tr style=\"text-align: right;\">\n",
       "      <th></th>\n",
       "      <th>count</th>\n",
       "      <th>unique</th>\n",
       "      <th>top</th>\n",
       "      <th>freq</th>\n",
       "    </tr>\n",
       "  </thead>\n",
       "  <tbody>\n",
       "    <tr>\n",
       "      <th>user_id</th>\n",
       "      <td>14525</td>\n",
       "      <td>13638</td>\n",
       "      <td>307C06C0E6F09B93</td>\n",
       "      <td>2</td>\n",
       "    </tr>\n",
       "    <tr>\n",
       "      <th>group</th>\n",
       "      <td>14525</td>\n",
       "      <td>2</td>\n",
       "      <td>A</td>\n",
       "      <td>8214</td>\n",
       "    </tr>\n",
       "    <tr>\n",
       "      <th>ab_test</th>\n",
       "      <td>14525</td>\n",
       "      <td>2</td>\n",
       "      <td>interface_eu_test</td>\n",
       "      <td>10850</td>\n",
       "    </tr>\n",
       "  </tbody>\n",
       "</table>\n",
       "</div>"
      ],
      "text/plain": [
       "         count unique                top   freq\n",
       "user_id  14525  13638   307C06C0E6F09B93      2\n",
       "group    14525      2                  A   8214\n",
       "ab_test  14525      2  interface_eu_test  10850"
      ]
     },
     "execution_count": 7,
     "metadata": {},
     "output_type": "execute_result"
    }
   ],
   "source": [
    "# Looking into descriptive stat:\n",
    "mark_eve.describe(include=\"all\").T\n",
    "all_users.describe(include=\"all\").T\n",
    "events.describe(include=\"all\").T\n",
    "test_grps.describe(include=\"all\").T"
   ]
  },
  {
   "cell_type": "markdown",
   "id": "10f0d363",
   "metadata": {},
   "source": [
    "### 2. Checking for missing or duplicate values:\n",
    "(Missing- see \"Issues that need attention\" above."
   ]
  },
  {
   "cell_type": "code",
   "execution_count": 8,
   "id": "46a98738",
   "metadata": {},
   "outputs": [
    {
     "name": "stdout",
     "output_type": "stream",
     "text": [
      "all_users duplicates: 0\n",
      "events duplicates: 0\n",
      "test_grps duplicates: 0\n"
     ]
    }
   ],
   "source": [
    "# duplicates were not found:\n",
    "print(\"all_users duplicates:\", all_users.duplicated().sum())\n",
    "print(\"events duplicates:\", events.duplicated().sum())\n",
    "print(\"test_grps duplicates:\", test_grps.duplicated().sum())"
   ]
  },
  {
   "cell_type": "markdown",
   "id": "1b20958b",
   "metadata": {},
   "source": [
    "### 3. Select relevant region:"
   ]
  },
  {
   "cell_type": "code",
   "execution_count": 9,
   "id": "b46d38bd",
   "metadata": {},
   "outputs": [
    {
     "data": {
      "text/plain": [
       "array(['EU'], dtype=object)"
      ]
     },
     "execution_count": 9,
     "metadata": {},
     "output_type": "execute_result"
    }
   ],
   "source": [
    "# drop non-EU users from all_users dataset:\n",
    "all_users= all_users[all_users['region'] == \"EU\"]\n",
    "all_users.region.unique()\n",
    "all_users= all_users[['user_id', 'first_date', 'device']]"
   ]
  },
  {
   "cell_type": "code",
   "execution_count": 10,
   "id": "ada81b51",
   "metadata": {},
   "outputs": [],
   "source": [
    "# match the users on events dataset to the all_users dataset:\n",
    "user_ids= all_users['user_id'].unique()\n",
    "events= events[events['user_id'].isin(user_ids)]\n"
   ]
  },
  {
   "cell_type": "code",
   "execution_count": 11,
   "id": "a1f49907",
   "metadata": {},
   "outputs": [
    {
     "data": {
      "text/plain": [
       "43396"
      ]
     },
     "execution_count": 11,
     "metadata": {},
     "output_type": "execute_result"
    },
    {
     "data": {
      "text/plain": [
       "43396"
      ]
     },
     "execution_count": 11,
     "metadata": {},
     "output_type": "execute_result"
    }
   ],
   "source": [
    "#checking if it worked:\n",
    "all_users['user_id'].nunique()\n",
    "events['user_id'].nunique()"
   ]
  },
  {
   "cell_type": "markdown",
   "id": "8442500d",
   "metadata": {},
   "source": [
    "### 4. Select relevant date range :\n",
    "(First dates being between 7/12/20 to 21/12/21 and last dates being all the way till 1/1/21)"
   ]
  },
  {
   "cell_type": "code",
   "execution_count": 12,
   "id": "75119e59",
   "metadata": {},
   "outputs": [
    {
     "name": "stderr",
     "output_type": "stream",
     "text": [
      "C:\\Users\\USER\\AppData\\Local\\Temp/ipykernel_11148/87193444.py:2: FutureWarning: Boolean inputs to the `inclusive` argument are deprecated infavour of `both` or `neither`.\n",
      "  all_users= all_users.loc[all_users['first_date'].between('2020-12-07','2020-12-20', inclusive=True)]\n"
     ]
    },
    {
     "data": {
      "text/html": [
       "<div>\n",
       "<style scoped>\n",
       "    .dataframe tbody tr th:only-of-type {\n",
       "        vertical-align: middle;\n",
       "    }\n",
       "\n",
       "    .dataframe tbody tr th {\n",
       "        vertical-align: top;\n",
       "    }\n",
       "\n",
       "    .dataframe thead th {\n",
       "        text-align: right;\n",
       "    }\n",
       "</style>\n",
       "<table border=\"1\" class=\"dataframe\">\n",
       "  <thead>\n",
       "    <tr style=\"text-align: right;\">\n",
       "      <th></th>\n",
       "      <th>user_id</th>\n",
       "      <th>first_date</th>\n",
       "      <th>device</th>\n",
       "    </tr>\n",
       "  </thead>\n",
       "  <tbody>\n",
       "    <tr>\n",
       "      <th>0</th>\n",
       "      <td>D72A72121175D8BE</td>\n",
       "      <td>2020-12-07</td>\n",
       "      <td>PC</td>\n",
       "    </tr>\n",
       "    <tr>\n",
       "      <th>3525</th>\n",
       "      <td>C6435CD7B8A161E7</td>\n",
       "      <td>2020-12-07</td>\n",
       "      <td>Android</td>\n",
       "    </tr>\n",
       "    <tr>\n",
       "      <th>3526</th>\n",
       "      <td>93384A9D3598C56B</td>\n",
       "      <td>2020-12-07</td>\n",
       "      <td>iPhone</td>\n",
       "    </tr>\n",
       "    <tr>\n",
       "      <th>3528</th>\n",
       "      <td>F41040A15B0AC503</td>\n",
       "      <td>2020-12-07</td>\n",
       "      <td>PC</td>\n",
       "    </tr>\n",
       "    <tr>\n",
       "      <th>3529</th>\n",
       "      <td>B44FA1599E5095D7</td>\n",
       "      <td>2020-12-07</td>\n",
       "      <td>Android</td>\n",
       "    </tr>\n",
       "    <tr>\n",
       "      <th>...</th>\n",
       "      <td>...</td>\n",
       "      <td>...</td>\n",
       "      <td>...</td>\n",
       "    </tr>\n",
       "    <tr>\n",
       "      <th>55967</th>\n",
       "      <td>94441E066A630662</td>\n",
       "      <td>2020-12-20</td>\n",
       "      <td>PC</td>\n",
       "    </tr>\n",
       "    <tr>\n",
       "      <th>55968</th>\n",
       "      <td>A54406507F625E60</td>\n",
       "      <td>2020-12-20</td>\n",
       "      <td>iPhone</td>\n",
       "    </tr>\n",
       "    <tr>\n",
       "      <th>55969</th>\n",
       "      <td>9B8BD9BA28F84109</td>\n",
       "      <td>2020-12-20</td>\n",
       "      <td>iPhone</td>\n",
       "    </tr>\n",
       "    <tr>\n",
       "      <th>55874</th>\n",
       "      <td>F23C07704A9516BD</td>\n",
       "      <td>2020-12-20</td>\n",
       "      <td>Android</td>\n",
       "    </tr>\n",
       "    <tr>\n",
       "      <th>58702</th>\n",
       "      <td>8F04273BB2860229</td>\n",
       "      <td>2020-12-20</td>\n",
       "      <td>Android</td>\n",
       "    </tr>\n",
       "  </tbody>\n",
       "</table>\n",
       "<p>35018 rows × 3 columns</p>\n",
       "</div>"
      ],
      "text/plain": [
       "                user_id first_date   device\n",
       "0      D72A72121175D8BE 2020-12-07       PC\n",
       "3525   C6435CD7B8A161E7 2020-12-07  Android\n",
       "3526   93384A9D3598C56B 2020-12-07   iPhone\n",
       "3528   F41040A15B0AC503 2020-12-07       PC\n",
       "3529   B44FA1599E5095D7 2020-12-07  Android\n",
       "...                 ...        ...      ...\n",
       "55967  94441E066A630662 2020-12-20       PC\n",
       "55968  A54406507F625E60 2020-12-20   iPhone\n",
       "55969  9B8BD9BA28F84109 2020-12-20   iPhone\n",
       "55874  F23C07704A9516BD 2020-12-20  Android\n",
       "58702  8F04273BB2860229 2020-12-20  Android\n",
       "\n",
       "[35018 rows x 3 columns]"
      ]
     },
     "execution_count": 12,
     "metadata": {},
     "output_type": "execute_result"
    }
   ],
   "source": [
    "# all_users:\n",
    "all_users= all_users.loc[all_users['first_date'].between('2020-12-07','2020-12-20', inclusive=True)]\n",
    "all_users.sort_values(by= 'first_date')"
   ]
  },
  {
   "cell_type": "code",
   "execution_count": 13,
   "id": "bfdacf96",
   "metadata": {},
   "outputs": [
    {
     "name": "stderr",
     "output_type": "stream",
     "text": [
      "C:\\Users\\USER\\AppData\\Local\\Temp/ipykernel_11148/1199293439.py:2: FutureWarning: Boolean inputs to the `inclusive` argument are deprecated infavour of `both` or `neither`.\n",
      "  events= events.loc[events['event_dt'].between('2020-12-07 00:00:00','2021-01-01 00:00:00', inclusive=True)]\n"
     ]
    },
    {
     "data": {
      "text/html": [
       "<div>\n",
       "<style scoped>\n",
       "    .dataframe tbody tr th:only-of-type {\n",
       "        vertical-align: middle;\n",
       "    }\n",
       "\n",
       "    .dataframe tbody tr th {\n",
       "        vertical-align: top;\n",
       "    }\n",
       "\n",
       "    .dataframe thead th {\n",
       "        text-align: right;\n",
       "    }\n",
       "</style>\n",
       "<table border=\"1\" class=\"dataframe\">\n",
       "  <thead>\n",
       "    <tr style=\"text-align: right;\">\n",
       "      <th></th>\n",
       "      <th>user_id</th>\n",
       "      <th>event_dt</th>\n",
       "      <th>event_name</th>\n",
       "      <th>details</th>\n",
       "    </tr>\n",
       "  </thead>\n",
       "  <tbody>\n",
       "    <tr>\n",
       "      <th>756</th>\n",
       "      <td>EB2D1E4A76B38E24</td>\n",
       "      <td>2020-12-07 00:00:33</td>\n",
       "      <td>purchase</td>\n",
       "      <td>9.99</td>\n",
       "    </tr>\n",
       "    <tr>\n",
       "      <th>243582</th>\n",
       "      <td>EB2D1E4A76B38E24</td>\n",
       "      <td>2020-12-07 00:00:33</td>\n",
       "      <td>login</td>\n",
       "      <td>NaN</td>\n",
       "    </tr>\n",
       "    <tr>\n",
       "      <th>121935</th>\n",
       "      <td>EB2D1E4A76B38E24</td>\n",
       "      <td>2020-12-07 00:00:34</td>\n",
       "      <td>product_page</td>\n",
       "      <td>NaN</td>\n",
       "    </tr>\n",
       "    <tr>\n",
       "      <th>243463</th>\n",
       "      <td>821D82C2BB74CBB2</td>\n",
       "      <td>2020-12-07 00:00:35</td>\n",
       "      <td>login</td>\n",
       "      <td>NaN</td>\n",
       "    </tr>\n",
       "    <tr>\n",
       "      <th>121862</th>\n",
       "      <td>821D82C2BB74CBB2</td>\n",
       "      <td>2020-12-07 00:00:35</td>\n",
       "      <td>product_page</td>\n",
       "      <td>NaN</td>\n",
       "    </tr>\n",
       "    <tr>\n",
       "      <th>...</th>\n",
       "      <td>...</td>\n",
       "      <td>...</td>\n",
       "      <td>...</td>\n",
       "      <td>...</td>\n",
       "    </tr>\n",
       "    <tr>\n",
       "      <th>423734</th>\n",
       "      <td>F9452D9C3B463498</td>\n",
       "      <td>2020-12-30 20:41:37</td>\n",
       "      <td>login</td>\n",
       "      <td>NaN</td>\n",
       "    </tr>\n",
       "    <tr>\n",
       "      <th>60303</th>\n",
       "      <td>F9452D9C3B463498</td>\n",
       "      <td>2020-12-30 20:41:37</td>\n",
       "      <td>purchase</td>\n",
       "      <td>4.99</td>\n",
       "    </tr>\n",
       "    <tr>\n",
       "      <th>120420</th>\n",
       "      <td>F9452D9C3B463498</td>\n",
       "      <td>2020-12-30 20:41:40</td>\n",
       "      <td>product_cart</td>\n",
       "      <td>NaN</td>\n",
       "    </tr>\n",
       "    <tr>\n",
       "      <th>60306</th>\n",
       "      <td>CE065914C815ADF6</td>\n",
       "      <td>2020-12-30 23:02:44</td>\n",
       "      <td>purchase</td>\n",
       "      <td>9.99</td>\n",
       "    </tr>\n",
       "    <tr>\n",
       "      <th>423742</th>\n",
       "      <td>CE065914C815ADF6</td>\n",
       "      <td>2020-12-30 23:02:44</td>\n",
       "      <td>login</td>\n",
       "      <td>NaN</td>\n",
       "    </tr>\n",
       "  </tbody>\n",
       "</table>\n",
       "<p>314777 rows × 4 columns</p>\n",
       "</div>"
      ],
      "text/plain": [
       "                 user_id            event_dt    event_name  details\n",
       "756     EB2D1E4A76B38E24 2020-12-07 00:00:33      purchase     9.99\n",
       "243582  EB2D1E4A76B38E24 2020-12-07 00:00:33         login      NaN\n",
       "121935  EB2D1E4A76B38E24 2020-12-07 00:00:34  product_page      NaN\n",
       "243463  821D82C2BB74CBB2 2020-12-07 00:00:35         login      NaN\n",
       "121862  821D82C2BB74CBB2 2020-12-07 00:00:35  product_page      NaN\n",
       "...                  ...                 ...           ...      ...\n",
       "423734  F9452D9C3B463498 2020-12-30 20:41:37         login      NaN\n",
       "60303   F9452D9C3B463498 2020-12-30 20:41:37      purchase     4.99\n",
       "120420  F9452D9C3B463498 2020-12-30 20:41:40  product_cart      NaN\n",
       "60306   CE065914C815ADF6 2020-12-30 23:02:44      purchase     9.99\n",
       "423742  CE065914C815ADF6 2020-12-30 23:02:44         login      NaN\n",
       "\n",
       "[314777 rows x 4 columns]"
      ]
     },
     "execution_count": 13,
     "metadata": {},
     "output_type": "execute_result"
    }
   ],
   "source": [
    "# events: \n",
    "events= events.loc[events['event_dt'].between('2020-12-07 00:00:00','2021-01-01 00:00:00', inclusive=True)]\n",
    "events.sort_values(by= 'event_dt')\n"
   ]
  },
  {
   "cell_type": "code",
   "execution_count": 14,
   "id": "1396d0bb",
   "metadata": {},
   "outputs": [
    {
     "data": {
      "text/plain": [
       "35018"
      ]
     },
     "execution_count": 14,
     "metadata": {},
     "output_type": "execute_result"
    },
    {
     "data": {
      "text/plain": [
       "43396"
      ]
     },
     "execution_count": 14,
     "metadata": {},
     "output_type": "execute_result"
    }
   ],
   "source": [
    "# comparing the number of users:\n",
    "all_users['user_id'].nunique()\n",
    "events['user_id'].nunique()"
   ]
  },
  {
   "cell_type": "code",
   "execution_count": 15,
   "id": "c02397e0",
   "metadata": {},
   "outputs": [
    {
     "name": "stdout",
     "output_type": "stream",
     "text": [
      "<class 'pandas.core.frame.DataFrame'>\n",
      "Int64Index: 314777 entries, 0 to 314776\n",
      "Data columns (total 7 columns):\n",
      " #   Column      Non-Null Count   Dtype         \n",
      "---  ------      --------------   -----         \n",
      " 0   user_id     314777 non-null  object        \n",
      " 1   event_dt    314777 non-null  datetime64[ns]\n",
      " 2   event_name  314777 non-null  object        \n",
      " 3   details     46687 non-null   float64       \n",
      " 4   date        314777 non-null  object        \n",
      " 5   first_date  265216 non-null  datetime64[ns]\n",
      " 6   device      265216 non-null  object        \n",
      "dtypes: datetime64[ns](2), float64(1), object(4)\n",
      "memory usage: 19.2+ MB\n"
     ]
    }
   ],
   "source": [
    "# limiting data to 14 days per user, as requested:\n",
    "# 1. adding a simple date column, without hours:\n",
    "events['date']= events['event_dt'].dt.date\n",
    "\n",
    "#2. merging tables:\n",
    "user_events= events.merge(all_users, on='user_id', how= 'left')\n",
    "user_events.info()"
   ]
  },
  {
   "cell_type": "code",
   "execution_count": 16,
   "id": "698ed42e",
   "metadata": {},
   "outputs": [],
   "source": [
    "# changing data type of new column\n",
    "user_events['date']= pd.to_datetime(user_events['date'], format='%Y-%m-%d')"
   ]
  },
  {
   "cell_type": "code",
   "execution_count": 17,
   "id": "06696d64",
   "metadata": {},
   "outputs": [
    {
     "data": {
      "text/html": [
       "<div>\n",
       "<style scoped>\n",
       "    .dataframe tbody tr th:only-of-type {\n",
       "        vertical-align: middle;\n",
       "    }\n",
       "\n",
       "    .dataframe tbody tr th {\n",
       "        vertical-align: top;\n",
       "    }\n",
       "\n",
       "    .dataframe thead th {\n",
       "        text-align: right;\n",
       "    }\n",
       "</style>\n",
       "<table border=\"1\" class=\"dataframe\">\n",
       "  <thead>\n",
       "    <tr style=\"text-align: right;\">\n",
       "      <th></th>\n",
       "      <th>user_id</th>\n",
       "      <th>event_dt</th>\n",
       "      <th>event_name</th>\n",
       "      <th>details</th>\n",
       "      <th>date</th>\n",
       "      <th>first_date</th>\n",
       "      <th>device</th>\n",
       "      <th>time_range</th>\n",
       "    </tr>\n",
       "  </thead>\n",
       "  <tbody>\n",
       "    <tr>\n",
       "      <th>0</th>\n",
       "      <td>7B6452F081F49504</td>\n",
       "      <td>2020-12-07 09:22:53</td>\n",
       "      <td>purchase</td>\n",
       "      <td>9.99</td>\n",
       "      <td>2020-12-07</td>\n",
       "      <td>2020-12-07</td>\n",
       "      <td>iPhone</td>\n",
       "      <td>0.0</td>\n",
       "    </tr>\n",
       "    <tr>\n",
       "      <th>1</th>\n",
       "      <td>96F27A054B191457</td>\n",
       "      <td>2020-12-07 04:02:40</td>\n",
       "      <td>purchase</td>\n",
       "      <td>4.99</td>\n",
       "      <td>2020-12-07</td>\n",
       "      <td>2020-12-07</td>\n",
       "      <td>iPhone</td>\n",
       "      <td>0.0</td>\n",
       "    </tr>\n",
       "    <tr>\n",
       "      <th>2</th>\n",
       "      <td>1FD7660FDF94CA1F</td>\n",
       "      <td>2020-12-07 10:15:09</td>\n",
       "      <td>purchase</td>\n",
       "      <td>4.99</td>\n",
       "      <td>2020-12-07</td>\n",
       "      <td>2020-12-07</td>\n",
       "      <td>Android</td>\n",
       "      <td>0.0</td>\n",
       "    </tr>\n",
       "  </tbody>\n",
       "</table>\n",
       "</div>"
      ],
      "text/plain": [
       "            user_id            event_dt event_name  details       date  \\\n",
       "0  7B6452F081F49504 2020-12-07 09:22:53   purchase     9.99 2020-12-07   \n",
       "1  96F27A054B191457 2020-12-07 04:02:40   purchase     4.99 2020-12-07   \n",
       "2  1FD7660FDF94CA1F 2020-12-07 10:15:09   purchase     4.99 2020-12-07   \n",
       "\n",
       "  first_date   device  time_range  \n",
       "0 2020-12-07   iPhone         0.0  \n",
       "1 2020-12-07   iPhone         0.0  \n",
       "2 2020-12-07  Android         0.0  "
      ]
     },
     "execution_count": 17,
     "metadata": {},
     "output_type": "execute_result"
    }
   ],
   "source": [
    "# 3. calculating time range in days:\n",
    "user_events['time_range']= user_events['date'] - user_events['first_date']\n",
    "user_events['time_range']= user_events['time_range'].dt.days.astype('int', errors='ignore')\n",
    "user_events.head(3)"
   ]
  },
  {
   "cell_type": "code",
   "execution_count": 18,
   "id": "35e55009",
   "metadata": {},
   "outputs": [
    {
     "data": {
      "text/html": [
       "<div>\n",
       "<style scoped>\n",
       "    .dataframe tbody tr th:only-of-type {\n",
       "        vertical-align: middle;\n",
       "    }\n",
       "\n",
       "    .dataframe tbody tr th {\n",
       "        vertical-align: top;\n",
       "    }\n",
       "\n",
       "    .dataframe thead th {\n",
       "        text-align: right;\n",
       "    }\n",
       "</style>\n",
       "<table border=\"1\" class=\"dataframe\">\n",
       "  <thead>\n",
       "    <tr style=\"text-align: right;\">\n",
       "      <th></th>\n",
       "      <th>user_id</th>\n",
       "      <th>event_dt</th>\n",
       "      <th>event_name</th>\n",
       "      <th>details</th>\n",
       "      <th>date</th>\n",
       "      <th>first_date</th>\n",
       "      <th>device</th>\n",
       "      <th>time_range</th>\n",
       "    </tr>\n",
       "  </thead>\n",
       "  <tbody>\n",
       "    <tr>\n",
       "      <th>314776</th>\n",
       "      <td>7AEC61159B672CC5</td>\n",
       "      <td>2020-12-30 11:36:13</td>\n",
       "      <td>login</td>\n",
       "      <td>NaN</td>\n",
       "      <td>2020-12-30</td>\n",
       "      <td>2020-12-07</td>\n",
       "      <td>iPhone</td>\n",
       "      <td>23.0</td>\n",
       "    </tr>\n",
       "    <tr>\n",
       "      <th>91233</th>\n",
       "      <td>114953E781C03385</td>\n",
       "      <td>2020-12-30 19:45:10</td>\n",
       "      <td>product_cart</td>\n",
       "      <td>NaN</td>\n",
       "      <td>2020-12-30</td>\n",
       "      <td>2020-12-07</td>\n",
       "      <td>iPhone</td>\n",
       "      <td>23.0</td>\n",
       "    </tr>\n",
       "    <tr>\n",
       "      <th>46680</th>\n",
       "      <td>CE065914C815ADF6</td>\n",
       "      <td>2020-12-30 23:02:44</td>\n",
       "      <td>purchase</td>\n",
       "      <td>9.99</td>\n",
       "      <td>2020-12-30</td>\n",
       "      <td>2020-12-07</td>\n",
       "      <td>iPhone</td>\n",
       "      <td>23.0</td>\n",
       "    </tr>\n",
       "    <tr>\n",
       "      <th>46681</th>\n",
       "      <td>09B67269EB574925</td>\n",
       "      <td>2020-12-30 03:19:10</td>\n",
       "      <td>purchase</td>\n",
       "      <td>4.99</td>\n",
       "      <td>2020-12-30</td>\n",
       "      <td>2020-12-07</td>\n",
       "      <td>PC</td>\n",
       "      <td>23.0</td>\n",
       "    </tr>\n",
       "    <tr>\n",
       "      <th>46682</th>\n",
       "      <td>BA38083E4065AF28</td>\n",
       "      <td>2020-12-30 01:43:39</td>\n",
       "      <td>purchase</td>\n",
       "      <td>99.99</td>\n",
       "      <td>2020-12-30</td>\n",
       "      <td>2020-12-07</td>\n",
       "      <td>Mac</td>\n",
       "      <td>23.0</td>\n",
       "    </tr>\n",
       "  </tbody>\n",
       "</table>\n",
       "</div>"
      ],
      "text/plain": [
       "                 user_id            event_dt    event_name  details  \\\n",
       "314776  7AEC61159B672CC5 2020-12-30 11:36:13         login      NaN   \n",
       "91233   114953E781C03385 2020-12-30 19:45:10  product_cart      NaN   \n",
       "46680   CE065914C815ADF6 2020-12-30 23:02:44      purchase     9.99   \n",
       "46681   09B67269EB574925 2020-12-30 03:19:10      purchase     4.99   \n",
       "46682   BA38083E4065AF28 2020-12-30 01:43:39      purchase    99.99   \n",
       "\n",
       "             date first_date  device  time_range  \n",
       "314776 2020-12-30 2020-12-07  iPhone        23.0  \n",
       "91233  2020-12-30 2020-12-07  iPhone        23.0  \n",
       "46680  2020-12-30 2020-12-07  iPhone        23.0  \n",
       "46681  2020-12-30 2020-12-07      PC        23.0  \n",
       "46682  2020-12-30 2020-12-07     Mac        23.0  "
      ]
     },
     "execution_count": 18,
     "metadata": {},
     "output_type": "execute_result"
    },
    {
     "name": "stdout",
     "output_type": "stream",
     "text": [
      "There are 10063 rows with a too long time range.\n"
     ]
    }
   ],
   "source": [
    "# calculating the number of rows in which experiment lasted more than 14 days:\n",
    "more14= user_events[user_events['time_range'] > 14]\n",
    "more14.sort_values(by='time_range', ascending= False).head()\n",
    "print(\"There are {} rows with a too long time range.\".format(len(more14)))"
   ]
  },
  {
   "cell_type": "code",
   "execution_count": 19,
   "id": "01868f7b",
   "metadata": {},
   "outputs": [],
   "source": [
    "# dropping these rows:\n",
    "user_events= user_events[user_events['time_range'] <= 14]\n"
   ]
  },
  {
   "cell_type": "code",
   "execution_count": 20,
   "id": "9bcc47a6",
   "metadata": {},
   "outputs": [
    {
     "data": {
      "text/plain": [
       "35018"
      ]
     },
     "execution_count": 20,
     "metadata": {},
     "output_type": "execute_result"
    },
    {
     "data": {
      "text/plain": [
       "43396"
      ]
     },
     "execution_count": 20,
     "metadata": {},
     "output_type": "execute_result"
    },
    {
     "data": {
      "text/plain": [
       "35013"
      ]
     },
     "execution_count": 20,
     "metadata": {},
     "output_type": "execute_result"
    }
   ],
   "source": [
    "# comparing the number of users:\n",
    "all_users['user_id'].nunique()\n",
    "events['user_id'].nunique()\n",
    "user_events['user_id'].nunique()"
   ]
  },
  {
   "cell_type": "markdown",
   "id": "e087b9c0",
   "metadata": {},
   "source": [
    "### 5.  Preparing the test_grps table:"
   ]
  },
  {
   "cell_type": "code",
   "execution_count": 21,
   "id": "b064b9ca",
   "metadata": {},
   "outputs": [],
   "source": [
    "# dropping non-EU user:\n",
    "test_grps= test_grps[test_grps['user_id'].isin(user_ids)]"
   ]
  },
  {
   "cell_type": "code",
   "execution_count": 22,
   "id": "285196e9",
   "metadata": {},
   "outputs": [
    {
     "data": {
      "text/plain": [
       "interface_eu_test          0.7571\n",
       "recommender_system_test    0.2429\n",
       "Name: ab_test, dtype: float64"
      ]
     },
     "execution_count": 22,
     "metadata": {},
     "output_type": "execute_result"
    }
   ],
   "source": [
    "# choosing the relevant test name for this project (recommender_system_test):\n",
    "# 1. looking into the proportion of the tests\n",
    "\n",
    "test_grps.ab_test.value_counts(normalize=True)"
   ]
  },
  {
   "cell_type": "code",
   "execution_count": 23,
   "id": "1fd2ac17",
   "metadata": {},
   "outputs": [],
   "source": [
    "# 2. checking if users in groups A and B are \"contaminated\" (participated in both tests). If they were, we cannot know for sure \n",
    "# which test affected the results. Therefore, it would be best to not include them in our final sample.\n",
    "# GROUP A:\n",
    "grpA= test_grps[test_grps['group'] == 'A']\n",
    "tes1= grpA[grpA['ab_test'] == \"recommender_system_test\"]['user_id']\n",
    "tes2=grpA[grpA['ab_test'] == \"interface_eu_test\"]['user_id']\n"
   ]
  },
  {
   "cell_type": "code",
   "execution_count": 24,
   "id": "600e3104",
   "metadata": {},
   "outputs": [
    {
     "data": {
      "text/plain": [
       "340"
      ]
     },
     "execution_count": 24,
     "metadata": {},
     "output_type": "execute_result"
    }
   ],
   "source": [
    "# searching for intersect of users participating in both tests:\n",
    "com = np.intersect1d(tes1, tes2)\n",
    "howmany_com = len(com)\n",
    "howmany_com"
   ]
  },
  {
   "cell_type": "code",
   "execution_count": 25,
   "id": "c75b008d",
   "metadata": {},
   "outputs": [],
   "source": [
    "# GROUP B:\n",
    "grpB= test_grps[test_grps['group'] == 'B']\n",
    "test1= grpB[grpB['ab_test'] == \"recommender_system_test\"]['user_id']\n",
    "test2=grpB[grpB['ab_test'] == \"interface_eu_test\"]['user_id']"
   ]
  },
  {
   "cell_type": "code",
   "execution_count": 26,
   "id": "ac1be18c",
   "metadata": {},
   "outputs": [
    {
     "data": {
      "text/plain": [
       "106"
      ]
     },
     "execution_count": 26,
     "metadata": {},
     "output_type": "execute_result"
    }
   ],
   "source": [
    "# searching for intersect of user participating in both tests:\n",
    "common = np.intersect1d(test1, test2)\n",
    "howmany_common = len(common)\n",
    "howmany_common"
   ]
  },
  {
   "cell_type": "markdown",
   "id": "88f7d1f7",
   "metadata": {},
   "source": [
    "As can be seen, for both groups A and B there is a large number of users that participated in both tests.\n",
    "We don't know the influence of the \"interface\" test, or if there may be an interaction between the two tests and a joint effect.\n",
    "It seems that the in order to stay on the safe side, especially with this messy sample, we should only stay with users that did not participate in the \"interface\" test at all."
   ]
  },
  {
   "cell_type": "code",
   "execution_count": 27,
   "id": "c7735b23",
   "metadata": {},
   "outputs": [],
   "source": [
    "# filtering out these users\n",
    "test_grps = test_grps[~test_grps['user_id'].isin(com)]\n",
    "test_grps = test_grps[~test_grps['user_id'].isin(common)]"
   ]
  },
  {
   "cell_type": "code",
   "execution_count": 28,
   "id": "64ae74bc",
   "metadata": {},
   "outputs": [
    {
     "data": {
      "text/plain": [
       "recommender_system_test    3035\n",
       "Name: ab_test, dtype: int64"
      ]
     },
     "execution_count": 28,
     "metadata": {},
     "output_type": "execute_result"
    }
   ],
   "source": [
    "# 3. filtering out the irrelevant test as well:\n",
    "test_grps= test_grps[test_grps['ab_test'] == \"recommender_system_test\"]\n",
    "test_grps.ab_test.value_counts()\n",
    "test_grps= test_grps[['user_id','group']]"
   ]
  },
  {
   "cell_type": "code",
   "execution_count": 29,
   "id": "cd911c12",
   "metadata": {},
   "outputs": [],
   "source": [
    "# checking if the group assignment is exhaustive and exclusive:\n",
    "# 1. creating two lists\n",
    "usersA = test_grps[test_grps['group'] == 'A']['user_id']\n",
    "usersB= test_grps[test_grps['group'] == 'B']['user_id']"
   ]
  },
  {
   "cell_type": "code",
   "execution_count": 30,
   "id": "405dc0c6",
   "metadata": {},
   "outputs": [
    {
     "data": {
      "text/plain": [
       "array([], dtype=object)"
      ]
     },
     "execution_count": 30,
     "metadata": {},
     "output_type": "execute_result"
    }
   ],
   "source": [
    "# 2. finding common elements to the two groups: (none)\n",
    "common_elements = np.intersect1d(usersA, usersB)\n",
    "common_elements"
   ]
  },
  {
   "cell_type": "markdown",
   "id": "f479597c",
   "metadata": {},
   "source": [
    "### 6. Re-adjusting the user_ids in the other tables:"
   ]
  },
  {
   "cell_type": "code",
   "execution_count": 31,
   "id": "7b97bb8b",
   "metadata": {},
   "outputs": [
    {
     "data": {
      "text/plain": [
       "array(['D1ABA3E2887B6A73', 'A7A3664BD6242119', '4FF2998A348C484F', ...,\n",
       "       'E26F13A65CEAC6EA', '95401934D6D6D4FC', '80712ED4EA1B52A5'],\n",
       "      dtype=object)"
      ]
     },
     "execution_count": 31,
     "metadata": {},
     "output_type": "execute_result"
    }
   ],
   "source": [
    "# subsetting a list of final user_ids:\n",
    "final_ids= test_grps['user_id'].unique()\n",
    "final_ids"
   ]
  },
  {
   "cell_type": "code",
   "execution_count": 32,
   "id": "737a6cd0",
   "metadata": {},
   "outputs": [
    {
     "data": {
      "text/plain": [
       "3035"
      ]
     },
     "execution_count": 32,
     "metadata": {},
     "output_type": "execute_result"
    }
   ],
   "source": [
    "len(final_ids)"
   ]
  },
  {
   "cell_type": "code",
   "execution_count": 33,
   "id": "6e354346",
   "metadata": {},
   "outputs": [],
   "source": [
    "# using this list as a filter on the 2 other tables:\n",
    "all_users= all_users[all_users['user_id'].isin(final_ids)]\n",
    "events= events[events['user_id'].isin(final_ids)]"
   ]
  },
  {
   "cell_type": "code",
   "execution_count": 34,
   "id": "9e52b517",
   "metadata": {},
   "outputs": [
    {
     "data": {
      "text/plain": [
       "2619"
      ]
     },
     "execution_count": 34,
     "metadata": {},
     "output_type": "execute_result"
    },
    {
     "data": {
      "text/plain": [
       "3035"
      ]
     },
     "execution_count": 34,
     "metadata": {},
     "output_type": "execute_result"
    },
    {
     "data": {
      "text/plain": [
       "3035"
      ]
     },
     "execution_count": 34,
     "metadata": {},
     "output_type": "execute_result"
    }
   ],
   "source": [
    "# re-checking:\n",
    "all_users['user_id'].nunique()\n",
    "events['user_id'].nunique()\n",
    "test_grps['user_id'].nunique()"
   ]
  },
  {
   "cell_type": "code",
   "execution_count": 35,
   "id": "073491d1",
   "metadata": {},
   "outputs": [
    {
     "data": {
      "text/plain": [
       "6509.4"
      ]
     },
     "execution_count": 35,
     "metadata": {},
     "output_type": "execute_result"
    }
   ],
   "source": [
    "# calculating 15% of the original amount of EU new users: (more than double what we ended up with)\n",
    "fifteen = (15*43396)/100\n",
    "fifteen"
   ]
  },
  {
   "cell_type": "markdown",
   "id": "2285afac",
   "metadata": {},
   "source": [
    "#### A summary of the preprocessing stage:\n",
    "Preprocessing included a few stages:\n",
    "1. Converting date and time variables to the right data type.\n",
    "2. Checking for missing values and duplicates (no duplicated, and no missing values).\n",
    "3. Filtering out data that did not match requirements: wrong regions, wrong date-range, wrong test.\n",
    "- filtering out the wrong test required a few stages, in which users from both groups (A and B) that participated in both tests were identified and filtered out as well. Also, filtering the wrong dates included removal of users that joined the site more than 14 days ago.\n",
    "4. After doing so, we did not find any users that were exposed to both test groups.\n",
    "5. We ended up with a much smaller sample than expected: 3035 users (2619 of which registered in the first two weeks). "
   ]
  },
  {
   "cell_type": "markdown",
   "id": "0c8e026b",
   "metadata": {},
   "source": [
    "## Exploratory data analysis:\n",
    "Study conversion at different stages of the funnel.\n",
    "Is the number of events per user distributed equally among the samples?\n",
    "Are there users who are present in both samples?\n",
    "How is the number of events distributed among days?\n",
    "Are there any peculiarities in the data that you have to take into account before starting the A/B test?"
   ]
  },
  {
   "cell_type": "code",
   "execution_count": 36,
   "id": "a232ec02",
   "metadata": {},
   "outputs": [
    {
     "data": {
      "text/html": [
       "<div>\n",
       "<style scoped>\n",
       "    .dataframe tbody tr th:only-of-type {\n",
       "        vertical-align: middle;\n",
       "    }\n",
       "\n",
       "    .dataframe tbody tr th {\n",
       "        vertical-align: top;\n",
       "    }\n",
       "\n",
       "    .dataframe thead th {\n",
       "        text-align: right;\n",
       "    }\n",
       "</style>\n",
       "<table border=\"1\" class=\"dataframe\">\n",
       "  <thead>\n",
       "    <tr style=\"text-align: right;\">\n",
       "      <th></th>\n",
       "      <th>user_id</th>\n",
       "      <th>first_date</th>\n",
       "      <th>device</th>\n",
       "    </tr>\n",
       "  </thead>\n",
       "  <tbody>\n",
       "    <tr>\n",
       "      <th>0</th>\n",
       "      <td>D72A72121175D8BE</td>\n",
       "      <td>2020-12-07</td>\n",
       "      <td>PC</td>\n",
       "    </tr>\n",
       "    <tr>\n",
       "      <th>19</th>\n",
       "      <td>DD4352CDCF8C3D57</td>\n",
       "      <td>2020-12-07</td>\n",
       "      <td>Android</td>\n",
       "    </tr>\n",
       "  </tbody>\n",
       "</table>\n",
       "</div>"
      ],
      "text/plain": [
       "             user_id first_date   device\n",
       "0   D72A72121175D8BE 2020-12-07       PC\n",
       "19  DD4352CDCF8C3D57 2020-12-07  Android"
      ]
     },
     "execution_count": 36,
     "metadata": {},
     "output_type": "execute_result"
    },
    {
     "data": {
      "text/html": [
       "<div>\n",
       "<style scoped>\n",
       "    .dataframe tbody tr th:only-of-type {\n",
       "        vertical-align: middle;\n",
       "    }\n",
       "\n",
       "    .dataframe tbody tr th {\n",
       "        vertical-align: top;\n",
       "    }\n",
       "\n",
       "    .dataframe thead th {\n",
       "        text-align: right;\n",
       "    }\n",
       "</style>\n",
       "<table border=\"1\" class=\"dataframe\">\n",
       "  <thead>\n",
       "    <tr style=\"text-align: right;\">\n",
       "      <th></th>\n",
       "      <th>user_id</th>\n",
       "      <th>event_dt</th>\n",
       "      <th>event_name</th>\n",
       "      <th>details</th>\n",
       "      <th>date</th>\n",
       "    </tr>\n",
       "  </thead>\n",
       "  <tbody>\n",
       "    <tr>\n",
       "      <th>5</th>\n",
       "      <td>831887FE7F2D6CBA</td>\n",
       "      <td>2020-12-07 06:50:29</td>\n",
       "      <td>purchase</td>\n",
       "      <td>4.99</td>\n",
       "      <td>2020-12-07</td>\n",
       "    </tr>\n",
       "    <tr>\n",
       "      <th>17</th>\n",
       "      <td>3C5DD0288AC4FE23</td>\n",
       "      <td>2020-12-07 19:42:40</td>\n",
       "      <td>purchase</td>\n",
       "      <td>4.99</td>\n",
       "      <td>2020-12-07</td>\n",
       "    </tr>\n",
       "  </tbody>\n",
       "</table>\n",
       "</div>"
      ],
      "text/plain": [
       "             user_id            event_dt event_name  details        date\n",
       "5   831887FE7F2D6CBA 2020-12-07 06:50:29   purchase     4.99  2020-12-07\n",
       "17  3C5DD0288AC4FE23 2020-12-07 19:42:40   purchase     4.99  2020-12-07"
      ]
     },
     "execution_count": 36,
     "metadata": {},
     "output_type": "execute_result"
    },
    {
     "data": {
      "text/html": [
       "<div>\n",
       "<style scoped>\n",
       "    .dataframe tbody tr th:only-of-type {\n",
       "        vertical-align: middle;\n",
       "    }\n",
       "\n",
       "    .dataframe tbody tr th {\n",
       "        vertical-align: top;\n",
       "    }\n",
       "\n",
       "    .dataframe thead th {\n",
       "        text-align: right;\n",
       "    }\n",
       "</style>\n",
       "<table border=\"1\" class=\"dataframe\">\n",
       "  <thead>\n",
       "    <tr style=\"text-align: right;\">\n",
       "      <th></th>\n",
       "      <th>user_id</th>\n",
       "      <th>group</th>\n",
       "    </tr>\n",
       "  </thead>\n",
       "  <tbody>\n",
       "    <tr>\n",
       "      <th>0</th>\n",
       "      <td>D1ABA3E2887B6A73</td>\n",
       "      <td>A</td>\n",
       "    </tr>\n",
       "    <tr>\n",
       "      <th>1</th>\n",
       "      <td>A7A3664BD6242119</td>\n",
       "      <td>A</td>\n",
       "    </tr>\n",
       "  </tbody>\n",
       "</table>\n",
       "</div>"
      ],
      "text/plain": [
       "            user_id group\n",
       "0  D1ABA3E2887B6A73     A\n",
       "1  A7A3664BD6242119     A"
      ]
     },
     "execution_count": 36,
     "metadata": {},
     "output_type": "execute_result"
    }
   ],
   "source": [
    "# (just a reminder for me...)\n",
    "all_users.head(2)\n",
    "events.head(2)\n",
    "test_grps.head(2)"
   ]
  },
  {
   "cell_type": "markdown",
   "id": "54472ab8",
   "metadata": {},
   "source": [
    "### Study conversion at different stages of the funnel"
   ]
  },
  {
   "cell_type": "code",
   "execution_count": 37,
   "id": "43ccb0e7",
   "metadata": {},
   "outputs": [
    {
     "data": {
      "text/html": [
       "<div>\n",
       "<style scoped>\n",
       "    .dataframe tbody tr th:only-of-type {\n",
       "        vertical-align: middle;\n",
       "    }\n",
       "\n",
       "    .dataframe tbody tr th {\n",
       "        vertical-align: top;\n",
       "    }\n",
       "\n",
       "    .dataframe thead th {\n",
       "        text-align: right;\n",
       "    }\n",
       "</style>\n",
       "<table border=\"1\" class=\"dataframe\">\n",
       "  <thead>\n",
       "    <tr style=\"text-align: right;\">\n",
       "      <th></th>\n",
       "      <th>user_id</th>\n",
       "      <th>event_dt</th>\n",
       "      <th>event_name</th>\n",
       "      <th>details</th>\n",
       "      <th>date</th>\n",
       "      <th>group</th>\n",
       "    </tr>\n",
       "  </thead>\n",
       "  <tbody>\n",
       "    <tr>\n",
       "      <th>0</th>\n",
       "      <td>831887FE7F2D6CBA</td>\n",
       "      <td>2020-12-07 06:50:29</td>\n",
       "      <td>purchase</td>\n",
       "      <td>4.99</td>\n",
       "      <td>2020-12-07</td>\n",
       "      <td>A</td>\n",
       "    </tr>\n",
       "    <tr>\n",
       "      <th>1</th>\n",
       "      <td>3C5DD0288AC4FE23</td>\n",
       "      <td>2020-12-07 19:42:40</td>\n",
       "      <td>purchase</td>\n",
       "      <td>4.99</td>\n",
       "      <td>2020-12-07</td>\n",
       "      <td>A</td>\n",
       "    </tr>\n",
       "    <tr>\n",
       "      <th>2</th>\n",
       "      <td>49EA242586C87836</td>\n",
       "      <td>2020-12-07 06:31:24</td>\n",
       "      <td>purchase</td>\n",
       "      <td>99.99</td>\n",
       "      <td>2020-12-07</td>\n",
       "      <td>B</td>\n",
       "    </tr>\n",
       "    <tr>\n",
       "      <th>3</th>\n",
       "      <td>A640F31CAC7823A6</td>\n",
       "      <td>2020-12-07 18:48:26</td>\n",
       "      <td>purchase</td>\n",
       "      <td>4.99</td>\n",
       "      <td>2020-12-07</td>\n",
       "      <td>B</td>\n",
       "    </tr>\n",
       "    <tr>\n",
       "      <th>4</th>\n",
       "      <td>2F46396B6766CFDB</td>\n",
       "      <td>2020-12-07 13:29:30</td>\n",
       "      <td>purchase</td>\n",
       "      <td>4.99</td>\n",
       "      <td>2020-12-07</td>\n",
       "      <td>A</td>\n",
       "    </tr>\n",
       "  </tbody>\n",
       "</table>\n",
       "</div>"
      ],
      "text/plain": [
       "            user_id            event_dt event_name  details        date group\n",
       "0  831887FE7F2D6CBA 2020-12-07 06:50:29   purchase     4.99  2020-12-07     A\n",
       "1  3C5DD0288AC4FE23 2020-12-07 19:42:40   purchase     4.99  2020-12-07     A\n",
       "2  49EA242586C87836 2020-12-07 06:31:24   purchase    99.99  2020-12-07     B\n",
       "3  A640F31CAC7823A6 2020-12-07 18:48:26   purchase     4.99  2020-12-07     B\n",
       "4  2F46396B6766CFDB 2020-12-07 13:29:30   purchase     4.99  2020-12-07     A"
      ]
     },
     "execution_count": 37,
     "metadata": {},
     "output_type": "execute_result"
    }
   ],
   "source": [
    "# merging events with groups:\n",
    "events_grp = events.merge(test_grps, on='user_id', how='left')\n",
    "\n",
    "events_grp.head()"
   ]
  },
  {
   "cell_type": "code",
   "execution_count": 38,
   "id": "c79a7b97",
   "metadata": {},
   "outputs": [],
   "source": [
    "# subsetting to two groups:\n",
    "grp_A= events_grp[events_grp['group'] == \"A\"]\n",
    "grp_B= events_grp[events_grp['group'] == \"B\"]\n"
   ]
  },
  {
   "cell_type": "code",
   "execution_count": 39,
   "id": "c78909f3",
   "metadata": {},
   "outputs": [
    {
     "name": "stdout",
     "output_type": "stream",
     "text": [
      "Funnel A:\n"
     ]
    },
    {
     "data": {
      "text/html": [
       "<div>\n",
       "<style scoped>\n",
       "    .dataframe tbody tr th:only-of-type {\n",
       "        vertical-align: middle;\n",
       "    }\n",
       "\n",
       "    .dataframe tbody tr th {\n",
       "        vertical-align: top;\n",
       "    }\n",
       "\n",
       "    .dataframe thead th {\n",
       "        text-align: right;\n",
       "    }\n",
       "</style>\n",
       "<table border=\"1\" class=\"dataframe\">\n",
       "  <thead>\n",
       "    <tr style=\"text-align: right;\">\n",
       "      <th></th>\n",
       "      <th>event_name</th>\n",
       "      <th>users_count</th>\n",
       "    </tr>\n",
       "  </thead>\n",
       "  <tbody>\n",
       "    <tr>\n",
       "      <th>0</th>\n",
       "      <td>login</td>\n",
       "      <td>2264</td>\n",
       "    </tr>\n",
       "    <tr>\n",
       "      <th>2</th>\n",
       "      <td>product_page</td>\n",
       "      <td>1474</td>\n",
       "    </tr>\n",
       "    <tr>\n",
       "      <th>1</th>\n",
       "      <td>product_cart</td>\n",
       "      <td>685</td>\n",
       "    </tr>\n",
       "    <tr>\n",
       "      <th>3</th>\n",
       "      <td>purchase</td>\n",
       "      <td>712</td>\n",
       "    </tr>\n",
       "  </tbody>\n",
       "</table>\n",
       "</div>"
      ],
      "text/plain": [
       "     event_name  users_count\n",
       "0         login         2264\n",
       "2  product_page         1474\n",
       "1  product_cart          685\n",
       "3      purchase          712"
      ]
     },
     "execution_count": 39,
     "metadata": {},
     "output_type": "execute_result"
    }
   ],
   "source": [
    "# GROUP A:\n",
    "\n",
    "funnelA= grp_A.groupby('event_name')['user_id'].nunique().reset_index()\n",
    "funnelA= funnelA.rename(columns={\"user_id\": \"users_count\"})\n",
    "\n",
    "# reordering by funnel order:\n",
    "funnelA= funnelA.reindex([0, 2, 1, 3])\n",
    "print(\"Funnel A:\")\n",
    "funnelA\n"
   ]
  },
  {
   "cell_type": "code",
   "execution_count": 40,
   "id": "93294b64",
   "metadata": {},
   "outputs": [
    {
     "data": {
      "text/html": [
       "<div>\n",
       "<style scoped>\n",
       "    .dataframe tbody tr th:only-of-type {\n",
       "        vertical-align: middle;\n",
       "    }\n",
       "\n",
       "    .dataframe tbody tr th {\n",
       "        vertical-align: top;\n",
       "    }\n",
       "\n",
       "    .dataframe thead th {\n",
       "        text-align: right;\n",
       "    }\n",
       "</style>\n",
       "<table border=\"1\" class=\"dataframe\">\n",
       "  <thead>\n",
       "    <tr style=\"text-align: right;\">\n",
       "      <th></th>\n",
       "      <th>event_name</th>\n",
       "      <th>users_count</th>\n",
       "      <th>CR, %</th>\n",
       "    </tr>\n",
       "  </thead>\n",
       "  <tbody>\n",
       "    <tr>\n",
       "      <th>0</th>\n",
       "      <td>login</td>\n",
       "      <td>2264</td>\n",
       "      <td>100.000000</td>\n",
       "    </tr>\n",
       "    <tr>\n",
       "      <th>2</th>\n",
       "      <td>product_page</td>\n",
       "      <td>1474</td>\n",
       "      <td>65.106007</td>\n",
       "    </tr>\n",
       "    <tr>\n",
       "      <th>1</th>\n",
       "      <td>product_cart</td>\n",
       "      <td>685</td>\n",
       "      <td>30.256184</td>\n",
       "    </tr>\n",
       "    <tr>\n",
       "      <th>3</th>\n",
       "      <td>purchase</td>\n",
       "      <td>712</td>\n",
       "      <td>31.448763</td>\n",
       "    </tr>\n",
       "  </tbody>\n",
       "</table>\n",
       "</div>"
      ],
      "text/plain": [
       "     event_name  users_count       CR, %\n",
       "0         login         2264  100.000000\n",
       "2  product_page         1474   65.106007\n",
       "1  product_cart          685   30.256184\n",
       "3      purchase          712   31.448763"
      ]
     },
     "execution_count": 40,
     "metadata": {},
     "output_type": "execute_result"
    }
   ],
   "source": [
    "base= funnelA.iloc[0]['users_count']\n",
    "funnelA['CR, %']= (funnelA['users_count']/ base) * 100\n",
    "funnelA"
   ]
  },
  {
   "cell_type": "code",
   "execution_count": 41,
   "id": "a7d2ab0c",
   "metadata": {},
   "outputs": [
    {
     "name": "stdout",
     "output_type": "stream",
     "text": [
      "Funnel B:\n"
     ]
    },
    {
     "data": {
      "text/html": [
       "<div>\n",
       "<style scoped>\n",
       "    .dataframe tbody tr th:only-of-type {\n",
       "        vertical-align: middle;\n",
       "    }\n",
       "\n",
       "    .dataframe tbody tr th {\n",
       "        vertical-align: top;\n",
       "    }\n",
       "\n",
       "    .dataframe thead th {\n",
       "        text-align: right;\n",
       "    }\n",
       "</style>\n",
       "<table border=\"1\" class=\"dataframe\">\n",
       "  <thead>\n",
       "    <tr style=\"text-align: right;\">\n",
       "      <th></th>\n",
       "      <th>event_name</th>\n",
       "      <th>users_count</th>\n",
       "    </tr>\n",
       "  </thead>\n",
       "  <tbody>\n",
       "    <tr>\n",
       "      <th>0</th>\n",
       "      <td>login</td>\n",
       "      <td>770</td>\n",
       "    </tr>\n",
       "    <tr>\n",
       "      <th>2</th>\n",
       "      <td>product_page</td>\n",
       "      <td>429</td>\n",
       "    </tr>\n",
       "    <tr>\n",
       "      <th>1</th>\n",
       "      <td>product_cart</td>\n",
       "      <td>214</td>\n",
       "    </tr>\n",
       "    <tr>\n",
       "      <th>3</th>\n",
       "      <td>purchase</td>\n",
       "      <td>219</td>\n",
       "    </tr>\n",
       "  </tbody>\n",
       "</table>\n",
       "</div>"
      ],
      "text/plain": [
       "     event_name  users_count\n",
       "0         login          770\n",
       "2  product_page          429\n",
       "1  product_cart          214\n",
       "3      purchase          219"
      ]
     },
     "execution_count": 41,
     "metadata": {},
     "output_type": "execute_result"
    }
   ],
   "source": [
    "# GROUP B:\n",
    "funnelB= grp_B.groupby('event_name')['user_id'].nunique().reset_index()\n",
    "funnelB= funnelB.rename(columns={\"user_id\": \"users_count\"})\n",
    "\n",
    "# reordering by funnel order:\n",
    "funnelB= funnelB.reindex([0, 2, 1, 3])\n",
    "print(\"Funnel B:\")\n",
    "funnelB"
   ]
  },
  {
   "cell_type": "code",
   "execution_count": 42,
   "id": "44014015",
   "metadata": {},
   "outputs": [
    {
     "data": {
      "text/html": [
       "<div>\n",
       "<style scoped>\n",
       "    .dataframe tbody tr th:only-of-type {\n",
       "        vertical-align: middle;\n",
       "    }\n",
       "\n",
       "    .dataframe tbody tr th {\n",
       "        vertical-align: top;\n",
       "    }\n",
       "\n",
       "    .dataframe thead th {\n",
       "        text-align: right;\n",
       "    }\n",
       "</style>\n",
       "<table border=\"1\" class=\"dataframe\">\n",
       "  <thead>\n",
       "    <tr style=\"text-align: right;\">\n",
       "      <th></th>\n",
       "      <th>event_name</th>\n",
       "      <th>users_count</th>\n",
       "      <th>CR, %</th>\n",
       "    </tr>\n",
       "  </thead>\n",
       "  <tbody>\n",
       "    <tr>\n",
       "      <th>0</th>\n",
       "      <td>login</td>\n",
       "      <td>770</td>\n",
       "      <td>100.000000</td>\n",
       "    </tr>\n",
       "    <tr>\n",
       "      <th>2</th>\n",
       "      <td>product_page</td>\n",
       "      <td>429</td>\n",
       "      <td>55.714286</td>\n",
       "    </tr>\n",
       "    <tr>\n",
       "      <th>1</th>\n",
       "      <td>product_cart</td>\n",
       "      <td>214</td>\n",
       "      <td>27.792208</td>\n",
       "    </tr>\n",
       "    <tr>\n",
       "      <th>3</th>\n",
       "      <td>purchase</td>\n",
       "      <td>219</td>\n",
       "      <td>28.441558</td>\n",
       "    </tr>\n",
       "  </tbody>\n",
       "</table>\n",
       "</div>"
      ],
      "text/plain": [
       "     event_name  users_count       CR, %\n",
       "0         login          770  100.000000\n",
       "2  product_page          429   55.714286\n",
       "1  product_cart          214   27.792208\n",
       "3      purchase          219   28.441558"
      ]
     },
     "execution_count": 42,
     "metadata": {},
     "output_type": "execute_result"
    }
   ],
   "source": [
    "baseb= funnelB.iloc[0]['users_count']\n",
    "funnelB['CR, %']= (funnelB['users_count']/ baseb) * 100\n",
    "funnelB"
   ]
  },
  {
   "cell_type": "code",
   "execution_count": 43,
   "id": "5e161117",
   "metadata": {},
   "outputs": [
    {
     "data": {
      "image/png": "[encoded data removed]"
     },
     "metadata": {},
     "output_type": "display_data"
    }
   ],
   "source": [
    "# Visualizing the two funnels:\n",
    "fig = go.Figure()\n",
    "fig.add_trace(go.Funnel(y = funnelA['event_name'], x = funnelA['users_count'],\n",
    "                        orientation = \"h\",\n",
    "                        name= 'Funnel group A',\n",
    "                        marker= {\"color\": \"red\"},\n",
    "                        textposition = \"inside\",\n",
    "                        textinfo = \"value+percent initial\"))\n",
    "              \n",
    "fig.add_trace(go.Funnel(y = funnelB['event_name'], x = funnelB['users_count'],\n",
    "                        orientation = \"h\",\n",
    "                        name= 'Funnel group B',\n",
    "                        textposition = \"inside\",\n",
    "                        marker= {\"color\": \"blue\"},\n",
    "                       textinfo = \"value+percent initial\"))\n",
    "\n",
    "#fig.update_layout(\n",
    "         #   autosize\n",
    "\n",
    "fig.show(\"png\");"
   ]
  },
  {
   "cell_type": "markdown",
   "id": "677a2aff",
   "metadata": {},
   "source": [
    "#### Funnel visualization:\n",
    "There are a few noticeable things in these funnels:\n",
    "- 1. The number of users do not follow the order of the stages in the funnel, and so we have buyers that did not pass through the product cart stage. This might mean that there was an option on the product page for direct purchase, without adding the item to the cart.\n",
    "- 2. Conversion rates compared to the initial login stage: The largest difference between the funnels is in passing from login stage to product page. Group A managed to retain 65% of its users, whereas group B- only 56%.\n",
    "- 3. Conversion rates compared to the previous stage: looking at this indicator, we see a different picture- passing from the product page stage to the cart stage, group B retained 50% of its users, and group A- only 46.5%"
   ]
  },
  {
   "cell_type": "markdown",
   "id": "cadb5492",
   "metadata": {},
   "source": [
    "### Is the number of events per user distributed equally among the samples?"
   ]
  },
  {
   "cell_type": "code",
   "execution_count": 44,
   "id": "9141af64",
   "metadata": {},
   "outputs": [
    {
     "name": "stdout",
     "output_type": "stream",
     "text": [
      "GROUP A\n"
     ]
    },
    {
     "data": {
      "text/html": [
       "<div>\n",
       "<style scoped>\n",
       "    .dataframe tbody tr th:only-of-type {\n",
       "        vertical-align: middle;\n",
       "    }\n",
       "\n",
       "    .dataframe tbody tr th {\n",
       "        vertical-align: top;\n",
       "    }\n",
       "\n",
       "    .dataframe thead th {\n",
       "        text-align: right;\n",
       "    }\n",
       "</style>\n",
       "<table border=\"1\" class=\"dataframe\">\n",
       "  <thead>\n",
       "    <tr style=\"text-align: right;\">\n",
       "      <th></th>\n",
       "      <th>user_id</th>\n",
       "      <th>events</th>\n",
       "    </tr>\n",
       "  </thead>\n",
       "  <tbody>\n",
       "    <tr>\n",
       "      <th>591</th>\n",
       "      <td>4400B2091A6E2CCD</td>\n",
       "      <td>1</td>\n",
       "    </tr>\n",
       "    <tr>\n",
       "      <th>517</th>\n",
       "      <td>3B3AE26404B64EF2</td>\n",
       "      <td>1</td>\n",
       "    </tr>\n",
       "    <tr>\n",
       "      <th>1239</th>\n",
       "      <td>8F5B3D96E7D43A02</td>\n",
       "      <td>1</td>\n",
       "    </tr>\n",
       "    <tr>\n",
       "      <th>1408</th>\n",
       "      <td>A0FCDFB113ABF06F</td>\n",
       "      <td>1</td>\n",
       "    </tr>\n",
       "    <tr>\n",
       "      <th>126</th>\n",
       "      <td>10387B8D694D539C</td>\n",
       "      <td>1</td>\n",
       "    </tr>\n",
       "    <tr>\n",
       "      <th>...</th>\n",
       "      <td>...</td>\n",
       "      <td>...</td>\n",
       "    </tr>\n",
       "    <tr>\n",
       "      <th>2209</th>\n",
       "      <td>F9D53F0BA957F728</td>\n",
       "      <td>20</td>\n",
       "    </tr>\n",
       "    <tr>\n",
       "      <th>1999</th>\n",
       "      <td>E20504D0CAD45AF3</td>\n",
       "      <td>20</td>\n",
       "    </tr>\n",
       "    <tr>\n",
       "      <th>967</th>\n",
       "      <td>6E3DF9C69A6B607E</td>\n",
       "      <td>21</td>\n",
       "    </tr>\n",
       "    <tr>\n",
       "      <th>252</th>\n",
       "      <td>1BFEE479308EFF44</td>\n",
       "      <td>24</td>\n",
       "    </tr>\n",
       "    <tr>\n",
       "      <th>1839</th>\n",
       "      <td>CED71698585A2E46</td>\n",
       "      <td>24</td>\n",
       "    </tr>\n",
       "  </tbody>\n",
       "</table>\n",
       "<p>2264 rows × 2 columns</p>\n",
       "</div>"
      ],
      "text/plain": [
       "               user_id  events\n",
       "591   4400B2091A6E2CCD       1\n",
       "517   3B3AE26404B64EF2       1\n",
       "1239  8F5B3D96E7D43A02       1\n",
       "1408  A0FCDFB113ABF06F       1\n",
       "126   10387B8D694D539C       1\n",
       "...                ...     ...\n",
       "2209  F9D53F0BA957F728      20\n",
       "1999  E20504D0CAD45AF3      20\n",
       "967   6E3DF9C69A6B607E      21\n",
       "252   1BFEE479308EFF44      24\n",
       "1839  CED71698585A2E46      24\n",
       "\n",
       "[2264 rows x 2 columns]"
      ]
     },
     "execution_count": 44,
     "metadata": {},
     "output_type": "execute_result"
    },
    {
     "name": "stdout",
     "output_type": "stream",
     "text": [
      "\n",
      "GROUP B\n"
     ]
    },
    {
     "data": {
      "text/html": [
       "<div>\n",
       "<style scoped>\n",
       "    .dataframe tbody tr th:only-of-type {\n",
       "        vertical-align: middle;\n",
       "    }\n",
       "\n",
       "    .dataframe tbody tr th {\n",
       "        vertical-align: top;\n",
       "    }\n",
       "\n",
       "    .dataframe thead th {\n",
       "        text-align: right;\n",
       "    }\n",
       "</style>\n",
       "<table border=\"1\" class=\"dataframe\">\n",
       "  <thead>\n",
       "    <tr style=\"text-align: right;\">\n",
       "      <th></th>\n",
       "      <th>user_id</th>\n",
       "      <th>events</th>\n",
       "    </tr>\n",
       "  </thead>\n",
       "  <tbody>\n",
       "    <tr>\n",
       "      <th>312</th>\n",
       "      <td>6A07E9483E1D2638</td>\n",
       "      <td>1</td>\n",
       "    </tr>\n",
       "    <tr>\n",
       "      <th>86</th>\n",
       "      <td>1E7B931452B2F965</td>\n",
       "      <td>1</td>\n",
       "    </tr>\n",
       "    <tr>\n",
       "      <th>102</th>\n",
       "      <td>25B6EE0F91D32DB9</td>\n",
       "      <td>1</td>\n",
       "    </tr>\n",
       "    <tr>\n",
       "      <th>127</th>\n",
       "      <td>2CEC84A86958E639</td>\n",
       "      <td>1</td>\n",
       "    </tr>\n",
       "    <tr>\n",
       "      <th>659</th>\n",
       "      <td>DAEE6D470B64E11B</td>\n",
       "      <td>1</td>\n",
       "    </tr>\n",
       "    <tr>\n",
       "      <th>...</th>\n",
       "      <td>...</td>\n",
       "      <td>...</td>\n",
       "    </tr>\n",
       "    <tr>\n",
       "      <th>766</th>\n",
       "      <td>FE76759FE6BF8C68</td>\n",
       "      <td>20</td>\n",
       "    </tr>\n",
       "    <tr>\n",
       "      <th>369</th>\n",
       "      <td>7E8720DB6A21CF66</td>\n",
       "      <td>20</td>\n",
       "    </tr>\n",
       "    <tr>\n",
       "      <th>407</th>\n",
       "      <td>89545C7F903DBA34</td>\n",
       "      <td>21</td>\n",
       "    </tr>\n",
       "    <tr>\n",
       "      <th>41</th>\n",
       "      <td>115EBC1CA027854A</td>\n",
       "      <td>24</td>\n",
       "    </tr>\n",
       "    <tr>\n",
       "      <th>42</th>\n",
       "      <td>1198061F6AF34B7B</td>\n",
       "      <td>28</td>\n",
       "    </tr>\n",
       "  </tbody>\n",
       "</table>\n",
       "<p>771 rows × 2 columns</p>\n",
       "</div>"
      ],
      "text/plain": [
       "              user_id  events\n",
       "312  6A07E9483E1D2638       1\n",
       "86   1E7B931452B2F965       1\n",
       "102  25B6EE0F91D32DB9       1\n",
       "127  2CEC84A86958E639       1\n",
       "659  DAEE6D470B64E11B       1\n",
       "..                ...     ...\n",
       "766  FE76759FE6BF8C68      20\n",
       "369  7E8720DB6A21CF66      20\n",
       "407  89545C7F903DBA34      21\n",
       "41   115EBC1CA027854A      24\n",
       "42   1198061F6AF34B7B      28\n",
       "\n",
       "[771 rows x 2 columns]"
      ]
     },
     "execution_count": 44,
     "metadata": {},
     "output_type": "execute_result"
    }
   ],
   "source": [
    "# seperate tables by group:\n",
    "print(\"GROUP A\")\n",
    "eve_num_A= grp_A.groupby('user_id')['event_name'].count().reset_index().sort_values(by='event_name')\n",
    "eve_num_A.columns=['user_id', 'events']\n",
    "eve_num_A\n",
    "print()\n",
    "print(\"GROUP B\")\n",
    "eve_num_B= grp_B.groupby('user_id')['event_name'].count().reset_index().sort_values(by='event_name')\n",
    "eve_num_B.columns=['user_id', 'events']\n",
    "eve_num_B\n"
   ]
  },
  {
   "cell_type": "code",
   "execution_count": 45,
   "id": "6bfc70a0",
   "metadata": {},
   "outputs": [
    {
     "data": {
      "image/png": "[encoded data removed]",
      "text/plain": [
       "<Figure size 1008x576 with 1 Axes>"
      ]
     },
     "metadata": {
      "needs_background": "light"
     },
     "output_type": "display_data"
    }
   ],
   "source": [
    "# plotting histograms of the number of events per user per group:\n",
    "plt.figure(figsize=(14,8))\n",
    "plt.hist([eve_num_A['events'], eve_num_B['events']], label=['Group A', 'Group B'])\n",
    "plt.legend(loc=1, prop={'size': 15})\n",
    "plt.grid()\n",
    "plt.xlabel(\"Events per user\", fontsize=15)\n",
    "plt.ylabel(\"Frequency\", fontsize=15)\n",
    "plt.title(\"Frequency histograms of the number of events per user per group\", fontsize=20)\n",
    "plt.show();"
   ]
  },
  {
   "cell_type": "code",
   "execution_count": 46,
   "id": "2ac7b943",
   "metadata": {},
   "outputs": [
    {
     "name": "stdout",
     "output_type": "stream",
     "text": [
      "The average number of events per user in group A is: 6.774734982332156\n",
      "The average number of events per user in group B is: 5.592736705577172\n"
     ]
    }
   ],
   "source": [
    "# We can also calculate the average number of events per user, and this way overpass the problem of sample sizes:\n",
    "print(\"The average number of events per user in group A is:\", eve_num_A['events'].mean())\n",
    "print(\"The average number of events per user in group B is:\", eve_num_B['events'].mean())"
   ]
  },
  {
   "cell_type": "code",
   "execution_count": 47,
   "id": "4595c212",
   "metadata": {},
   "outputs": [
    {
     "data": {
      "text/plain": [
       "2264"
      ]
     },
     "execution_count": 47,
     "metadata": {},
     "output_type": "execute_result"
    },
    {
     "data": {
      "text/plain": [
       "771"
      ]
     },
     "execution_count": 47,
     "metadata": {},
     "output_type": "execute_result"
    }
   ],
   "source": [
    "# To see the distribution in evenly sized groups:\n",
    "len(eve_num_A)\n",
    "len(eve_num_B)\n",
    "eve_num_a = eve_num_A.sample(771)\n"
   ]
  },
  {
   "cell_type": "code",
   "execution_count": 48,
   "id": "53295e72",
   "metadata": {},
   "outputs": [
    {
     "data": {
      "image/png": "[encoded data removed]",
      "text/plain": [
       "<Figure size 1008x576 with 1 Axes>"
      ]
     },
     "metadata": {
      "needs_background": "light"
     },
     "output_type": "display_data"
    }
   ],
   "source": [
    "plt.figure(figsize=(14,8))\n",
    "plt.hist([eve_num_a['events'], eve_num_B['events']], label=['Group A-sample', 'Group B'])\n",
    "plt.legend(loc=1, prop={'size': 15})\n",
    "plt.xlabel(\"Events per user\", fontsize=15)\n",
    "plt.ylabel(\"Frequency\", fontsize=15)\n",
    "plt.title(\"Frequency histograms of the number of events per user per group\", fontsize=20)\n",
    "plt.show();"
   ]
  },
  {
   "cell_type": "markdown",
   "id": "5e53fcb1",
   "metadata": {},
   "source": [
    "#### Frequency histograms:\n",
    "- It can be seen that the number of events per user ranges between 1 and 24 (group A) and 1 to 28 (group B), with the most frequent situation being around 5 events per user, and the least frequent being in the high numbers.\n",
    "- The distributions of the two groups seemed somewhat similar when having different sample sizes, but with evenly sized groups it can be seen that the slopes between the bars are different. \n",
    "- Compared with the control group, the test group (B) has a higher frequency of users with 1-5 events, the same amount of users performing 5 events, and a higher frequency of 10-event users. Between 12 and 20 events per user the lead goes to group A, however, over 20 events per user we'll find a higher frequency of users in the B group."
   ]
  },
  {
   "cell_type": "markdown",
   "id": "58201f0f",
   "metadata": {},
   "source": [
    "### How is the number of events distributed among days?"
   ]
  },
  {
   "cell_type": "code",
   "execution_count": 49,
   "id": "c51a3020",
   "metadata": {},
   "outputs": [
    {
     "data": {
      "text/plain": [
       "15338"
      ]
     },
     "execution_count": 49,
     "metadata": {},
     "output_type": "execute_result"
    },
    {
     "data": {
      "text/plain": [
       "4312"
      ]
     },
     "execution_count": 49,
     "metadata": {},
     "output_type": "execute_result"
    },
    {
     "data": {
      "text/plain": [
       "4312"
      ]
     },
     "execution_count": 49,
     "metadata": {},
     "output_type": "execute_result"
    }
   ],
   "source": [
    "# resizing group A to match group B:\n",
    "len(grp_A)\n",
    "len(grp_B)\n",
    "grp_a= grp_A.sample(4312)\n",
    "len(grp_a)"
   ]
  },
  {
   "cell_type": "code",
   "execution_count": 50,
   "id": "9a234d5b",
   "metadata": {},
   "outputs": [
    {
     "name": "stdout",
     "output_type": "stream",
     "text": [
      "GROUP A- sample:\n"
     ]
    },
    {
     "data": {
      "text/html": [
       "<div>\n",
       "<style scoped>\n",
       "    .dataframe tbody tr th:only-of-type {\n",
       "        vertical-align: middle;\n",
       "    }\n",
       "\n",
       "    .dataframe tbody tr th {\n",
       "        vertical-align: top;\n",
       "    }\n",
       "\n",
       "    .dataframe thead th {\n",
       "        text-align: right;\n",
       "    }\n",
       "</style>\n",
       "<table border=\"1\" class=\"dataframe\">\n",
       "  <thead>\n",
       "    <tr style=\"text-align: right;\">\n",
       "      <th></th>\n",
       "      <th>date</th>\n",
       "      <th>events_p_day</th>\n",
       "    </tr>\n",
       "  </thead>\n",
       "  <tbody>\n",
       "    <tr>\n",
       "      <th>0</th>\n",
       "      <td>2020-12-07</td>\n",
       "      <td>78</td>\n",
       "    </tr>\n",
       "    <tr>\n",
       "      <th>1</th>\n",
       "      <td>2020-12-08</td>\n",
       "      <td>74</td>\n",
       "    </tr>\n",
       "    <tr>\n",
       "      <th>2</th>\n",
       "      <td>2020-12-09</td>\n",
       "      <td>75</td>\n",
       "    </tr>\n",
       "    <tr>\n",
       "      <th>3</th>\n",
       "      <td>2020-12-10</td>\n",
       "      <td>70</td>\n",
       "    </tr>\n",
       "    <tr>\n",
       "      <th>4</th>\n",
       "      <td>2020-12-11</td>\n",
       "      <td>91</td>\n",
       "    </tr>\n",
       "    <tr>\n",
       "      <th>5</th>\n",
       "      <td>2020-12-12</td>\n",
       "      <td>76</td>\n",
       "    </tr>\n",
       "    <tr>\n",
       "      <th>6</th>\n",
       "      <td>2020-12-13</td>\n",
       "      <td>73</td>\n",
       "    </tr>\n",
       "    <tr>\n",
       "      <th>7</th>\n",
       "      <td>2020-12-14</td>\n",
       "      <td>259</td>\n",
       "    </tr>\n",
       "    <tr>\n",
       "      <th>8</th>\n",
       "      <td>2020-12-15</td>\n",
       "      <td>249</td>\n",
       "    </tr>\n",
       "    <tr>\n",
       "      <th>9</th>\n",
       "      <td>2020-12-16</td>\n",
       "      <td>234</td>\n",
       "    </tr>\n",
       "    <tr>\n",
       "      <th>10</th>\n",
       "      <td>2020-12-17</td>\n",
       "      <td>294</td>\n",
       "    </tr>\n",
       "    <tr>\n",
       "      <th>11</th>\n",
       "      <td>2020-12-18</td>\n",
       "      <td>314</td>\n",
       "    </tr>\n",
       "    <tr>\n",
       "      <th>12</th>\n",
       "      <td>2020-12-19</td>\n",
       "      <td>375</td>\n",
       "    </tr>\n",
       "    <tr>\n",
       "      <th>13</th>\n",
       "      <td>2020-12-20</td>\n",
       "      <td>309</td>\n",
       "    </tr>\n",
       "    <tr>\n",
       "      <th>14</th>\n",
       "      <td>2020-12-21</td>\n",
       "      <td>472</td>\n",
       "    </tr>\n",
       "    <tr>\n",
       "      <th>15</th>\n",
       "      <td>2020-12-22</td>\n",
       "      <td>302</td>\n",
       "    </tr>\n",
       "    <tr>\n",
       "      <th>16</th>\n",
       "      <td>2020-12-23</td>\n",
       "      <td>241</td>\n",
       "    </tr>\n",
       "    <tr>\n",
       "      <th>17</th>\n",
       "      <td>2020-12-24</td>\n",
       "      <td>209</td>\n",
       "    </tr>\n",
       "    <tr>\n",
       "      <th>18</th>\n",
       "      <td>2020-12-26</td>\n",
       "      <td>142</td>\n",
       "    </tr>\n",
       "    <tr>\n",
       "      <th>19</th>\n",
       "      <td>2020-12-27</td>\n",
       "      <td>143</td>\n",
       "    </tr>\n",
       "    <tr>\n",
       "      <th>20</th>\n",
       "      <td>2020-12-28</td>\n",
       "      <td>130</td>\n",
       "    </tr>\n",
       "    <tr>\n",
       "      <th>21</th>\n",
       "      <td>2020-12-29</td>\n",
       "      <td>102</td>\n",
       "    </tr>\n",
       "  </tbody>\n",
       "</table>\n",
       "</div>"
      ],
      "text/plain": [
       "          date  events_p_day\n",
       "0   2020-12-07            78\n",
       "1   2020-12-08            74\n",
       "2   2020-12-09            75\n",
       "3   2020-12-10            70\n",
       "4   2020-12-11            91\n",
       "5   2020-12-12            76\n",
       "6   2020-12-13            73\n",
       "7   2020-12-14           259\n",
       "8   2020-12-15           249\n",
       "9   2020-12-16           234\n",
       "10  2020-12-17           294\n",
       "11  2020-12-18           314\n",
       "12  2020-12-19           375\n",
       "13  2020-12-20           309\n",
       "14  2020-12-21           472\n",
       "15  2020-12-22           302\n",
       "16  2020-12-23           241\n",
       "17  2020-12-24           209\n",
       "18  2020-12-26           142\n",
       "19  2020-12-27           143\n",
       "20  2020-12-28           130\n",
       "21  2020-12-29           102"
      ]
     },
     "execution_count": 50,
     "metadata": {},
     "output_type": "execute_result"
    }
   ],
   "source": [
    "# creating a distribution table- events per day per group:\n",
    "# GROUP a:\n",
    "eve_dt_a= grp_a.groupby('date')['event_name'].count().reset_index().sort_values(by='date')\n",
    "eve_dt_a= eve_dt_a.rename(columns={'event_name': 'events_p_day'})\n",
    "print(\"GROUP A- sample:\")\n",
    "eve_dt_a"
   ]
  },
  {
   "cell_type": "code",
   "execution_count": 51,
   "id": "8d772649",
   "metadata": {},
   "outputs": [],
   "source": [
    "# group A (full group):\n",
    "eve_dt_A= grp_A.groupby('date')['event_name'].count().reset_index().sort_values(by='date')\n",
    "eve_dt_A= eve_dt_A.rename(columns={'event_name': 'events_p_day'})"
   ]
  },
  {
   "cell_type": "code",
   "execution_count": 52,
   "id": "24dba5ce",
   "metadata": {},
   "outputs": [
    {
     "name": "stdout",
     "output_type": "stream",
     "text": [
      "GROUP B:\n"
     ]
    },
    {
     "data": {
      "text/html": [
       "<div>\n",
       "<style scoped>\n",
       "    .dataframe tbody tr th:only-of-type {\n",
       "        vertical-align: middle;\n",
       "    }\n",
       "\n",
       "    .dataframe tbody tr th {\n",
       "        vertical-align: top;\n",
       "    }\n",
       "\n",
       "    .dataframe thead th {\n",
       "        text-align: right;\n",
       "    }\n",
       "</style>\n",
       "<table border=\"1\" class=\"dataframe\">\n",
       "  <thead>\n",
       "    <tr style=\"text-align: right;\">\n",
       "      <th></th>\n",
       "      <th>date</th>\n",
       "      <th>events_p_day</th>\n",
       "    </tr>\n",
       "  </thead>\n",
       "  <tbody>\n",
       "    <tr>\n",
       "      <th>0</th>\n",
       "      <td>2020-12-07</td>\n",
       "      <td>315</td>\n",
       "    </tr>\n",
       "    <tr>\n",
       "      <th>1</th>\n",
       "      <td>2020-12-08</td>\n",
       "      <td>207</td>\n",
       "    </tr>\n",
       "    <tr>\n",
       "      <th>2</th>\n",
       "      <td>2020-12-09</td>\n",
       "      <td>289</td>\n",
       "    </tr>\n",
       "    <tr>\n",
       "      <th>3</th>\n",
       "      <td>2020-12-10</td>\n",
       "      <td>218</td>\n",
       "    </tr>\n",
       "    <tr>\n",
       "      <th>4</th>\n",
       "      <td>2020-12-11</td>\n",
       "      <td>137</td>\n",
       "    </tr>\n",
       "    <tr>\n",
       "      <th>5</th>\n",
       "      <td>2020-12-12</td>\n",
       "      <td>169</td>\n",
       "    </tr>\n",
       "    <tr>\n",
       "      <th>6</th>\n",
       "      <td>2020-12-13</td>\n",
       "      <td>122</td>\n",
       "    </tr>\n",
       "    <tr>\n",
       "      <th>7</th>\n",
       "      <td>2020-12-14</td>\n",
       "      <td>227</td>\n",
       "    </tr>\n",
       "    <tr>\n",
       "      <th>8</th>\n",
       "      <td>2020-12-15</td>\n",
       "      <td>187</td>\n",
       "    </tr>\n",
       "    <tr>\n",
       "      <th>9</th>\n",
       "      <td>2020-12-16</td>\n",
       "      <td>322</td>\n",
       "    </tr>\n",
       "    <tr>\n",
       "      <th>10</th>\n",
       "      <td>2020-12-17</td>\n",
       "      <td>230</td>\n",
       "    </tr>\n",
       "    <tr>\n",
       "      <th>11</th>\n",
       "      <td>2020-12-18</td>\n",
       "      <td>224</td>\n",
       "    </tr>\n",
       "    <tr>\n",
       "      <th>12</th>\n",
       "      <td>2020-12-19</td>\n",
       "      <td>235</td>\n",
       "    </tr>\n",
       "    <tr>\n",
       "      <th>13</th>\n",
       "      <td>2020-12-20</td>\n",
       "      <td>273</td>\n",
       "    </tr>\n",
       "    <tr>\n",
       "      <th>14</th>\n",
       "      <td>2020-12-21</td>\n",
       "      <td>358</td>\n",
       "    </tr>\n",
       "    <tr>\n",
       "      <th>15</th>\n",
       "      <td>2020-12-22</td>\n",
       "      <td>158</td>\n",
       "    </tr>\n",
       "    <tr>\n",
       "      <th>16</th>\n",
       "      <td>2020-12-23</td>\n",
       "      <td>167</td>\n",
       "    </tr>\n",
       "    <tr>\n",
       "      <th>17</th>\n",
       "      <td>2020-12-24</td>\n",
       "      <td>131</td>\n",
       "    </tr>\n",
       "    <tr>\n",
       "      <th>18</th>\n",
       "      <td>2020-12-26</td>\n",
       "      <td>93</td>\n",
       "    </tr>\n",
       "    <tr>\n",
       "      <th>19</th>\n",
       "      <td>2020-12-27</td>\n",
       "      <td>104</td>\n",
       "    </tr>\n",
       "    <tr>\n",
       "      <th>20</th>\n",
       "      <td>2020-12-28</td>\n",
       "      <td>82</td>\n",
       "    </tr>\n",
       "    <tr>\n",
       "      <th>21</th>\n",
       "      <td>2020-12-29</td>\n",
       "      <td>60</td>\n",
       "    </tr>\n",
       "    <tr>\n",
       "      <th>22</th>\n",
       "      <td>2020-12-30</td>\n",
       "      <td>4</td>\n",
       "    </tr>\n",
       "  </tbody>\n",
       "</table>\n",
       "</div>"
      ],
      "text/plain": [
       "          date  events_p_day\n",
       "0   2020-12-07           315\n",
       "1   2020-12-08           207\n",
       "2   2020-12-09           289\n",
       "3   2020-12-10           218\n",
       "4   2020-12-11           137\n",
       "5   2020-12-12           169\n",
       "6   2020-12-13           122\n",
       "7   2020-12-14           227\n",
       "8   2020-12-15           187\n",
       "9   2020-12-16           322\n",
       "10  2020-12-17           230\n",
       "11  2020-12-18           224\n",
       "12  2020-12-19           235\n",
       "13  2020-12-20           273\n",
       "14  2020-12-21           358\n",
       "15  2020-12-22           158\n",
       "16  2020-12-23           167\n",
       "17  2020-12-24           131\n",
       "18  2020-12-26            93\n",
       "19  2020-12-27           104\n",
       "20  2020-12-28            82\n",
       "21  2020-12-29            60\n",
       "22  2020-12-30             4"
      ]
     },
     "execution_count": 52,
     "metadata": {},
     "output_type": "execute_result"
    }
   ],
   "source": [
    "\n",
    "# GROUP B:\n",
    "eve_dt_B= grp_B.groupby('date')['event_name'].count().reset_index().sort_values(by='date')\n",
    "eve_dt_B= eve_dt_B.rename(columns={'event_name': 'events_p_day'})\n",
    "print(\"GROUP B:\")\n",
    "eve_dt_B"
   ]
  },
  {
   "cell_type": "code",
   "execution_count": 63,
   "id": "f5ffecd0",
   "metadata": {},
   "outputs": [
    {
     "data": {
      "image/png": "[encoded data removed]",
      "text/plain": [
       "<Figure size 1008x576 with 1 Axes>"
      ]
     },
     "metadata": {
      "needs_background": "light"
     },
     "output_type": "display_data"
    }
   ],
   "source": [
    "# A line plot of the number of events per day, per group:\n",
    "# (I took both a and A to make sure that the distributions are similar.. )\n",
    "plt.figure(figsize=(14,8))\n",
    "plt.plot(eve_dt_A['date'], eve_dt_A['events_p_day'], label='Group A')\n",
    "plt.plot(eve_dt_a['date'], eve_dt_a['events_p_day'], label='Group a- a sample of A')\n",
    "plt.plot(eve_dt_B['date'], eve_dt_B['events_p_day'], label='Group B')\n",
    "plt.legend(loc=1, prop={'size': 15})\n",
    "plt.xlabel(\"Date\", fontsize=15)\n",
    "plt.ylabel(\"Events per day\", fontsize=15)\n",
    "plt.title(\"Daily number of events per group\", fontsize=20)\n",
    "plt.xticks(rotation=90, fontsize=15)\n",
    "plt.yticks(fontsize=15);"
   ]
  },
  {
   "cell_type": "code",
   "execution_count": 64,
   "id": "a2840e26",
   "metadata": {},
   "outputs": [
    {
     "data": {
      "image/png": "[encoded data removed]",
      "text/plain": [
       "<Figure size 1008x576 with 1 Axes>"
      ]
     },
     "metadata": {
      "needs_background": "light"
     },
     "output_type": "display_data"
    }
   ],
   "source": [
    "# to better see the two groups, i'll remove A:\n",
    "plt.figure(figsize=(14,8))\n",
    "plt.plot(eve_dt_a['date'], eve_dt_a['events_p_day'], label='Group a- a sample of A')\n",
    "plt.plot(eve_dt_B['date'], eve_dt_B['events_p_day'], label='Group B')\n",
    "plt.legend(loc=1, prop={'size': 15})\n",
    "plt.xlabel(\"Date\", fontsize=15)\n",
    "plt.ylabel(\"Events per day\", fontsize=15)\n",
    "plt.title(\"Daily number of events per group\", fontsize=20)\n",
    "plt.xticks(rotation=90, fontsize=15)\n",
    "plt.yticks(fontsize=15);"
   ]
  },
  {
   "cell_type": "markdown",
   "id": "739fc7e7",
   "metadata": {},
   "source": [
    "#### Daily number of events per group:\n",
    "As can be seen, the daily number of events is distributed very differently from the 7th of Dec to the 21st. From this day on, though, the two groups follow similar trajectories all the way till the 31st.\n",
    "- Group A: until the 13/12 the daily number of events is very low and stable (around 100). On the 13th there is a steep and gradual rise in the the number of daily events, that continues all the way to the 21st. This peak day is shared by group B as well. From this day on, both groups lose users: the number of daily events drops in group A back to 100, and reaches almost 0 in group B.\n",
    "\n",
    "- Group B: group B starts the experiment with a total of 300 eents a day. Yet, the group's trajectory is less stable than group A: The number of daily events fluctuates considerably around 200, until the 21st, in which the number drops gradualy to 0.  \n",
    "\n",
    "I assume that Christmass and New year have something to do with it. The marketing in EU, though, started only on the 25th and seemingly might have not affected the results."
   ]
  },
  {
   "cell_type": "code",
   "execution_count": 55,
   "id": "cb67296e",
   "metadata": {},
   "outputs": [
    {
     "data": {
      "text/plain": [
       "group\n",
       "A    22.55323\n",
       "B    21.15426\n",
       "Name: details, dtype: float64"
      ]
     },
     "execution_count": 55,
     "metadata": {},
     "output_type": "execute_result"
    }
   ],
   "source": [
    "# just checking.. (doesn't seem like a sig difference)\n",
    "events_grp.groupby('group')['details'].mean()"
   ]
  },
  {
   "cell_type": "markdown",
   "id": "702b17ae",
   "metadata": {},
   "source": [
    "## A/B Testing:"
   ]
  },
  {
   "cell_type": "markdown",
   "id": "aeccc1dd",
   "metadata": {},
   "source": [
    "Evaluate the A/B test results:\n",
    "What can you say about the A/B test results?\n",
    "Use a z-test to check the statistical difference between the proportions."
   ]
  },
  {
   "cell_type": "markdown",
   "id": "f93cdec5",
   "metadata": {},
   "source": [
    "\n",
    "***H0 (Null):*** Group A and group B have the same conversion rates- There is no statistically significant difference between them.\n",
    "\n",
    "***H1 (Alternative):*** The conversion rate of group B will be at least 10% higher than the one of group A.\n",
    "\n",
    "**Test selection**: A two sample Z-test for Proportions.\n",
    "\n",
    "**Rational:** this test is used to check if two samples are drawn from the same population. It is utilized when the population proportion is unknown, as in out case, and it uses the standard normal distribution to calculate the test statistic.\n",
    "\n",
    "In order to check the hypothesis, 3 comparisons will be run:\n",
    "- 1. The proportion of product page from login page. \n",
    "- 2. The proportion of product cart from product page. \n",
    "- 3. The proportion of purchase page from product cart.\n",
    "\n",
    "**Setting alpha:** There are 3 comparisons, in addition to having a one sided hypothesis, so we need to decrease the alpha by half and devide it in 3. alpha= 0.05/6= 0.0083"
   ]
  },
  {
   "cell_type": "code",
   "execution_count": 56,
   "id": "b5d59c77",
   "metadata": {},
   "outputs": [
    {
     "data": {
      "text/html": [
       "<div>\n",
       "<style scoped>\n",
       "    .dataframe tbody tr th:only-of-type {\n",
       "        vertical-align: middle;\n",
       "    }\n",
       "\n",
       "    .dataframe tbody tr th {\n",
       "        vertical-align: top;\n",
       "    }\n",
       "\n",
       "    .dataframe thead th {\n",
       "        text-align: right;\n",
       "    }\n",
       "</style>\n",
       "<table border=\"1\" class=\"dataframe\">\n",
       "  <thead>\n",
       "    <tr style=\"text-align: right;\">\n",
       "      <th></th>\n",
       "      <th>user_id</th>\n",
       "      <th>event_dt</th>\n",
       "      <th>event_name</th>\n",
       "      <th>details</th>\n",
       "      <th>date</th>\n",
       "      <th>group</th>\n",
       "    </tr>\n",
       "  </thead>\n",
       "  <tbody>\n",
       "    <tr>\n",
       "      <th>0</th>\n",
       "      <td>831887FE7F2D6CBA</td>\n",
       "      <td>2020-12-07 06:50:29</td>\n",
       "      <td>purchase</td>\n",
       "      <td>4.99</td>\n",
       "      <td>2020-12-07</td>\n",
       "      <td>A</td>\n",
       "    </tr>\n",
       "    <tr>\n",
       "      <th>1</th>\n",
       "      <td>3C5DD0288AC4FE23</td>\n",
       "      <td>2020-12-07 19:42:40</td>\n",
       "      <td>purchase</td>\n",
       "      <td>4.99</td>\n",
       "      <td>2020-12-07</td>\n",
       "      <td>A</td>\n",
       "    </tr>\n",
       "  </tbody>\n",
       "</table>\n",
       "</div>"
      ],
      "text/plain": [
       "            user_id            event_dt event_name  details        date group\n",
       "0  831887FE7F2D6CBA 2020-12-07 06:50:29   purchase     4.99  2020-12-07     A\n",
       "1  3C5DD0288AC4FE23 2020-12-07 19:42:40   purchase     4.99  2020-12-07     A"
      ]
     },
     "execution_count": 56,
     "metadata": {},
     "output_type": "execute_result"
    },
    {
     "data": {
      "text/html": [
       "<div>\n",
       "<style scoped>\n",
       "    .dataframe tbody tr th:only-of-type {\n",
       "        vertical-align: middle;\n",
       "    }\n",
       "\n",
       "    .dataframe tbody tr th {\n",
       "        vertical-align: top;\n",
       "    }\n",
       "\n",
       "    .dataframe thead th {\n",
       "        text-align: right;\n",
       "    }\n",
       "</style>\n",
       "<table border=\"1\" class=\"dataframe\">\n",
       "  <thead>\n",
       "    <tr style=\"text-align: right;\">\n",
       "      <th></th>\n",
       "      <th>user_id</th>\n",
       "      <th>event_dt</th>\n",
       "      <th>event_name</th>\n",
       "      <th>details</th>\n",
       "      <th>date</th>\n",
       "      <th>group</th>\n",
       "    </tr>\n",
       "  </thead>\n",
       "  <tbody>\n",
       "    <tr>\n",
       "      <th>2</th>\n",
       "      <td>49EA242586C87836</td>\n",
       "      <td>2020-12-07 06:31:24</td>\n",
       "      <td>purchase</td>\n",
       "      <td>99.99</td>\n",
       "      <td>2020-12-07</td>\n",
       "      <td>B</td>\n",
       "    </tr>\n",
       "    <tr>\n",
       "      <th>3</th>\n",
       "      <td>A640F31CAC7823A6</td>\n",
       "      <td>2020-12-07 18:48:26</td>\n",
       "      <td>purchase</td>\n",
       "      <td>4.99</td>\n",
       "      <td>2020-12-07</td>\n",
       "      <td>B</td>\n",
       "    </tr>\n",
       "  </tbody>\n",
       "</table>\n",
       "</div>"
      ],
      "text/plain": [
       "            user_id            event_dt event_name  details        date group\n",
       "2  49EA242586C87836 2020-12-07 06:31:24   purchase    99.99  2020-12-07     B\n",
       "3  A640F31CAC7823A6 2020-12-07 18:48:26   purchase     4.99  2020-12-07     B"
      ]
     },
     "execution_count": 56,
     "metadata": {},
     "output_type": "execute_result"
    }
   ],
   "source": [
    "# a reminder:\n",
    "grp_A.head(2)\n",
    "grp_B.head(2)"
   ]
  },
  {
   "cell_type": "code",
   "execution_count": 57,
   "id": "28d2360b",
   "metadata": {},
   "outputs": [],
   "source": [
    "#preparing data:\n",
    "stage0A= grp_A.query('event_name == \"login\"')\n",
    "stage1A= grp_A.query('event_name == \"product_page\"') \n",
    "stage2A= grp_A.query('event_name == \"product_cart\"')\n",
    "stage3A= grp_A.query('event_name == \"purchase\"')\n",
    "\n",
    "stage0B= grp_B.query('event_name == \"login\"')\n",
    "stage1B= grp_B.query('event_name == \"product_page\"') \n",
    "stage2B= grp_B.query('event_name == \"product_cart\"')\n",
    "stage3B= grp_B.query('event_name == \"purchase\"')"
   ]
  },
  {
   "cell_type": "code",
   "execution_count": 58,
   "id": "f7c6da9c",
   "metadata": {},
   "outputs": [],
   "source": [
    "# preparing a function to check hypotheses:\n",
    "def ztest_prop(first_A, second_A, first_B, second_B):\n",
    "    #Preparing the relevant variables\n",
    "    vis_A= first_A['user_id'].nunique()\n",
    "    buy_A= second_A['user_id'].nunique()\n",
    "    vis_B= first_B['user_id'].nunique()\n",
    "    buy_B= second_B['user_id'].nunique()\n",
    "    \n",
    "    print(\"Group A:\")\n",
    "    print(\"  VisitorsA\", vis_A)\n",
    "    print(\"  BuyersA\", buy_A)\n",
    "    print()\n",
    "    print(\"Group B:\")\n",
    "    print(\"  VisitorsB\", vis_B)\n",
    "    print(\"  BuyersB\", buy_B)\n",
    "\n",
    "    # running the test:\n",
    "    alpha = .05 / 6\n",
    "    stat1, pval1 = proportions_ztest([buy_A,buy_B], [vis_A,vis_B])\n",
    "    print('P-Value:{0:0.3f}'.format(pval1))\n",
    "    if (pval1 < alpha):\n",
    "        print(\"Null hypothesis rejected: there is a significant difference between conversion rates\")\n",
    "    else:\n",
    "        print(\"Failed to reject the null hypothesis: there is no significant difference between the conversion rates\") \n",
    "    print (\"Group A conversion rate:{0:0.3f}\".format(buy_A/vis_A))\n",
    "    print (\"Group B conversion rate:{0:0.3f}\".format(buy_B/vis_B))"
   ]
  },
  {
   "cell_type": "markdown",
   "id": "e1f3630f",
   "metadata": {},
   "source": [
    "### 1. Conversion login:product page- proportion comparison"
   ]
  },
  {
   "cell_type": "code",
   "execution_count": 59,
   "id": "0f3a6323",
   "metadata": {},
   "outputs": [
    {
     "name": "stdout",
     "output_type": "stream",
     "text": [
      "Group A:\n",
      "  VisitorsA 2264\n",
      "  BuyersA 1474\n",
      "\n",
      "Group B:\n",
      "  VisitorsB 770\n",
      "  BuyersB 429\n",
      "P-Value:0.000\n",
      "Null hypothesis rejected: there is a significant difference between conversion rates\n",
      "Group A conversion rate:0.651\n",
      "Group B conversion rate:0.557\n"
     ]
    }
   ],
   "source": [
    "ztest_prop(stage0A, stage1A, stage0B, stage1B)"
   ]
  },
  {
   "cell_type": "markdown",
   "id": "327de5bc",
   "metadata": {},
   "source": [
    "- Results indicate that in the first stage of the funnel the conversion rate in our test group is significantly **LOWER** than the one seen in the control group. Out first hypothesis, therefore, has been rejected: The new system did not yield better conversion rates in the first stage of the funnel."
   ]
  },
  {
   "cell_type": "markdown",
   "id": "55ef778e",
   "metadata": {},
   "source": [
    "### 2. Conversion product page:product cart- proportion comparison"
   ]
  },
  {
   "cell_type": "code",
   "execution_count": 60,
   "id": "38e5f022",
   "metadata": {},
   "outputs": [
    {
     "name": "stdout",
     "output_type": "stream",
     "text": [
      "Group A:\n",
      "  VisitorsA 1474\n",
      "  BuyersA 685\n",
      "\n",
      "Group B:\n",
      "  VisitorsB 429\n",
      "  BuyersB 214\n",
      "P-Value:0.213\n",
      "Failed to reject the null hypothesis: there is no significant difference between the conversion rates\n",
      "Group A conversion rate:0.465\n",
      "Group B conversion rate:0.499\n"
     ]
    }
   ],
   "source": [
    "ztest_prop(stage1A, stage2A, stage1B, stage2B)"
   ]
  },
  {
   "cell_type": "markdown",
   "id": "198e4eca",
   "metadata": {},
   "source": [
    "### 3. Conversion product cart:purchase- proportion comparison"
   ]
  },
  {
   "cell_type": "code",
   "execution_count": 61,
   "id": "3c2b56f2",
   "metadata": {},
   "outputs": [
    {
     "name": "stdout",
     "output_type": "stream",
     "text": [
      "Group A:\n",
      "  VisitorsA 685\n",
      "  BuyersA 712\n",
      "\n",
      "Group B:\n",
      "  VisitorsB 214\n",
      "  BuyersB 219\n",
      "P-Value:nan\n",
      "Failed to reject the null hypothesis: there is no significant difference between the conversion rates\n",
      "Group A conversion rate:1.039\n",
      "Group B conversion rate:1.023\n"
     ]
    },
    {
     "name": "stderr",
     "output_type": "stream",
     "text": [
      "C:\\Users\\USER\\anaconda3\\lib\\site-packages\\statsmodels\\stats\\proportion.py:860: RuntimeWarning:\n",
      "\n",
      "invalid value encountered in sqrt\n",
      "\n"
     ]
    }
   ],
   "source": [
    "ztest_prop(stage2A, stage3A, stage2B, stage3B)"
   ]
  },
  {
   "cell_type": "markdown",
   "id": "268b4ab1",
   "metadata": {},
   "source": [
    "### 4. Overall conversion from login to purchase:\n"
   ]
  },
  {
   "cell_type": "code",
   "execution_count": 62,
   "id": "7ac4729b",
   "metadata": {},
   "outputs": [
    {
     "name": "stdout",
     "output_type": "stream",
     "text": [
      "Group A:\n",
      "  VisitorsA 2264\n",
      "  BuyersA 712\n",
      "\n",
      "Group B:\n",
      "  VisitorsB 770\n",
      "  BuyersB 219\n",
      "P-Value:0.118\n",
      "Failed to reject the null hypothesis: there is no significant difference between the conversion rates\n",
      "Group A conversion rate:0.314\n",
      "Group B conversion rate:0.284\n"
     ]
    }
   ],
   "source": [
    "ztest_prop(stage0A, stage3A, stage0B, stage3B)"
   ]
  },
  {
   "cell_type": "markdown",
   "id": "c2d1b60a",
   "metadata": {},
   "source": [
    "- In all other stages of the funnel, including the comparison of the first to the last stage, differences in the conversion rates were NOT found to be statistically significant. Hence, all our hypotheses were rejected- the new system does not yield better conversion results."
   ]
  },
  {
   "cell_type": "markdown",
   "id": "e0cb064e",
   "metadata": {},
   "source": [
    "## Conclusions:\n"
   ]
  },
  {
   "cell_type": "markdown",
   "id": "1ab079af",
   "metadata": {},
   "source": [
    "This A/B test dealt with the effectiveness, in terms of conversion rates, of a new system introduced into an international online store.\n",
    "The Control group was exposed the old payment funnel, and the test group- to the new one.\n",
    "The experiment ran for 2 weeks between the 7/12/20 and 1/1/21 (but from the 21/12/20 new users stopped being taken in).\n",
    "The participants were 7% of the new users from the EU region (not 15% as originally expected).\n",
    "The number of test participants was around 3000 (not 6000, as originally expected)\n",
    "\n",
    "The expected results were that within 14 days of signing up users will show at least a 10% increase in each stage of the funnel product_page → product_cart → purchase.\n",
    "\n",
    "Due to some errors in the collection of data, we had to exclude from the final sample quite a lot of data.\n",
    "**The preprocessing stage included a few stages:**\n",
    "1. Converting date and time variables to the right data type.\n",
    "2. Checking for missing values and duplicates (no duplicated, and no missing values).\n",
    "3. Filtering out data that did not match requirements: wrong regions, wrong date-range, wrong test.\n",
    "- filtering out the wrong test required a few stages, in which users from both groups (A and B) that participated in both tests were identified and filtered out as well. Also, filtering the wrong dates included removal of users that joined the site more than 14 days ago.\n",
    "4. After doing so, we did not find any users that were exposed to both test groups.\n",
    "5. We ended up with a much smaller sample than expected: 3035 users (2619 of which registered in the first two weeks). \n",
    "\n",
    "In the **exploratory data anlysis** we explored the two groups' funnels and the conversion rates between their stages, as well as measures such as the number of events per user and the dynamic of the number of events by time.\n",
    "\n",
    "- **The number of events per user** ranged between 1 and 24 (group A) and 1 to 28 (group B), with an average of 5.59 events per user in group B and 6.67- in group A.\n",
    "Compared with the control group, the test group (B) had a higher frequency of users with 1-5 events, the same amount of users performing 5 events, and a higher frequency of 10-event users. Between 12 and 20 events per user the lead went to group A, but, over 20 events per user we found a higher frequency of users in the B group (though an overall very low frequency).\n",
    "\n",
    "- **Daily number of events per group:**\n",
    "The daily number of events was distributed very differently from the 7th of Dec to the 21st. From this day on, though, the two groups follow similar trajectories all the way till the 31st.\n",
    "\n",
    "Group A: until the 13/12 the daily number of events was very low and stable (around 100). On the 13th there was a steep and gradual rise in the the number of daily events, that continues all the way to the 21st. From this day, both groups lost users.\n",
    "\n",
    "Group B: group B started the experiment with a total of 300 events a day. Yet, the group's trajectory was less stable than group A: The number of daily events fluctuates considerably, until the 21st, in which the number drops gradualy to 0.\n",
    "\n",
    "I assume that Christmass and New year have something to do with it. The marketing in EU, though, started only on the 25th and seemingly might have not affected the results.\n",
    "\n",
    "**Conversion wise we found that:**\n",
    "- 1. Some of the buyers skipped the cart stage of the funnel - there was probably an option on the product page for direct purchase.\n",
    "- 2. Conversion rates compared to the initial login stage: The largest difference between the funnels was in passing from login stage to product page. Group A managed to retain 65% of its users, whereas group B- only 56%.\n",
    "- 3. Conversion rates compared to the previous stage: looking at this indicator, we see a different picture- passing from the product page stage to the cart stage, group B retained 50% of its users, and group A- only 46.5%\n",
    "\n",
    "**The A/B testing** run was a z-test for proportions. The two groups were not found to statistically differ in their conversion rates from stage to stage in the the funnel. The only statistically difference was found between the login and the product page, but in the opposite direction.\n",
    "\n",
    "Taking these results into account, we cannot recommend adopting the new system, unless other measures besides conversion rate are assessd and proven differently.   \n"
   ]
  }
 ],
 "metadata": {
  "kernelspec": {
   "display_name": "Python 3 (ipykernel)",
   "language": "python",
   "name": "python3"
  },
  "language_info": {
   "codemirror_mode": {
    "name": "ipython",
    "version": 3
   },
   "file_extension": ".py",
   "mimetype": "text/x-python",
   "name": "python",
   "nbconvert_exporter": "python",
   "pygments_lexer": "ipython3",
   "version": "3.9.7"
  }
 },
 "nbformat": 4,
 "nbformat_minor": 5
}
